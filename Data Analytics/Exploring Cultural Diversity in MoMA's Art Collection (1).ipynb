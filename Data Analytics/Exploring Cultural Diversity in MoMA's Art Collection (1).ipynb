{
 "cells": [
  {
   "cell_type": "markdown",
   "id": "979eeec5",
   "metadata": {},
   "source": [
    "<hr style=\"border:1px solid black; width:98%\" />"
   ]
  },
  {
   "cell_type": "markdown",
   "id": "5ae3f47d",
   "metadata": {},
   "source": [
    "># Exploring Cultural Diversity in MoMA's Art Collection"
   ]
  },
  {
   "cell_type": "markdown",
   "id": "373b3d9f",
   "metadata": {},
   "source": [
    "<hr style=\"border:1px solid black; width:98%\" />"
   ]
  },
  {
   "cell_type": "markdown",
   "id": "28656fe6",
   "metadata": {},
   "source": [
    "## Introduction"
   ]
  },
  {
   "cell_type": "markdown",
   "id": "59c666c5",
   "metadata": {},
   "source": [
    "- MoMA, based in New York City, is renowned for its diverse and influential collection of modern and contemporary art.\n",
    "- With a mission to showcase the ever-evolving landscape of artistic expression, MoMA houses works that reflect the dynamism and diversity of the international art scene.\n",
    "- Understanding the cultural diversity within MoMA is essential for appreciating the global impact of artistic movements and informing curatorial decisions.\n"
   ]
  },
  {
   "cell_type": "markdown",
   "id": "7b89dad3",
   "metadata": {},
   "source": [
    "---"
   ]
  },
  {
   "cell_type": "markdown",
   "id": "f0650463",
   "metadata": {},
   "source": [
    "## Description of the dataset"
   ]
  },
  {
   "cell_type": "markdown",
   "id": "aee84413",
   "metadata": {},
   "source": [
    " MOMA has two different sets of dataset:\n",
    "- The Artists dataset contains 15,243 records, representing all the artists who have work in MoMA's collection.It includes basic metadata for each artist, including name, nationality, gender, birth year, death year, Wiki QID, and Getty ULAN ID.  \n",
    "- The Artworks dataset contains 140,848 records, representing all of the works that have been accessioned into MoMA’s collection. It includes basic metadata for each work, including title, artist, date made, medium, dimensions, and date acquired by the Museum "
   ]
  },
  {
   "cell_type": "markdown",
   "id": "8bf54ec3",
   "metadata": {},
   "source": [
    "---"
   ]
  },
  {
   "cell_type": "markdown",
   "id": "eaff77b5",
   "metadata": {},
   "source": [
    "## Problem statement"
   ]
  },
  {
   "cell_type": "markdown",
   "id": "8a965d54",
   "metadata": {},
   "source": [
    "Analyze MoMA's collection to uncover geographical contributions and assess cross-cultural representation of artistic movements. Explore patterns and temporal trends to gain insights into cultural diversity within the collection."
   ]
  },
  {
   "cell_type": "markdown",
   "id": "323c0609",
   "metadata": {},
   "source": [
    "---"
   ]
  },
  {
   "cell_type": "markdown",
   "id": "20282382",
   "metadata": {},
   "source": [
    "## Observations"
   ]
  },
  {
   "cell_type": "markdown",
   "id": "efa4afad",
   "metadata": {},
   "source": [
    " - The merged dataset contains 131891 rows and 37 columns.\n",
    " - The data has a lot of missing values and requires a lot of cleaning\n",
    " - The unique values shows that the MOMA dataset contains information about 114 different countries.\n",
    " - MOMA dataset has a well kept record, the youngest artist they have was born in 2016 (just 8 year sold), which can be observed from the max value in statistical summary of birth years of artists\n",
    " - From the top nationalities graph it is observed that America has the maximum contribution to MOMA collection totalling to around 45%\n"
   ]
  },
  {
   "cell_type": "markdown",
   "id": "a2c5cee9",
   "metadata": {},
   "source": [
    "---"
   ]
  },
  {
   "cell_type": "markdown",
   "id": "20e0e13a",
   "metadata": {},
   "source": [
    "## Results and Inferences"
   ]
  },
  {
   "cell_type": "markdown",
   "id": "f8fd1fb4",
   "metadata": {},
   "source": [
    "### The analysis of top 5 nations on different aspects gave the following results\n",
    "\n",
    "#### Classification\n",
    ">Photographs and Prints show a domination in almost all the nationalities as these mediums offer versatile avenues for artistic expression, shaping collective memories and societal narratives across diverse cultural contexts.\n",
    "\n",
    "#### Credit Lines\n",
    ">Gifts are the most common way through which MOMA acquired its artworks. The acquisition patterns of these nations highlight their cultural values, traditions, and commitments to preserving and promoting artistic heritage through diverse avenues of support and investment.\n",
    "\n",
    "#### Temporal Trends\n",
    "> In America, the gradual decrease in the number of artists, especially between 1969 and 1971, may be attributed to various socio-economic and cultural factors. Economic recessions during this period could have led to reduced funding for the arts, resulting in fewer opportunities for artists and a decline in artistic production\n",
    "  \n",
    "> Conversely, the increase in the number of artists in Germany and France during the same period could be attributed to factors such as economic growth, increased government support for the arts, or cultural movements that encouraged artistic expression. \n",
    "\n",
    "#### Artists\n",
    "> The sparse representation of nations like Afghanistan, Iraq, Wales, the United Arab Emirates, and Bangladesh in the MoMA collection, with only one or two artists documented, may stem from factors such as historical conflicts, limited cultural resources, and challenges in accessing global art networks. These nations may face barriers to artistic visibility and recognition on the international stage due to structural inequalities and unequal power dynamics in the art world."
   ]
  },
  {
   "cell_type": "markdown",
   "id": "3e1bf30b",
   "metadata": {},
   "source": [
    "---"
   ]
  },
  {
   "cell_type": "markdown",
   "id": "79479a2a",
   "metadata": {},
   "source": [
    "## Conclusions"
   ]
  },
  {
   "cell_type": "markdown",
   "id": "f8dd66b7",
   "metadata": {},
   "source": [
    "The exploration of the MoMA dataset has offered valuable insights into the museum's collection, with a particular focus on artist nationality as a lens for understanding different trends. By analyzing the distribution of nationalities among artists and their contributions, we've uncovered diverse patterns in artistic representation and cultural heritage. Through interactive visualizations, we've delved into various aspects such as artwork classification, acquisition methods, and trends over time, shedding light on the interconnectedness and richness of global art scenes"
   ]
  },
  {
   "cell_type": "markdown",
   "id": "824e779a",
   "metadata": {},
   "source": [
    "---"
   ]
  },
  {
   "cell_type": "markdown",
   "id": "eda8c084",
   "metadata": {},
   "source": [
    "## References"
   ]
  },
  {
   "cell_type": "markdown",
   "id": "7b9051fa",
   "metadata": {},
   "source": [
    "- Documentation: https://medium.com/analytics-vidhya\n",
    "- Pandas: https://pandas.pydata.org/docs/\n",
    "- Matplotlib: https://matplotlib.org/stable/index.html\n",
    "- Seaborn: https://seaborn.pydata.org/\n",
    "- Plotly: https://plotly.com/python/\n",
    "- EDA: https://www.geeksforgeeks.org/exploratory-data-analysis-in-python/"
   ]
  },
  {
   "cell_type": "markdown",
   "id": "1fb841fc",
   "metadata": {},
   "source": [
    "---"
   ]
  },
  {
   "cell_type": "markdown",
   "id": "d6ba23e7",
   "metadata": {},
   "source": [
    "<hr style=\"border:1px solid black; width:98%\" />"
   ]
  },
  {
   "cell_type": "markdown",
   "id": "1d0430be",
   "metadata": {},
   "source": [
    "># *Beginning of EDA*"
   ]
  },
  {
   "cell_type": "markdown",
   "id": "48cc55ea",
   "metadata": {},
   "source": [
    "---"
   ]
  },
  {
   "cell_type": "markdown",
   "id": "dcc50e69",
   "metadata": {},
   "source": [
    "### Importing the required libraries"
   ]
  },
  {
   "cell_type": "code",
   "execution_count": 1,
   "id": "ebb4516d",
   "metadata": {},
   "outputs": [],
   "source": [
    "import pandas as pd\n",
    "import matplotlib.pyplot as plt\n",
    "import seaborn as sns\n",
    "import plotly.express as px\n",
    "import ipywidgets as widgets"
   ]
  },
  {
   "cell_type": "markdown",
   "id": "6fdd0e66",
   "metadata": {},
   "source": [
    "### Loading the datasets"
   ]
  },
  {
   "cell_type": "markdown",
   "id": "0c673abb",
   "metadata": {},
   "source": [
    "MOMA has two different datasets "
   ]
  },
  {
   "cell_type": "markdown",
   "id": "1fc58093",
   "metadata": {},
   "source": [
    "> The Artists dataset "
   ]
  },
  {
   "cell_type": "code",
   "execution_count": 49,
   "id": "f63a7071",
   "metadata": {},
   "outputs": [
    {
     "data": {
      "text/html": [
       "<div>\n",
       "<style scoped>\n",
       "    .dataframe tbody tr th:only-of-type {\n",
       "        vertical-align: middle;\n",
       "    }\n",
       "\n",
       "    .dataframe tbody tr th {\n",
       "        vertical-align: top;\n",
       "    }\n",
       "\n",
       "    .dataframe thead th {\n",
       "        text-align: right;\n",
       "    }\n",
       "</style>\n",
       "<table border=\"1\" class=\"dataframe\">\n",
       "  <thead>\n",
       "    <tr style=\"text-align: right;\">\n",
       "      <th></th>\n",
       "      <th>ConstituentID</th>\n",
       "      <th>DisplayName</th>\n",
       "      <th>ArtistBio</th>\n",
       "      <th>Nationality</th>\n",
       "      <th>Gender</th>\n",
       "      <th>BeginDate</th>\n",
       "      <th>EndDate</th>\n",
       "      <th>Wiki QID</th>\n",
       "      <th>ULAN</th>\n",
       "    </tr>\n",
       "  </thead>\n",
       "  <tbody>\n",
       "    <tr>\n",
       "      <th>0</th>\n",
       "      <td>1</td>\n",
       "      <td>Robert Arneson</td>\n",
       "      <td>American, 1930–1992</td>\n",
       "      <td>American</td>\n",
       "      <td>Male</td>\n",
       "      <td>1930</td>\n",
       "      <td>1992</td>\n",
       "      <td>NaN</td>\n",
       "      <td>NaN</td>\n",
       "    </tr>\n",
       "    <tr>\n",
       "      <th>1</th>\n",
       "      <td>2</td>\n",
       "      <td>Doroteo Arnaiz</td>\n",
       "      <td>Spanish, born 1936</td>\n",
       "      <td>Spanish</td>\n",
       "      <td>Male</td>\n",
       "      <td>1936</td>\n",
       "      <td>0</td>\n",
       "      <td>NaN</td>\n",
       "      <td>NaN</td>\n",
       "    </tr>\n",
       "    <tr>\n",
       "      <th>2</th>\n",
       "      <td>3</td>\n",
       "      <td>Bill Arnold</td>\n",
       "      <td>American, born 1941</td>\n",
       "      <td>American</td>\n",
       "      <td>Male</td>\n",
       "      <td>1941</td>\n",
       "      <td>0</td>\n",
       "      <td>NaN</td>\n",
       "      <td>NaN</td>\n",
       "    </tr>\n",
       "    <tr>\n",
       "      <th>3</th>\n",
       "      <td>4</td>\n",
       "      <td>Charles Arnoldi</td>\n",
       "      <td>American, born 1946</td>\n",
       "      <td>American</td>\n",
       "      <td>Male</td>\n",
       "      <td>1946</td>\n",
       "      <td>0</td>\n",
       "      <td>Q1063584</td>\n",
       "      <td>500027998.0</td>\n",
       "    </tr>\n",
       "    <tr>\n",
       "      <th>4</th>\n",
       "      <td>5</td>\n",
       "      <td>Per Arnoldi</td>\n",
       "      <td>Danish, born 1941</td>\n",
       "      <td>Danish</td>\n",
       "      <td>Male</td>\n",
       "      <td>1941</td>\n",
       "      <td>0</td>\n",
       "      <td>NaN</td>\n",
       "      <td>NaN</td>\n",
       "    </tr>\n",
       "  </tbody>\n",
       "</table>\n",
       "</div>"
      ],
      "text/plain": [
       "   ConstituentID      DisplayName            ArtistBio Nationality Gender  \\\n",
       "0              1   Robert Arneson  American, 1930–1992    American   Male   \n",
       "1              2   Doroteo Arnaiz   Spanish, born 1936     Spanish   Male   \n",
       "2              3      Bill Arnold  American, born 1941    American   Male   \n",
       "3              4  Charles Arnoldi  American, born 1946    American   Male   \n",
       "4              5      Per Arnoldi    Danish, born 1941      Danish   Male   \n",
       "\n",
       "   BeginDate  EndDate  Wiki QID         ULAN  \n",
       "0       1930     1992       NaN          NaN  \n",
       "1       1936        0       NaN          NaN  \n",
       "2       1941        0       NaN          NaN  \n",
       "3       1946        0  Q1063584  500027998.0  \n",
       "4       1941        0       NaN          NaN  "
      ]
     },
     "execution_count": 49,
     "metadata": {},
     "output_type": "execute_result"
    }
   ],
   "source": [
    "artists = pd.read_csv('datasets/Artists.txt')\n",
    "artists.head()"
   ]
  },
  {
   "cell_type": "markdown",
   "id": "9e50cdf5",
   "metadata": {},
   "source": [
    "> The Artworks dataset "
   ]
  },
  {
   "cell_type": "code",
   "execution_count": 50,
   "id": "cb373170",
   "metadata": {
    "scrolled": false
   },
   "outputs": [
    {
     "data": {
      "text/html": [
       "<div>\n",
       "<style scoped>\n",
       "    .dataframe tbody tr th:only-of-type {\n",
       "        vertical-align: middle;\n",
       "    }\n",
       "\n",
       "    .dataframe tbody tr th {\n",
       "        vertical-align: top;\n",
       "    }\n",
       "\n",
       "    .dataframe thead th {\n",
       "        text-align: right;\n",
       "    }\n",
       "</style>\n",
       "<table border=\"1\" class=\"dataframe\">\n",
       "  <thead>\n",
       "    <tr style=\"text-align: right;\">\n",
       "      <th></th>\n",
       "      <th>Title</th>\n",
       "      <th>Artist</th>\n",
       "      <th>ConstituentID</th>\n",
       "      <th>ArtistBio</th>\n",
       "      <th>Nationality</th>\n",
       "      <th>BeginDate</th>\n",
       "      <th>EndDate</th>\n",
       "      <th>Gender</th>\n",
       "      <th>Date</th>\n",
       "      <th>Medium</th>\n",
       "      <th>...</th>\n",
       "      <th>ThumbnailURL</th>\n",
       "      <th>Circumference (cm)</th>\n",
       "      <th>Depth (cm)</th>\n",
       "      <th>Diameter (cm)</th>\n",
       "      <th>Height (cm)</th>\n",
       "      <th>Length (cm)</th>\n",
       "      <th>Weight (kg)</th>\n",
       "      <th>Width (cm)</th>\n",
       "      <th>Seat Height (cm)</th>\n",
       "      <th>Duration (sec.)</th>\n",
       "    </tr>\n",
       "  </thead>\n",
       "  <tbody>\n",
       "    <tr>\n",
       "      <th>0</th>\n",
       "      <td>Ferdinandsbrücke Project, Vienna, Austria (Ele...</td>\n",
       "      <td>Otto Wagner</td>\n",
       "      <td>6210</td>\n",
       "      <td>(Austrian, 1841–1918)</td>\n",
       "      <td>(Austrian)</td>\n",
       "      <td>(1841)</td>\n",
       "      <td>(1918)</td>\n",
       "      <td>(Male)</td>\n",
       "      <td>1896</td>\n",
       "      <td>Ink and cut-and-pasted painted pages on paper</td>\n",
       "      <td>...</td>\n",
       "      <td>http://www.moma.org/media/W1siZiIsIjUyNzc3MCJd...</td>\n",
       "      <td>NaN</td>\n",
       "      <td>NaN</td>\n",
       "      <td>NaN</td>\n",
       "      <td>48.6000</td>\n",
       "      <td>NaN</td>\n",
       "      <td>NaN</td>\n",
       "      <td>168.9000</td>\n",
       "      <td>NaN</td>\n",
       "      <td>NaN</td>\n",
       "    </tr>\n",
       "    <tr>\n",
       "      <th>1</th>\n",
       "      <td>City of Music, National Superior Conservatory ...</td>\n",
       "      <td>Christian de Portzamparc</td>\n",
       "      <td>7470</td>\n",
       "      <td>(French, born 1944)</td>\n",
       "      <td>(French)</td>\n",
       "      <td>(1944)</td>\n",
       "      <td>(0)</td>\n",
       "      <td>(Male)</td>\n",
       "      <td>1987</td>\n",
       "      <td>Paint and colored pencil on print</td>\n",
       "      <td>...</td>\n",
       "      <td>http://www.moma.org/media/W1siZiIsIjUyNzM3NCJd...</td>\n",
       "      <td>NaN</td>\n",
       "      <td>NaN</td>\n",
       "      <td>NaN</td>\n",
       "      <td>40.6401</td>\n",
       "      <td>NaN</td>\n",
       "      <td>NaN</td>\n",
       "      <td>29.8451</td>\n",
       "      <td>NaN</td>\n",
       "      <td>NaN</td>\n",
       "    </tr>\n",
       "    <tr>\n",
       "      <th>2</th>\n",
       "      <td>Villa near Vienna Project, Outside Vienna, Aus...</td>\n",
       "      <td>Emil Hoppe</td>\n",
       "      <td>7605</td>\n",
       "      <td>(Austrian, 1876–1957)</td>\n",
       "      <td>(Austrian)</td>\n",
       "      <td>(1876)</td>\n",
       "      <td>(1957)</td>\n",
       "      <td>(Male)</td>\n",
       "      <td>1903</td>\n",
       "      <td>Graphite, pen, color pencil, ink, and gouache ...</td>\n",
       "      <td>...</td>\n",
       "      <td>http://www.moma.org/media/W1siZiIsIjUyNzM3NSJd...</td>\n",
       "      <td>NaN</td>\n",
       "      <td>NaN</td>\n",
       "      <td>NaN</td>\n",
       "      <td>34.3000</td>\n",
       "      <td>NaN</td>\n",
       "      <td>NaN</td>\n",
       "      <td>31.8000</td>\n",
       "      <td>NaN</td>\n",
       "      <td>NaN</td>\n",
       "    </tr>\n",
       "  </tbody>\n",
       "</table>\n",
       "<p>3 rows × 29 columns</p>\n",
       "</div>"
      ],
      "text/plain": [
       "                                               Title  \\\n",
       "0  Ferdinandsbrücke Project, Vienna, Austria (Ele...   \n",
       "1  City of Music, National Superior Conservatory ...   \n",
       "2  Villa near Vienna Project, Outside Vienna, Aus...   \n",
       "\n",
       "                     Artist ConstituentID              ArtistBio Nationality  \\\n",
       "0               Otto Wagner          6210  (Austrian, 1841–1918)  (Austrian)   \n",
       "1  Christian de Portzamparc          7470    (French, born 1944)    (French)   \n",
       "2                Emil Hoppe          7605  (Austrian, 1876–1957)  (Austrian)   \n",
       "\n",
       "  BeginDate EndDate  Gender  Date  \\\n",
       "0    (1841)  (1918)  (Male)  1896   \n",
       "1    (1944)     (0)  (Male)  1987   \n",
       "2    (1876)  (1957)  (Male)  1903   \n",
       "\n",
       "                                              Medium  ...  \\\n",
       "0      Ink and cut-and-pasted painted pages on paper  ...   \n",
       "1                  Paint and colored pencil on print  ...   \n",
       "2  Graphite, pen, color pencil, ink, and gouache ...  ...   \n",
       "\n",
       "                                        ThumbnailURL Circumference (cm)  \\\n",
       "0  http://www.moma.org/media/W1siZiIsIjUyNzc3MCJd...                NaN   \n",
       "1  http://www.moma.org/media/W1siZiIsIjUyNzM3NCJd...                NaN   \n",
       "2  http://www.moma.org/media/W1siZiIsIjUyNzM3NSJd...                NaN   \n",
       "\n",
       "  Depth (cm) Diameter (cm) Height (cm) Length (cm) Weight (kg)  Width (cm)  \\\n",
       "0        NaN           NaN     48.6000         NaN         NaN    168.9000   \n",
       "1        NaN           NaN     40.6401         NaN         NaN     29.8451   \n",
       "2        NaN           NaN     34.3000         NaN         NaN     31.8000   \n",
       "\n",
       "  Seat Height (cm) Duration (sec.)  \n",
       "0              NaN             NaN  \n",
       "1              NaN             NaN  \n",
       "2              NaN             NaN  \n",
       "\n",
       "[3 rows x 29 columns]"
      ]
     },
     "execution_count": 50,
     "metadata": {},
     "output_type": "execute_result"
    }
   ],
   "source": [
    "artworks = pd.read_csv('datasets/Artworks.txt')\n",
    "artworks.head(3)"
   ]
  },
  {
   "cell_type": "markdown",
   "id": "c1d5cfd9",
   "metadata": {},
   "source": [
    "---"
   ]
  },
  {
   "cell_type": "markdown",
   "id": "f5ace733",
   "metadata": {},
   "source": [
    "<hr style=\"border:1px solid black; width:98%\" />"
   ]
  },
  {
   "cell_type": "markdown",
   "id": "84421b4f",
   "metadata": {},
   "source": [
    "# Data cleaning"
   ]
  },
  {
   "cell_type": "markdown",
   "id": "4d6b34ae",
   "metadata": {},
   "source": [
    "---"
   ]
  },
  {
   "cell_type": "markdown",
   "id": "dc080105",
   "metadata": {},
   "source": [
    "> Merging the two datasets"
   ]
  },
  {
   "cell_type": "code",
   "execution_count": 51,
   "id": "e3719d9c",
   "metadata": {},
   "outputs": [],
   "source": [
    "artists['ConstituentID'] = artists['ConstituentID'].astype(str)"
   ]
  },
  {
   "cell_type": "code",
   "execution_count": 55,
   "id": "63bff8aa",
   "metadata": {},
   "outputs": [
    {
     "data": {
      "text/html": [
       "<div>\n",
       "<style scoped>\n",
       "    .dataframe tbody tr th:only-of-type {\n",
       "        vertical-align: middle;\n",
       "    }\n",
       "\n",
       "    .dataframe tbody tr th {\n",
       "        vertical-align: top;\n",
       "    }\n",
       "\n",
       "    .dataframe thead th {\n",
       "        text-align: right;\n",
       "    }\n",
       "</style>\n",
       "<table border=\"1\" class=\"dataframe\">\n",
       "  <thead>\n",
       "    <tr style=\"text-align: right;\">\n",
       "      <th></th>\n",
       "      <th>ConstituentID</th>\n",
       "      <th>DisplayName</th>\n",
       "      <th>ArtistBio_x</th>\n",
       "      <th>Nationality_x</th>\n",
       "      <th>Gender_x</th>\n",
       "      <th>BeginDate_x</th>\n",
       "      <th>EndDate_x</th>\n",
       "      <th>Wiki QID</th>\n",
       "      <th>ULAN</th>\n",
       "      <th>Title</th>\n",
       "      <th>...</th>\n",
       "      <th>ThumbnailURL</th>\n",
       "      <th>Circumference (cm)</th>\n",
       "      <th>Depth (cm)</th>\n",
       "      <th>Diameter (cm)</th>\n",
       "      <th>Height (cm)</th>\n",
       "      <th>Length (cm)</th>\n",
       "      <th>Weight (kg)</th>\n",
       "      <th>Width (cm)</th>\n",
       "      <th>Seat Height (cm)</th>\n",
       "      <th>Duration (sec.)</th>\n",
       "    </tr>\n",
       "  </thead>\n",
       "  <tbody>\n",
       "    <tr>\n",
       "      <th>0</th>\n",
       "      <td>1</td>\n",
       "      <td>Robert Arneson</td>\n",
       "      <td>American, 1930–1992</td>\n",
       "      <td>American</td>\n",
       "      <td>Male</td>\n",
       "      <td>1930</td>\n",
       "      <td>1992</td>\n",
       "      <td>NaN</td>\n",
       "      <td>NaN</td>\n",
       "      <td>Study for Head Bath</td>\n",
       "      <td>...</td>\n",
       "      <td>http://www.moma.org/media/W1siZiIsIjMwODE4MyJd...</td>\n",
       "      <td>NaN</td>\n",
       "      <td>NaN</td>\n",
       "      <td>NaN</td>\n",
       "      <td>105.7</td>\n",
       "      <td>NaN</td>\n",
       "      <td>NaN</td>\n",
       "      <td>75.9</td>\n",
       "      <td>NaN</td>\n",
       "      <td>NaN</td>\n",
       "    </tr>\n",
       "    <tr>\n",
       "      <th>1</th>\n",
       "      <td>1</td>\n",
       "      <td>Robert Arneson</td>\n",
       "      <td>American, 1930–1992</td>\n",
       "      <td>American</td>\n",
       "      <td>Male</td>\n",
       "      <td>1930</td>\n",
       "      <td>1992</td>\n",
       "      <td>NaN</td>\n",
       "      <td>NaN</td>\n",
       "      <td>General Nuke</td>\n",
       "      <td>...</td>\n",
       "      <td>NaN</td>\n",
       "      <td>NaN</td>\n",
       "      <td>NaN</td>\n",
       "      <td>NaN</td>\n",
       "      <td>80.5</td>\n",
       "      <td>NaN</td>\n",
       "      <td>NaN</td>\n",
       "      <td>59.2</td>\n",
       "      <td>NaN</td>\n",
       "      <td>NaN</td>\n",
       "    </tr>\n",
       "    <tr>\n",
       "      <th>2</th>\n",
       "      <td>2</td>\n",
       "      <td>Doroteo Arnaiz</td>\n",
       "      <td>Spanish, born 1936</td>\n",
       "      <td>Spanish</td>\n",
       "      <td>Male</td>\n",
       "      <td>1936</td>\n",
       "      <td>0</td>\n",
       "      <td>NaN</td>\n",
       "      <td>NaN</td>\n",
       "      <td>BAS-RELIEF</td>\n",
       "      <td>...</td>\n",
       "      <td>NaN</td>\n",
       "      <td>NaN</td>\n",
       "      <td>NaN</td>\n",
       "      <td>NaN</td>\n",
       "      <td>54.7</td>\n",
       "      <td>NaN</td>\n",
       "      <td>NaN</td>\n",
       "      <td>39.7</td>\n",
       "      <td>NaN</td>\n",
       "      <td>NaN</td>\n",
       "    </tr>\n",
       "  </tbody>\n",
       "</table>\n",
       "<p>3 rows × 37 columns</p>\n",
       "</div>"
      ],
      "text/plain": [
       "  ConstituentID     DisplayName          ArtistBio_x Nationality_x Gender_x  \\\n",
       "0             1  Robert Arneson  American, 1930–1992      American     Male   \n",
       "1             1  Robert Arneson  American, 1930–1992      American     Male   \n",
       "2             2  Doroteo Arnaiz   Spanish, born 1936       Spanish     Male   \n",
       "\n",
       "   BeginDate_x  EndDate_x Wiki QID  ULAN                Title  ...  \\\n",
       "0         1930       1992      NaN   NaN  Study for Head Bath  ...   \n",
       "1         1930       1992      NaN   NaN         General Nuke  ...   \n",
       "2         1936          0      NaN   NaN           BAS-RELIEF  ...   \n",
       "\n",
       "                                        ThumbnailURL Circumference (cm)  \\\n",
       "0  http://www.moma.org/media/W1siZiIsIjMwODE4MyJd...                NaN   \n",
       "1                                                NaN                NaN   \n",
       "2                                                NaN                NaN   \n",
       "\n",
       "  Depth (cm) Diameter (cm) Height (cm) Length (cm) Weight (kg) Width (cm)  \\\n",
       "0        NaN           NaN       105.7         NaN         NaN       75.9   \n",
       "1        NaN           NaN        80.5         NaN         NaN       59.2   \n",
       "2        NaN           NaN        54.7         NaN         NaN       39.7   \n",
       "\n",
       "  Seat Height (cm) Duration (sec.)  \n",
       "0              NaN             NaN  \n",
       "1              NaN             NaN  \n",
       "2              NaN             NaN  \n",
       "\n",
       "[3 rows x 37 columns]"
      ]
     },
     "execution_count": 55,
     "metadata": {},
     "output_type": "execute_result"
    }
   ],
   "source": [
    "merged_df = pd.merge(artists, artworks, on='ConstituentID')\n",
    "merged_df.head(3)"
   ]
  },
  {
   "cell_type": "markdown",
   "id": "0f42c35f",
   "metadata": {},
   "source": [
    "> Unique values in the dataset"
   ]
  },
  {
   "cell_type": "code",
   "execution_count": 53,
   "id": "f7998bd6",
   "metadata": {},
   "outputs": [
    {
     "data": {
      "text/plain": [
       "ConstituentID          11163\n",
       "DisplayName            11125\n",
       "ArtistBio_x             6206\n",
       "Nationality_x            114\n",
       "Gender_x                   6\n",
       "BeginDate_x              221\n",
       "EndDate_x                168\n",
       "Wiki QID                3092\n",
       "ULAN                    2827\n",
       "Title                  93387\n",
       "Artist                 11125\n",
       "ArtistBio_y             6206\n",
       "Nationality_y            115\n",
       "BeginDate_y              221\n",
       "EndDate_y                168\n",
       "Gender_y                   7\n",
       "Date                    8521\n",
       "Medium                 19899\n",
       "Dimensions             81522\n",
       "CreditLine              6954\n",
       "AccessionNumber       131891\n",
       "Classification            35\n",
       "Department                 8\n",
       "DateAcquired            1678\n",
       "Cataloged                  2\n",
       "ObjectID              131891\n",
       "URL                    88580\n",
       "ThumbnailURL           78173\n",
       "Circumference (cm)         9\n",
       "Depth (cm)              1286\n",
       "Diameter (cm)            491\n",
       "Height (cm)             3782\n",
       "Length (cm)              364\n",
       "Weight (kg)              199\n",
       "Width (cm)              3806\n",
       "Seat Height (cm)           0\n",
       "Duration (sec.)          602\n",
       "dtype: int64"
      ]
     },
     "execution_count": 53,
     "metadata": {},
     "output_type": "execute_result"
    }
   ],
   "source": [
    "merged_df.nunique()"
   ]
  },
  {
   "cell_type": "code",
   "execution_count": 6,
   "id": "22b507cc",
   "metadata": {},
   "outputs": [
    {
     "data": {
      "text/plain": [
       "Index(['ConstituentID', 'DisplayName', 'ArtistBio_x', 'Nationality_x',\n",
       "       'Gender_x', 'BeginDate_x', 'EndDate_x', 'Wiki QID', 'ULAN', 'Title',\n",
       "       'Artist', 'ArtistBio_y', 'Nationality_y', 'BeginDate_y', 'EndDate_y',\n",
       "       'Gender_y', 'Date', 'Medium', 'Dimensions', 'CreditLine',\n",
       "       'AccessionNumber', 'Classification', 'Department', 'DateAcquired',\n",
       "       'Cataloged', 'ObjectID', 'URL', 'ThumbnailURL', 'Circumference (cm)',\n",
       "       'Depth (cm)', 'Diameter (cm)', 'Height (cm)', 'Length (cm)',\n",
       "       'Weight (kg)', 'Width (cm)', 'Seat Height (cm)', 'Duration (sec.)'],\n",
       "      dtype='object')"
      ]
     },
     "execution_count": 6,
     "metadata": {},
     "output_type": "execute_result"
    }
   ],
   "source": [
    "merged_df.columns"
   ]
  },
  {
   "cell_type": "markdown",
   "id": "a8c3b708",
   "metadata": {},
   "source": [
    "> It is observed that the column names 'BeginDate' and 'EndDate'in the MoMA dataset are somewhat confusing, representing the birth and death years of artists. To enhance clarity, renaming these columns to 'Birth_year' and 'Death_year' respectively, and also renaming 'Date' and 'CreditLine 'column"
   ]
  },
  {
   "cell_type": "code",
   "execution_count": 7,
   "id": "3bf0ec75",
   "metadata": {},
   "outputs": [],
   "source": [
    "merged_df.rename(columns= {'BeginDate_x':'Birth_year','EndDate_x':'Death_year','Date':'Date_acquired',\n",
    "                           'CreditLine':'Acquired_through'},inplace=True)"
   ]
  },
  {
   "cell_type": "markdown",
   "id": "4ff21381",
   "metadata": {},
   "source": [
    "> - As per the problem statement, in the  dataset, columns like ThumbnailURL, Circumference (cm), Depth (cm), Diameter (cm), Height (cm), Length (cm), Weight (kg) ,Width (cm), Seat Height (cm), Duration, Wiki QID, ULAN are not required.  \n",
    "> - And there are certain columns which have the same values like birth_year, death_year, gender, nationality etc but are appearing as different columns because their values in the artworks dataset were enclosed within parentheses whereas in artists dataset it is written without parentheses  \n",
    "> Droping these columns:"
   ]
  },
  {
   "cell_type": "code",
   "execution_count": 8,
   "id": "d3158a28",
   "metadata": {
    "scrolled": false
   },
   "outputs": [
    {
     "data": {
      "text/html": [
       "<div>\n",
       "<style scoped>\n",
       "    .dataframe tbody tr th:only-of-type {\n",
       "        vertical-align: middle;\n",
       "    }\n",
       "\n",
       "    .dataframe tbody tr th {\n",
       "        vertical-align: top;\n",
       "    }\n",
       "\n",
       "    .dataframe thead th {\n",
       "        text-align: right;\n",
       "    }\n",
       "</style>\n",
       "<table border=\"1\" class=\"dataframe\">\n",
       "  <thead>\n",
       "    <tr style=\"text-align: right;\">\n",
       "      <th></th>\n",
       "      <th>ConstituentID</th>\n",
       "      <th>DisplayName</th>\n",
       "      <th>Nationality_x</th>\n",
       "      <th>Gender_x</th>\n",
       "      <th>Birth_year</th>\n",
       "      <th>Death_year</th>\n",
       "      <th>Title</th>\n",
       "      <th>Date_acquired</th>\n",
       "      <th>Medium</th>\n",
       "      <th>Acquired_through</th>\n",
       "      <th>Classification</th>\n",
       "      <th>Department</th>\n",
       "    </tr>\n",
       "  </thead>\n",
       "  <tbody>\n",
       "    <tr>\n",
       "      <th>0</th>\n",
       "      <td>1</td>\n",
       "      <td>Robert Arneson</td>\n",
       "      <td>American</td>\n",
       "      <td>Male</td>\n",
       "      <td>1930</td>\n",
       "      <td>1992</td>\n",
       "      <td>Study for Head Bath</td>\n",
       "      <td>1977</td>\n",
       "      <td>Conté crayon and pencil on paper</td>\n",
       "      <td>Gift of the Friends of Contemporary Drawing</td>\n",
       "      <td>Drawing</td>\n",
       "      <td>Drawings &amp; Prints</td>\n",
       "    </tr>\n",
       "    <tr>\n",
       "      <th>1</th>\n",
       "      <td>1</td>\n",
       "      <td>Robert Arneson</td>\n",
       "      <td>American</td>\n",
       "      <td>Male</td>\n",
       "      <td>1930</td>\n",
       "      <td>1992</td>\n",
       "      <td>General Nuke</td>\n",
       "      <td>1986</td>\n",
       "      <td>Lithograph</td>\n",
       "      <td>Gift of Landfall Press</td>\n",
       "      <td>Print</td>\n",
       "      <td>Drawings &amp; Prints</td>\n",
       "    </tr>\n",
       "    <tr>\n",
       "      <th>2</th>\n",
       "      <td>2</td>\n",
       "      <td>Doroteo Arnaiz</td>\n",
       "      <td>Spanish</td>\n",
       "      <td>Male</td>\n",
       "      <td>1936</td>\n",
       "      <td>0</td>\n",
       "      <td>BAS-RELIEF</td>\n",
       "      <td>NaN</td>\n",
       "      <td>Etching, printed in color</td>\n",
       "      <td>Gift of the artist</td>\n",
       "      <td>Print</td>\n",
       "      <td>Drawings &amp; Prints</td>\n",
       "    </tr>\n",
       "  </tbody>\n",
       "</table>\n",
       "</div>"
      ],
      "text/plain": [
       "  ConstituentID     DisplayName Nationality_x Gender_x  Birth_year  \\\n",
       "0             1  Robert Arneson      American     Male        1930   \n",
       "1             1  Robert Arneson      American     Male        1930   \n",
       "2             2  Doroteo Arnaiz       Spanish     Male        1936   \n",
       "\n",
       "   Death_year                Title Date_acquired  \\\n",
       "0        1992  Study for Head Bath          1977   \n",
       "1        1992         General Nuke          1986   \n",
       "2           0           BAS-RELIEF           NaN   \n",
       "\n",
       "                             Medium  \\\n",
       "0  Conté crayon and pencil on paper   \n",
       "1                        Lithograph   \n",
       "2         Etching, printed in color   \n",
       "\n",
       "                              Acquired_through Classification  \\\n",
       "0  Gift of the Friends of Contemporary Drawing        Drawing   \n",
       "1                       Gift of Landfall Press          Print   \n",
       "2                           Gift of the artist          Print   \n",
       "\n",
       "          Department  \n",
       "0  Drawings & Prints  \n",
       "1  Drawings & Prints  \n",
       "2  Drawings & Prints  "
      ]
     },
     "execution_count": 8,
     "metadata": {},
     "output_type": "execute_result"
    }
   ],
   "source": [
    "columns_to_drop = [ 'ThumbnailURL', 'Circumference (cm)', 'Depth (cm)', 'Diameter (cm)', 'Height (cm)',\n",
    "                   'Length (cm)', 'Weight (kg)' ,'Width (cm)', 'Seat Height (cm)','Duration (sec.)','URL','Dimensions',\n",
    "                    'DateAcquired','ObjectID','Cataloged','AccessionNumber','Wiki QID', 'ULAN', \n",
    "                   'Nationality_y', 'BeginDate_y', 'EndDate_y','Gender_y','ArtistBio_x','ArtistBio_y','Artist']\n",
    "merged_df.drop(columns = columns_to_drop, inplace = True)\n",
    "merged_df.head(3)"
   ]
  },
  {
   "cell_type": "markdown",
   "id": "b0799e6d",
   "metadata": {},
   "source": [
    "> Statistical summary"
   ]
  },
  {
   "cell_type": "code",
   "execution_count": 9,
   "id": "a6758bd3",
   "metadata": {},
   "outputs": [
    {
     "data": {
      "text/html": [
       "<div>\n",
       "<style scoped>\n",
       "    .dataframe tbody tr th:only-of-type {\n",
       "        vertical-align: middle;\n",
       "    }\n",
       "\n",
       "    .dataframe tbody tr th {\n",
       "        vertical-align: top;\n",
       "    }\n",
       "\n",
       "    .dataframe thead th {\n",
       "        text-align: right;\n",
       "    }\n",
       "</style>\n",
       "<table border=\"1\" class=\"dataframe\">\n",
       "  <thead>\n",
       "    <tr style=\"text-align: right;\">\n",
       "      <th></th>\n",
       "      <th>Birth_year</th>\n",
       "      <th>Death_year</th>\n",
       "    </tr>\n",
       "  </thead>\n",
       "  <tbody>\n",
       "    <tr>\n",
       "      <th>count</th>\n",
       "      <td>131891.000000</td>\n",
       "      <td>131891.000000</td>\n",
       "    </tr>\n",
       "    <tr>\n",
       "      <th>mean</th>\n",
       "      <td>1795.317209</td>\n",
       "      <td>1293.636882</td>\n",
       "    </tr>\n",
       "    <tr>\n",
       "      <th>std</th>\n",
       "      <td>458.698569</td>\n",
       "      <td>938.091925</td>\n",
       "    </tr>\n",
       "    <tr>\n",
       "      <th>min</th>\n",
       "      <td>0.000000</td>\n",
       "      <td>0.000000</td>\n",
       "    </tr>\n",
       "    <tr>\n",
       "      <th>25%</th>\n",
       "      <td>1881.000000</td>\n",
       "      <td>0.000000</td>\n",
       "    </tr>\n",
       "    <tr>\n",
       "      <th>50%</th>\n",
       "      <td>1911.000000</td>\n",
       "      <td>1953.000000</td>\n",
       "    </tr>\n",
       "    <tr>\n",
       "      <th>75%</th>\n",
       "      <td>1937.000000</td>\n",
       "      <td>1986.000000</td>\n",
       "    </tr>\n",
       "    <tr>\n",
       "      <th>max</th>\n",
       "      <td>2016.000000</td>\n",
       "      <td>2022.000000</td>\n",
       "    </tr>\n",
       "  </tbody>\n",
       "</table>\n",
       "</div>"
      ],
      "text/plain": [
       "          Birth_year     Death_year\n",
       "count  131891.000000  131891.000000\n",
       "mean     1795.317209    1293.636882\n",
       "std       458.698569     938.091925\n",
       "min         0.000000       0.000000\n",
       "25%      1881.000000       0.000000\n",
       "50%      1911.000000    1953.000000\n",
       "75%      1937.000000    1986.000000\n",
       "max      2016.000000    2022.000000"
      ]
     },
     "execution_count": 9,
     "metadata": {},
     "output_type": "execute_result"
    }
   ],
   "source": [
    "merged_df.describe()"
   ]
  },
  {
   "cell_type": "code",
   "execution_count": 10,
   "id": "d1c9bd97",
   "metadata": {},
   "outputs": [
    {
     "name": "stdout",
     "output_type": "stream",
     "text": [
      "<class 'pandas.core.frame.DataFrame'>\n",
      "RangeIndex: 131891 entries, 0 to 131890\n",
      "Data columns (total 12 columns):\n",
      " #   Column            Non-Null Count   Dtype \n",
      "---  ------            --------------   ----- \n",
      " 0   ConstituentID     131891 non-null  object\n",
      " 1   DisplayName       131891 non-null  object\n",
      " 2   Nationality_x     126885 non-null  object\n",
      " 3   Gender_x          124531 non-null  object\n",
      " 4   Birth_year        131891 non-null  int64 \n",
      " 5   Death_year        131891 non-null  int64 \n",
      " 6   Title             131870 non-null  object\n",
      " 7   Date_acquired     130414 non-null  object\n",
      " 8   Medium            123080 non-null  object\n",
      " 9   Acquired_through  130087 non-null  object\n",
      " 10  Classification    131890 non-null  object\n",
      " 11  Department        131891 non-null  object\n",
      "dtypes: int64(2), object(10)\n",
      "memory usage: 12.1+ MB\n"
     ]
    }
   ],
   "source": [
    "merged_df.info()"
   ]
  },
  {
   "cell_type": "markdown",
   "id": "9674f1c2",
   "metadata": {},
   "source": [
    "> Droping the rows which have null values"
   ]
  },
  {
   "cell_type": "code",
   "execution_count": 11,
   "id": "7e8bfc54",
   "metadata": {},
   "outputs": [],
   "source": [
    "merged_df.dropna(inplace = True)"
   ]
  },
  {
   "cell_type": "markdown",
   "id": "cc361aba",
   "metadata": {},
   "source": [
    "> Extracting key terms from the 'Acquired_through' column to simplify and streamline analysis. "
   ]
  },
  {
   "cell_type": "code",
   "execution_count": 12,
   "id": "c6bef498",
   "metadata": {},
   "outputs": [],
   "source": [
    "for index,row in merged_df.iterrows():\n",
    "    credit_line = row['Acquired_through']\n",
    "    if 'gift' in credit_line.lower():\n",
    "        merged_df.at[index, 'Acquired_through'] = 'Gift'\n",
    "    elif 'fund' in credit_line.lower():\n",
    "        merged_df.at[index, 'Acquired_through'] = 'Fund'  \n",
    "    elif 'collection' in credit_line.lower():\n",
    "        merged_df.at[index, 'Acquired_through'] = 'Collection' "
   ]
  },
  {
   "cell_type": "markdown",
   "id": "be6cd292",
   "metadata": {},
   "source": [
    "<hr style=\"border:1px solid black; width:98%\" />"
   ]
  },
  {
   "cell_type": "markdown",
   "id": "9d6cf27e",
   "metadata": {},
   "source": [
    "---"
   ]
  },
  {
   "cell_type": "markdown",
   "id": "3267811b",
   "metadata": {},
   "source": [
    "# Data Visualization"
   ]
  },
  {
   "cell_type": "markdown",
   "id": "ac1586c8",
   "metadata": {},
   "source": [
    "---"
   ]
  },
  {
   "cell_type": "markdown",
   "id": "dfce9468",
   "metadata": {},
   "source": [
    ">## Choropleth Map:\n",
    "> Purpose: Visualize geographical distribution."
   ]
  },
  {
   "cell_type": "code",
   "execution_count": 58,
   "id": "62f521ba",
   "metadata": {},
   "outputs": [
    {
     "data": {
      "application/vnd.plotly.v1+json": {
       "config": {
        "plotlyServerURL": "https://plot.ly"
       },
       "data": [
        {
         "colorscale": [
          [
           0,
           "#636efa"
          ],
          [
           1,
           "#636efa"
          ]
         ],
         "customdata": [
          [
           "Afghan",
           1
          ]
         ],
         "geo": "geo",
         "hovertemplate": "Nationality=%{customdata[0]}<br>Number of Contributions=%{customdata[1]}<extra></extra>",
         "locationmode": "country names",
         "locations": [
          "Afghan"
         ],
         "name": "Afghan",
         "showlegend": true,
         "showscale": false,
         "type": "choropleth",
         "z": [
          1
         ]
        },
        {
         "colorscale": [
          [
           0,
           "#EF553B"
          ],
          [
           1,
           "#EF553B"
          ]
         ],
         "customdata": [
          [
           "Albanian",
           21
          ]
         ],
         "geo": "geo",
         "hovertemplate": "Nationality=%{customdata[0]}<br>Number of Contributions=%{customdata[1]}<extra></extra>",
         "locationmode": "country names",
         "locations": [
          "Albanian"
         ],
         "name": "Albanian",
         "showlegend": true,
         "showscale": false,
         "type": "choropleth",
         "z": [
          1
         ]
        },
        {
         "colorscale": [
          [
           0,
           "#00cc96"
          ],
          [
           1,
           "#00cc96"
          ]
         ],
         "customdata": [
          [
           "Algerian",
           3
          ]
         ],
         "geo": "geo",
         "hovertemplate": "Nationality=%{customdata[0]}<br>Number of Contributions=%{customdata[1]}<extra></extra>",
         "locationmode": "country names",
         "locations": [
          "Algerian"
         ],
         "name": "Algerian",
         "showlegend": true,
         "showscale": false,
         "type": "choropleth",
         "z": [
          1
         ]
        },
        {
         "colorscale": [
          [
           0,
           "#ab63fa"
          ],
          [
           1,
           "#ab63fa"
          ]
         ],
         "customdata": [
          [
           "American",
           58388
          ]
         ],
         "geo": "geo",
         "hovertemplate": "Nationality=%{customdata[0]}<br>Number of Contributions=%{customdata[1]}<extra></extra>",
         "locationmode": "country names",
         "locations": [
          "American"
         ],
         "name": "American",
         "showlegend": true,
         "showscale": false,
         "type": "choropleth",
         "z": [
          1
         ]
        },
        {
         "colorscale": [
          [
           0,
           "#FFA15A"
          ],
          [
           1,
           "#FFA15A"
          ]
         ],
         "customdata": [
          [
           "Argentine",
           864
          ]
         ],
         "geo": "geo",
         "hovertemplate": "Nationality=%{customdata[0]}<br>Number of Contributions=%{customdata[1]}<extra></extra>",
         "locationmode": "country names",
         "locations": [
          "Argentine"
         ],
         "name": "Argentine",
         "showlegend": true,
         "showscale": false,
         "type": "choropleth",
         "z": [
          1
         ]
        },
        {
         "colorscale": [
          [
           0,
           "#19d3f3"
          ],
          [
           1,
           "#19d3f3"
          ]
         ],
         "customdata": [
          [
           "Australian",
           253
          ]
         ],
         "geo": "geo",
         "hovertemplate": "Nationality=%{customdata[0]}<br>Number of Contributions=%{customdata[1]}<extra></extra>",
         "locationmode": "country names",
         "locations": [
          "Australian"
         ],
         "name": "Australian",
         "showlegend": true,
         "showscale": false,
         "type": "choropleth",
         "z": [
          1
         ]
        },
        {
         "colorscale": [
          [
           0,
           "#FF6692"
          ],
          [
           1,
           "#FF6692"
          ]
         ],
         "customdata": [
          [
           "Austrian",
           881
          ]
         ],
         "geo": "geo",
         "hovertemplate": "Nationality=%{customdata[0]}<br>Number of Contributions=%{customdata[1]}<extra></extra>",
         "locationmode": "country names",
         "locations": [
          "Austrian"
         ],
         "name": "Austrian",
         "showlegend": true,
         "showscale": false,
         "type": "choropleth",
         "z": [
          1
         ]
        },
        {
         "colorscale": [
          [
           0,
           "#B6E880"
          ],
          [
           1,
           "#B6E880"
          ]
         ],
         "customdata": [
          [
           "Azerbaijani",
           2
          ]
         ],
         "geo": "geo",
         "hovertemplate": "Nationality=%{customdata[0]}<br>Number of Contributions=%{customdata[1]}<extra></extra>",
         "locationmode": "country names",
         "locations": [
          "Azerbaijani"
         ],
         "name": "Azerbaijani",
         "showlegend": true,
         "showscale": false,
         "type": "choropleth",
         "z": [
          1
         ]
        },
        {
         "colorscale": [
          [
           0,
           "#FF97FF"
          ],
          [
           1,
           "#FF97FF"
          ]
         ],
         "customdata": [
          [
           "Bahamian",
           3
          ]
         ],
         "geo": "geo",
         "hovertemplate": "Nationality=%{customdata[0]}<br>Number of Contributions=%{customdata[1]}<extra></extra>",
         "locationmode": "country names",
         "locations": [
          "Bahamian"
         ],
         "name": "Bahamian",
         "showlegend": true,
         "showscale": false,
         "type": "choropleth",
         "z": [
          1
         ]
        },
        {
         "colorscale": [
          [
           0,
           "#FECB52"
          ],
          [
           1,
           "#FECB52"
          ]
         ],
         "customdata": [
          [
           "Bangladeshi",
           2
          ]
         ],
         "geo": "geo",
         "hovertemplate": "Nationality=%{customdata[0]}<br>Number of Contributions=%{customdata[1]}<extra></extra>",
         "locationmode": "country names",
         "locations": [
          "Bangladeshi"
         ],
         "name": "Bangladeshi",
         "showlegend": true,
         "showscale": false,
         "type": "choropleth",
         "z": [
          1
         ]
        },
        {
         "colorscale": [
          [
           0,
           "#636efa"
          ],
          [
           1,
           "#636efa"
          ]
         ],
         "customdata": [
          [
           "Belgian",
           1463
          ]
         ],
         "geo": "geo",
         "hovertemplate": "Nationality=%{customdata[0]}<br>Number of Contributions=%{customdata[1]}<extra></extra>",
         "locationmode": "country names",
         "locations": [
          "Belgian"
         ],
         "name": "Belgian",
         "showlegend": true,
         "showscale": false,
         "type": "choropleth",
         "z": [
          1
         ]
        },
        {
         "colorscale": [
          [
           0,
           "#EF553B"
          ],
          [
           1,
           "#EF553B"
          ]
         ],
         "customdata": [
          [
           "Beninese",
           3
          ]
         ],
         "geo": "geo",
         "hovertemplate": "Nationality=%{customdata[0]}<br>Number of Contributions=%{customdata[1]}<extra></extra>",
         "locationmode": "country names",
         "locations": [
          "Beninese"
         ],
         "name": "Beninese",
         "showlegend": true,
         "showscale": false,
         "type": "choropleth",
         "z": [
          1
         ]
        },
        {
         "colorscale": [
          [
           0,
           "#00cc96"
          ],
          [
           1,
           "#00cc96"
          ]
         ],
         "customdata": [
          [
           "Bolivian",
           4
          ]
         ],
         "geo": "geo",
         "hovertemplate": "Nationality=%{customdata[0]}<br>Number of Contributions=%{customdata[1]}<extra></extra>",
         "locationmode": "country names",
         "locations": [
          "Bolivian"
         ],
         "name": "Bolivian",
         "showlegend": true,
         "showscale": false,
         "type": "choropleth",
         "z": [
          1
         ]
        },
        {
         "colorscale": [
          [
           0,
           "#ab63fa"
          ],
          [
           1,
           "#ab63fa"
          ]
         ],
         "customdata": [
          [
           "Bosnian",
           19
          ]
         ],
         "geo": "geo",
         "hovertemplate": "Nationality=%{customdata[0]}<br>Number of Contributions=%{customdata[1]}<extra></extra>",
         "locationmode": "country names",
         "locations": [
          "Bosnian"
         ],
         "name": "Bosnian",
         "showlegend": true,
         "showscale": false,
         "type": "choropleth",
         "z": [
          1
         ]
        },
        {
         "colorscale": [
          [
           0,
           "#FFA15A"
          ],
          [
           1,
           "#FFA15A"
          ]
         ],
         "customdata": [
          [
           "Brazilian",
           836
          ]
         ],
         "geo": "geo",
         "hovertemplate": "Nationality=%{customdata[0]}<br>Number of Contributions=%{customdata[1]}<extra></extra>",
         "locationmode": "country names",
         "locations": [
          "Brazilian"
         ],
         "name": "Brazilian",
         "showlegend": true,
         "showscale": false,
         "type": "choropleth",
         "z": [
          1
         ]
        },
        {
         "colorscale": [
          [
           0,
           "#19d3f3"
          ],
          [
           1,
           "#19d3f3"
          ]
         ],
         "customdata": [
          [
           "British",
           5659
          ]
         ],
         "geo": "geo",
         "hovertemplate": "Nationality=%{customdata[0]}<br>Number of Contributions=%{customdata[1]}<extra></extra>",
         "locationmode": "country names",
         "locations": [
          "British"
         ],
         "name": "British",
         "showlegend": true,
         "showscale": false,
         "type": "choropleth",
         "z": [
          1
         ]
        },
        {
         "colorscale": [
          [
           0,
           "#FF6692"
          ],
          [
           1,
           "#FF6692"
          ]
         ],
         "customdata": [
          [
           "Bulgarian",
           12
          ]
         ],
         "geo": "geo",
         "hovertemplate": "Nationality=%{customdata[0]}<br>Number of Contributions=%{customdata[1]}<extra></extra>",
         "locationmode": "country names",
         "locations": [
          "Bulgarian"
         ],
         "name": "Bulgarian",
         "showlegend": true,
         "showscale": false,
         "type": "choropleth",
         "z": [
          1
         ]
        },
        {
         "colorscale": [
          [
           0,
           "#B6E880"
          ],
          [
           1,
           "#B6E880"
          ]
         ],
         "customdata": [
          [
           "Burkinabé",
           26
          ]
         ],
         "geo": "geo",
         "hovertemplate": "Nationality=%{customdata[0]}<br>Number of Contributions=%{customdata[1]}<extra></extra>",
         "locationmode": "country names",
         "locations": [
          "Burkinabé"
         ],
         "name": "Burkinabé",
         "showlegend": true,
         "showscale": false,
         "type": "choropleth",
         "z": [
          1
         ]
        },
        {
         "colorscale": [
          [
           0,
           "#FF97FF"
          ],
          [
           1,
           "#FF97FF"
          ]
         ],
         "customdata": [
          [
           "Cameroonian",
           16
          ]
         ],
         "geo": "geo",
         "hovertemplate": "Nationality=%{customdata[0]}<br>Number of Contributions=%{customdata[1]}<extra></extra>",
         "locationmode": "country names",
         "locations": [
          "Cameroonian"
         ],
         "name": "Cameroonian",
         "showlegend": true,
         "showscale": false,
         "type": "choropleth",
         "z": [
          1
         ]
        },
        {
         "colorscale": [
          [
           0,
           "#FECB52"
          ],
          [
           1,
           "#FECB52"
          ]
         ],
         "customdata": [
          [
           "Canadian",
           778
          ]
         ],
         "geo": "geo",
         "hovertemplate": "Nationality=%{customdata[0]}<br>Number of Contributions=%{customdata[1]}<extra></extra>",
         "locationmode": "country names",
         "locations": [
          "Canadian"
         ],
         "name": "Canadian",
         "showlegend": true,
         "showscale": false,
         "type": "choropleth",
         "z": [
          1
         ]
        },
        {
         "colorscale": [
          [
           0,
           "#636efa"
          ],
          [
           1,
           "#636efa"
          ]
         ],
         "customdata": [
          [
           "Canadian Inuit",
           7
          ]
         ],
         "geo": "geo",
         "hovertemplate": "Nationality=%{customdata[0]}<br>Number of Contributions=%{customdata[1]}<extra></extra>",
         "locationmode": "country names",
         "locations": [
          "Canadian Inuit"
         ],
         "name": "Canadian Inuit",
         "showlegend": true,
         "showscale": false,
         "type": "choropleth",
         "z": [
          1
         ]
        },
        {
         "colorscale": [
          [
           0,
           "#EF553B"
          ],
          [
           1,
           "#EF553B"
          ]
         ],
         "customdata": [
          [
           "Chilean",
           603
          ]
         ],
         "geo": "geo",
         "hovertemplate": "Nationality=%{customdata[0]}<br>Number of Contributions=%{customdata[1]}<extra></extra>",
         "locationmode": "country names",
         "locations": [
          "Chilean"
         ],
         "name": "Chilean",
         "showlegend": true,
         "showscale": false,
         "type": "choropleth",
         "z": [
          1
         ]
        },
        {
         "colorscale": [
          [
           0,
           "#00cc96"
          ],
          [
           1,
           "#00cc96"
          ]
         ],
         "customdata": [
          [
           "Chinese",
           319
          ]
         ],
         "geo": "geo",
         "hovertemplate": "Nationality=%{customdata[0]}<br>Number of Contributions=%{customdata[1]}<extra></extra>",
         "locationmode": "country names",
         "locations": [
          "Chinese"
         ],
         "name": "Chinese",
         "showlegend": true,
         "showscale": false,
         "type": "choropleth",
         "z": [
          1
         ]
        },
        {
         "colorscale": [
          [
           0,
           "#ab63fa"
          ],
          [
           1,
           "#ab63fa"
          ]
         ],
         "customdata": [
          [
           "Colombian",
           748
          ]
         ],
         "geo": "geo",
         "hovertemplate": "Nationality=%{customdata[0]}<br>Number of Contributions=%{customdata[1]}<extra></extra>",
         "locationmode": "country names",
         "locations": [
          "Colombian"
         ],
         "name": "Colombian",
         "showlegend": true,
         "showscale": false,
         "type": "choropleth",
         "z": [
          1
         ]
        },
        {
         "colorscale": [
          [
           0,
           "#FFA15A"
          ],
          [
           1,
           "#FFA15A"
          ]
         ],
         "customdata": [
          [
           "Congolese",
           23
          ]
         ],
         "geo": "geo",
         "hovertemplate": "Nationality=%{customdata[0]}<br>Number of Contributions=%{customdata[1]}<extra></extra>",
         "locationmode": "country names",
         "locations": [
          "Congolese"
         ],
         "name": "Congolese",
         "showlegend": true,
         "showscale": false,
         "type": "choropleth",
         "z": [
          1
         ]
        },
        {
         "colorscale": [
          [
           0,
           "#19d3f3"
          ],
          [
           1,
           "#19d3f3"
          ]
         ],
         "customdata": [
          [
           "Coptic",
           3
          ]
         ],
         "geo": "geo",
         "hovertemplate": "Nationality=%{customdata[0]}<br>Number of Contributions=%{customdata[1]}<extra></extra>",
         "locationmode": "country names",
         "locations": [
          "Coptic"
         ],
         "name": "Coptic",
         "showlegend": true,
         "showscale": false,
         "type": "choropleth",
         "z": [
          1
         ]
        },
        {
         "colorscale": [
          [
           0,
           "#FF6692"
          ],
          [
           1,
           "#FF6692"
          ]
         ],
         "customdata": [
          [
           "Costa Rican",
           64
          ]
         ],
         "geo": "geo",
         "hovertemplate": "Nationality=%{customdata[0]}<br>Number of Contributions=%{customdata[1]}<extra></extra>",
         "locationmode": "country names",
         "locations": [
          "Costa Rican"
         ],
         "name": "Costa Rican",
         "showlegend": true,
         "showscale": false,
         "type": "choropleth",
         "z": [
          1
         ]
        },
        {
         "colorscale": [
          [
           0,
           "#B6E880"
          ],
          [
           1,
           "#B6E880"
          ]
         ],
         "customdata": [
          [
           "Croatian",
           201
          ]
         ],
         "geo": "geo",
         "hovertemplate": "Nationality=%{customdata[0]}<br>Number of Contributions=%{customdata[1]}<extra></extra>",
         "locationmode": "country names",
         "locations": [
          "Croatian"
         ],
         "name": "Croatian",
         "showlegend": true,
         "showscale": false,
         "type": "choropleth",
         "z": [
          1
         ]
        },
        {
         "colorscale": [
          [
           0,
           "#FF97FF"
          ],
          [
           1,
           "#FF97FF"
          ]
         ],
         "customdata": [
          [
           "Cuban",
           208
          ]
         ],
         "geo": "geo",
         "hovertemplate": "Nationality=%{customdata[0]}<br>Number of Contributions=%{customdata[1]}<extra></extra>",
         "locationmode": "country names",
         "locations": [
          "Cuban"
         ],
         "name": "Cuban",
         "showlegend": true,
         "showscale": false,
         "type": "choropleth",
         "z": [
          1
         ]
        },
        {
         "colorscale": [
          [
           0,
           "#FECB52"
          ],
          [
           1,
           "#FECB52"
          ]
         ],
         "customdata": [
          [
           "Czech",
           765
          ]
         ],
         "geo": "geo",
         "hovertemplate": "Nationality=%{customdata[0]}<br>Number of Contributions=%{customdata[1]}<extra></extra>",
         "locationmode": "country names",
         "locations": [
          "Czech"
         ],
         "name": "Czech",
         "showlegend": true,
         "showscale": false,
         "type": "choropleth",
         "z": [
          1
         ]
        },
        {
         "colorscale": [
          [
           0,
           "#636efa"
          ],
          [
           1,
           "#636efa"
          ]
         ],
         "customdata": [
          [
           "Czechoslovakian",
           4
          ]
         ],
         "geo": "geo",
         "hovertemplate": "Nationality=%{customdata[0]}<br>Number of Contributions=%{customdata[1]}<extra></extra>",
         "locationmode": "country names",
         "locations": [
          "Czechoslovakian"
         ],
         "name": "Czechoslovakian",
         "showlegend": true,
         "showscale": false,
         "type": "choropleth",
         "z": [
          1
         ]
        },
        {
         "colorscale": [
          [
           0,
           "#EF553B"
          ],
          [
           1,
           "#EF553B"
          ]
         ],
         "customdata": [
          [
           "Danish",
           493
          ]
         ],
         "geo": "geo",
         "hovertemplate": "Nationality=%{customdata[0]}<br>Number of Contributions=%{customdata[1]}<extra></extra>",
         "locationmode": "country names",
         "locations": [
          "Danish"
         ],
         "name": "Danish",
         "showlegend": true,
         "showscale": false,
         "type": "choropleth",
         "z": [
          1
         ]
        },
        {
         "colorscale": [
          [
           0,
           "#00cc96"
          ],
          [
           1,
           "#00cc96"
          ]
         ],
         "customdata": [
          [
           "Dutch",
           1592
          ]
         ],
         "geo": "geo",
         "hovertemplate": "Nationality=%{customdata[0]}<br>Number of Contributions=%{customdata[1]}<extra></extra>",
         "locationmode": "country names",
         "locations": [
          "Dutch"
         ],
         "name": "Dutch",
         "showlegend": true,
         "showscale": false,
         "type": "choropleth",
         "z": [
          1
         ]
        },
        {
         "colorscale": [
          [
           0,
           "#ab63fa"
          ],
          [
           1,
           "#ab63fa"
          ]
         ],
         "customdata": [
          [
           "Ecuadorian",
           7
          ]
         ],
         "geo": "geo",
         "hovertemplate": "Nationality=%{customdata[0]}<br>Number of Contributions=%{customdata[1]}<extra></extra>",
         "locationmode": "country names",
         "locations": [
          "Ecuadorian"
         ],
         "name": "Ecuadorian",
         "showlegend": true,
         "showscale": false,
         "type": "choropleth",
         "z": [
          1
         ]
        },
        {
         "colorscale": [
          [
           0,
           "#FFA15A"
          ],
          [
           1,
           "#FFA15A"
          ]
         ],
         "customdata": [
          [
           "Egyptian",
           72
          ]
         ],
         "geo": "geo",
         "hovertemplate": "Nationality=%{customdata[0]}<br>Number of Contributions=%{customdata[1]}<extra></extra>",
         "locationmode": "country names",
         "locations": [
          "Egyptian"
         ],
         "name": "Egyptian",
         "showlegend": true,
         "showscale": false,
         "type": "choropleth",
         "z": [
          1
         ]
        },
        {
         "colorscale": [
          [
           0,
           "#19d3f3"
          ],
          [
           1,
           "#19d3f3"
          ]
         ],
         "customdata": [
          [
           "Emirati",
           6
          ]
         ],
         "geo": "geo",
         "hovertemplate": "Nationality=%{customdata[0]}<br>Number of Contributions=%{customdata[1]}<extra></extra>",
         "locationmode": "country names",
         "locations": [
          "Emirati"
         ],
         "name": "Emirati",
         "showlegend": true,
         "showscale": false,
         "type": "choropleth",
         "z": [
          1
         ]
        },
        {
         "colorscale": [
          [
           0,
           "#FF6692"
          ],
          [
           1,
           "#FF6692"
          ]
         ],
         "customdata": [
          [
           "Estonian",
           2
          ]
         ],
         "geo": "geo",
         "hovertemplate": "Nationality=%{customdata[0]}<br>Number of Contributions=%{customdata[1]}<extra></extra>",
         "locationmode": "country names",
         "locations": [
          "Estonian"
         ],
         "name": "Estonian",
         "showlegend": true,
         "showscale": false,
         "type": "choropleth",
         "z": [
          1
         ]
        },
        {
         "colorscale": [
          [
           0,
           "#B6E880"
          ],
          [
           1,
           "#B6E880"
          ]
         ],
         "customdata": [
          [
           "Ethiopian",
           6
          ]
         ],
         "geo": "geo",
         "hovertemplate": "Nationality=%{customdata[0]}<br>Number of Contributions=%{customdata[1]}<extra></extra>",
         "locationmode": "country names",
         "locations": [
          "Ethiopian"
         ],
         "name": "Ethiopian",
         "showlegend": true,
         "showscale": false,
         "type": "choropleth",
         "z": [
          1
         ]
        },
        {
         "colorscale": [
          [
           0,
           "#FF97FF"
          ],
          [
           1,
           "#FF97FF"
          ]
         ],
         "customdata": [
          [
           "Filipino",
           2
          ]
         ],
         "geo": "geo",
         "hovertemplate": "Nationality=%{customdata[0]}<br>Number of Contributions=%{customdata[1]}<extra></extra>",
         "locationmode": "country names",
         "locations": [
          "Filipino"
         ],
         "name": "Filipino",
         "showlegend": true,
         "showscale": false,
         "type": "choropleth",
         "z": [
          1
         ]
        },
        {
         "colorscale": [
          [
           0,
           "#FECB52"
          ],
          [
           1,
           "#FECB52"
          ]
         ],
         "customdata": [
          [
           "Finnish",
           220
          ]
         ],
         "geo": "geo",
         "hovertemplate": "Nationality=%{customdata[0]}<br>Number of Contributions=%{customdata[1]}<extra></extra>",
         "locationmode": "country names",
         "locations": [
          "Finnish"
         ],
         "name": "Finnish",
         "showlegend": true,
         "showscale": false,
         "type": "choropleth",
         "z": [
          1
         ]
        },
        {
         "colorscale": [
          [
           0,
           "#636efa"
          ],
          [
           1,
           "#636efa"
          ]
         ],
         "customdata": [
          [
           "French",
           22789
          ]
         ],
         "geo": "geo",
         "hovertemplate": "Nationality=%{customdata[0]}<br>Number of Contributions=%{customdata[1]}<extra></extra>",
         "locationmode": "country names",
         "locations": [
          "French"
         ],
         "name": "French",
         "showlegend": true,
         "showscale": false,
         "type": "choropleth",
         "z": [
          1
         ]
        },
        {
         "colorscale": [
          [
           0,
           "#EF553B"
          ],
          [
           1,
           "#EF553B"
          ]
         ],
         "customdata": [
          [
           "Georgian",
           49
          ]
         ],
         "geo": "geo",
         "hovertemplate": "Nationality=%{customdata[0]}<br>Number of Contributions=%{customdata[1]}<extra></extra>",
         "locationmode": "country names",
         "locations": [
          "Georgian"
         ],
         "name": "Georgian",
         "showlegend": true,
         "showscale": false,
         "type": "choropleth",
         "z": [
          1
         ]
        },
        {
         "colorscale": [
          [
           0,
           "#00cc96"
          ],
          [
           1,
           "#00cc96"
          ]
         ],
         "customdata": [
          [
           "German",
           9527
          ]
         ],
         "geo": "geo",
         "hovertemplate": "Nationality=%{customdata[0]}<br>Number of Contributions=%{customdata[1]}<extra></extra>",
         "locationmode": "country names",
         "locations": [
          "German"
         ],
         "name": "German",
         "showlegend": true,
         "showscale": false,
         "type": "choropleth",
         "z": [
          1
         ]
        },
        {
         "colorscale": [
          [
           0,
           "#ab63fa"
          ],
          [
           1,
           "#ab63fa"
          ]
         ],
         "customdata": [
          [
           "Ghanaian",
           8
          ]
         ],
         "geo": "geo",
         "hovertemplate": "Nationality=%{customdata[0]}<br>Number of Contributions=%{customdata[1]}<extra></extra>",
         "locationmode": "country names",
         "locations": [
          "Ghanaian"
         ],
         "name": "Ghanaian",
         "showlegend": true,
         "showscale": false,
         "type": "choropleth",
         "z": [
          1
         ]
        },
        {
         "colorscale": [
          [
           0,
           "#FFA15A"
          ],
          [
           1,
           "#FFA15A"
          ]
         ],
         "customdata": [
          [
           "Greek",
           47
          ]
         ],
         "geo": "geo",
         "hovertemplate": "Nationality=%{customdata[0]}<br>Number of Contributions=%{customdata[1]}<extra></extra>",
         "locationmode": "country names",
         "locations": [
          "Greek"
         ],
         "name": "Greek",
         "showlegend": true,
         "showscale": false,
         "type": "choropleth",
         "z": [
          1
         ]
        },
        {
         "colorscale": [
          [
           0,
           "#19d3f3"
          ],
          [
           1,
           "#19d3f3"
          ]
         ],
         "customdata": [
          [
           "Guatemalan",
           73
          ]
         ],
         "geo": "geo",
         "hovertemplate": "Nationality=%{customdata[0]}<br>Number of Contributions=%{customdata[1]}<extra></extra>",
         "locationmode": "country names",
         "locations": [
          "Guatemalan"
         ],
         "name": "Guatemalan",
         "showlegend": true,
         "showscale": false,
         "type": "choropleth",
         "z": [
          1
         ]
        },
        {
         "colorscale": [
          [
           0,
           "#FF6692"
          ],
          [
           1,
           "#FF6692"
          ]
         ],
         "customdata": [
          [
           "Haitian",
           21
          ]
         ],
         "geo": "geo",
         "hovertemplate": "Nationality=%{customdata[0]}<br>Number of Contributions=%{customdata[1]}<extra></extra>",
         "locationmode": "country names",
         "locations": [
          "Haitian"
         ],
         "name": "Haitian",
         "showlegend": true,
         "showscale": false,
         "type": "choropleth",
         "z": [
          1
         ]
        },
        {
         "colorscale": [
          [
           0,
           "#B6E880"
          ],
          [
           1,
           "#B6E880"
          ]
         ],
         "customdata": [
          [
           "Hungarian",
           157
          ]
         ],
         "geo": "geo",
         "hovertemplate": "Nationality=%{customdata[0]}<br>Number of Contributions=%{customdata[1]}<extra></extra>",
         "locationmode": "country names",
         "locations": [
          "Hungarian"
         ],
         "name": "Hungarian",
         "showlegend": true,
         "showscale": false,
         "type": "choropleth",
         "z": [
          1
         ]
        },
        {
         "colorscale": [
          [
           0,
           "#FF97FF"
          ],
          [
           1,
           "#FF97FF"
          ]
         ],
         "customdata": [
          [
           "Icelandic",
           31
          ]
         ],
         "geo": "geo",
         "hovertemplate": "Nationality=%{customdata[0]}<br>Number of Contributions=%{customdata[1]}<extra></extra>",
         "locationmode": "country names",
         "locations": [
          "Icelandic"
         ],
         "name": "Icelandic",
         "showlegend": true,
         "showscale": false,
         "type": "choropleth",
         "z": [
          1
         ]
        },
        {
         "colorscale": [
          [
           0,
           "#FECB52"
          ],
          [
           1,
           "#FECB52"
          ]
         ],
         "customdata": [
          [
           "Indian",
           214
          ]
         ],
         "geo": "geo",
         "hovertemplate": "Nationality=%{customdata[0]}<br>Number of Contributions=%{customdata[1]}<extra></extra>",
         "locationmode": "country names",
         "locations": [
          "Indian"
         ],
         "name": "Indian",
         "showlegend": true,
         "showscale": false,
         "type": "choropleth",
         "z": [
          1
         ]
        },
        {
         "colorscale": [
          [
           0,
           "#636efa"
          ],
          [
           1,
           "#636efa"
          ]
         ],
         "customdata": [
          [
           "Iranian",
           17
          ]
         ],
         "geo": "geo",
         "hovertemplate": "Nationality=%{customdata[0]}<br>Number of Contributions=%{customdata[1]}<extra></extra>",
         "locationmode": "country names",
         "locations": [
          "Iranian"
         ],
         "name": "Iranian",
         "showlegend": true,
         "showscale": false,
         "type": "choropleth",
         "z": [
          1
         ]
        },
        {
         "colorscale": [
          [
           0,
           "#EF553B"
          ],
          [
           1,
           "#EF553B"
          ]
         ],
         "customdata": [
          [
           "Iraqi",
           14
          ]
         ],
         "geo": "geo",
         "hovertemplate": "Nationality=%{customdata[0]}<br>Number of Contributions=%{customdata[1]}<extra></extra>",
         "locationmode": "country names",
         "locations": [
          "Iraqi"
         ],
         "name": "Iraqi",
         "showlegend": true,
         "showscale": false,
         "type": "choropleth",
         "z": [
          1
         ]
        },
        {
         "colorscale": [
          [
           0,
           "#00cc96"
          ],
          [
           1,
           "#00cc96"
          ]
         ],
         "customdata": [
          [
           "Irish",
           26
          ]
         ],
         "geo": "geo",
         "hovertemplate": "Nationality=%{customdata[0]}<br>Number of Contributions=%{customdata[1]}<extra></extra>",
         "locationmode": "country names",
         "locations": [
          "Irish"
         ],
         "name": "Irish",
         "showlegend": true,
         "showscale": false,
         "type": "choropleth",
         "z": [
          1
         ]
        },
        {
         "colorscale": [
          [
           0,
           "#ab63fa"
          ],
          [
           1,
           "#ab63fa"
          ]
         ],
         "customdata": [
          [
           "Israeli",
           344
          ]
         ],
         "geo": "geo",
         "hovertemplate": "Nationality=%{customdata[0]}<br>Number of Contributions=%{customdata[1]}<extra></extra>",
         "locationmode": "country names",
         "locations": [
          "Israeli"
         ],
         "name": "Israeli",
         "showlegend": true,
         "showscale": false,
         "type": "choropleth",
         "z": [
          1
         ]
        },
        {
         "colorscale": [
          [
           0,
           "#FFA15A"
          ],
          [
           1,
           "#FFA15A"
          ]
         ],
         "customdata": [
          [
           "Italian",
           2772
          ]
         ],
         "geo": "geo",
         "hovertemplate": "Nationality=%{customdata[0]}<br>Number of Contributions=%{customdata[1]}<extra></extra>",
         "locationmode": "country names",
         "locations": [
          "Italian"
         ],
         "name": "Italian",
         "showlegend": true,
         "showscale": false,
         "type": "choropleth",
         "z": [
          1
         ]
        },
        {
         "colorscale": [
          [
           0,
           "#19d3f3"
          ],
          [
           1,
           "#19d3f3"
          ]
         ],
         "customdata": [
          [
           "Ivorian",
           482
          ]
         ],
         "geo": "geo",
         "hovertemplate": "Nationality=%{customdata[0]}<br>Number of Contributions=%{customdata[1]}<extra></extra>",
         "locationmode": "country names",
         "locations": [
          "Ivorian"
         ],
         "name": "Ivorian",
         "showlegend": true,
         "showscale": false,
         "type": "choropleth",
         "z": [
          1
         ]
        },
        {
         "colorscale": [
          [
           0,
           "#FF6692"
          ],
          [
           1,
           "#FF6692"
          ]
         ],
         "customdata": [
          [
           "Japanese",
           2427
          ]
         ],
         "geo": "geo",
         "hovertemplate": "Nationality=%{customdata[0]}<br>Number of Contributions=%{customdata[1]}<extra></extra>",
         "locationmode": "country names",
         "locations": [
          "Japanese"
         ],
         "name": "Japanese",
         "showlegend": true,
         "showscale": false,
         "type": "choropleth",
         "z": [
          1
         ]
        },
        {
         "colorscale": [
          [
           0,
           "#B6E880"
          ],
          [
           1,
           "#B6E880"
          ]
         ],
         "customdata": [
          [
           "Kenyan",
           13
          ]
         ],
         "geo": "geo",
         "hovertemplate": "Nationality=%{customdata[0]}<br>Number of Contributions=%{customdata[1]}<extra></extra>",
         "locationmode": "country names",
         "locations": [
          "Kenyan"
         ],
         "name": "Kenyan",
         "showlegend": true,
         "showscale": false,
         "type": "choropleth",
         "z": [
          1
         ]
        },
        {
         "colorscale": [
          [
           0,
           "#FF97FF"
          ],
          [
           1,
           "#FF97FF"
          ]
         ],
         "customdata": [
          [
           "Korean",
           91
          ]
         ],
         "geo": "geo",
         "hovertemplate": "Nationality=%{customdata[0]}<br>Number of Contributions=%{customdata[1]}<extra></extra>",
         "locationmode": "country names",
         "locations": [
          "Korean"
         ],
         "name": "Korean",
         "showlegend": true,
         "showscale": false,
         "type": "choropleth",
         "z": [
          1
         ]
        },
        {
         "colorscale": [
          [
           0,
           "#FECB52"
          ],
          [
           1,
           "#FECB52"
          ]
         ],
         "customdata": [
          [
           "Kuwaiti",
           1
          ]
         ],
         "geo": "geo",
         "hovertemplate": "Nationality=%{customdata[0]}<br>Number of Contributions=%{customdata[1]}<extra></extra>",
         "locationmode": "country names",
         "locations": [
          "Kuwaiti"
         ],
         "name": "Kuwaiti",
         "showlegend": true,
         "showscale": false,
         "type": "choropleth",
         "z": [
          1
         ]
        },
        {
         "colorscale": [
          [
           0,
           "#636efa"
          ],
          [
           1,
           "#636efa"
          ]
         ],
         "customdata": [
          [
           "Latvian",
           59
          ]
         ],
         "geo": "geo",
         "hovertemplate": "Nationality=%{customdata[0]}<br>Number of Contributions=%{customdata[1]}<extra></extra>",
         "locationmode": "country names",
         "locations": [
          "Latvian"
         ],
         "name": "Latvian",
         "showlegend": true,
         "showscale": false,
         "type": "choropleth",
         "z": [
          1
         ]
        },
        {
         "colorscale": [
          [
           0,
           "#EF553B"
          ],
          [
           1,
           "#EF553B"
          ]
         ],
         "customdata": [
          [
           "Lebanese",
           54
          ]
         ],
         "geo": "geo",
         "hovertemplate": "Nationality=%{customdata[0]}<br>Number of Contributions=%{customdata[1]}<extra></extra>",
         "locationmode": "country names",
         "locations": [
          "Lebanese"
         ],
         "name": "Lebanese",
         "showlegend": true,
         "showscale": false,
         "type": "choropleth",
         "z": [
          1
         ]
        },
        {
         "colorscale": [
          [
           0,
           "#00cc96"
          ],
          [
           1,
           "#00cc96"
          ]
         ],
         "customdata": [
          [
           "Lithuanian",
           20
          ]
         ],
         "geo": "geo",
         "hovertemplate": "Nationality=%{customdata[0]}<br>Number of Contributions=%{customdata[1]}<extra></extra>",
         "locationmode": "country names",
         "locations": [
          "Lithuanian"
         ],
         "name": "Lithuanian",
         "showlegend": true,
         "showscale": false,
         "type": "choropleth",
         "z": [
          1
         ]
        },
        {
         "colorscale": [
          [
           0,
           "#ab63fa"
          ],
          [
           1,
           "#ab63fa"
          ]
         ],
         "customdata": [
          [
           "Luxembourger",
           43
          ]
         ],
         "geo": "geo",
         "hovertemplate": "Nationality=%{customdata[0]}<br>Number of Contributions=%{customdata[1]}<extra></extra>",
         "locationmode": "country names",
         "locations": [
          "Luxembourger"
         ],
         "name": "Luxembourger",
         "showlegend": true,
         "showscale": false,
         "type": "choropleth",
         "z": [
          1
         ]
        },
        {
         "colorscale": [
          [
           0,
           "#FFA15A"
          ],
          [
           1,
           "#FFA15A"
          ]
         ],
         "customdata": [
          [
           "Macedonian",
           9
          ]
         ],
         "geo": "geo",
         "hovertemplate": "Nationality=%{customdata[0]}<br>Number of Contributions=%{customdata[1]}<extra></extra>",
         "locationmode": "country names",
         "locations": [
          "Macedonian"
         ],
         "name": "Macedonian",
         "showlegend": true,
         "showscale": false,
         "type": "choropleth",
         "z": [
          1
         ]
        },
        {
         "colorscale": [
          [
           0,
           "#19d3f3"
          ],
          [
           1,
           "#19d3f3"
          ]
         ],
         "customdata": [
          [
           "Malaysian",
           5
          ]
         ],
         "geo": "geo",
         "hovertemplate": "Nationality=%{customdata[0]}<br>Number of Contributions=%{customdata[1]}<extra></extra>",
         "locationmode": "country names",
         "locations": [
          "Malaysian"
         ],
         "name": "Malaysian",
         "showlegend": true,
         "showscale": false,
         "type": "choropleth",
         "z": [
          1
         ]
        },
        {
         "colorscale": [
          [
           0,
           "#FF6692"
          ],
          [
           1,
           "#FF6692"
          ]
         ],
         "customdata": [
          [
           "Malian",
           22
          ]
         ],
         "geo": "geo",
         "hovertemplate": "Nationality=%{customdata[0]}<br>Number of Contributions=%{customdata[1]}<extra></extra>",
         "locationmode": "country names",
         "locations": [
          "Malian"
         ],
         "name": "Malian",
         "showlegend": true,
         "showscale": false,
         "type": "choropleth",
         "z": [
          1
         ]
        },
        {
         "colorscale": [
          [
           0,
           "#B6E880"
          ],
          [
           1,
           "#B6E880"
          ]
         ],
         "customdata": [
          [
           "Mexican",
           1332
          ]
         ],
         "geo": "geo",
         "hovertemplate": "Nationality=%{customdata[0]}<br>Number of Contributions=%{customdata[1]}<extra></extra>",
         "locationmode": "country names",
         "locations": [
          "Mexican"
         ],
         "name": "Mexican",
         "showlegend": true,
         "showscale": false,
         "type": "choropleth",
         "z": [
          1
         ]
        },
        {
         "colorscale": [
          [
           0,
           "#FF97FF"
          ],
          [
           1,
           "#FF97FF"
          ]
         ],
         "customdata": [
          [
           "Moroccan",
           17
          ]
         ],
         "geo": "geo",
         "hovertemplate": "Nationality=%{customdata[0]}<br>Number of Contributions=%{customdata[1]}<extra></extra>",
         "locationmode": "country names",
         "locations": [
          "Moroccan"
         ],
         "name": "Moroccan",
         "showlegend": true,
         "showscale": false,
         "type": "choropleth",
         "z": [
          1
         ]
        },
        {
         "colorscale": [
          [
           0,
           "#FECB52"
          ],
          [
           1,
           "#FECB52"
          ]
         ],
         "customdata": [
          [
           "Mozambican",
           4
          ]
         ],
         "geo": "geo",
         "hovertemplate": "Nationality=%{customdata[0]}<br>Number of Contributions=%{customdata[1]}<extra></extra>",
         "locationmode": "country names",
         "locations": [
          "Mozambican"
         ],
         "name": "Mozambican",
         "showlegend": true,
         "showscale": false,
         "type": "choropleth",
         "z": [
          1
         ]
        },
        {
         "colorscale": [
          [
           0,
           "#636efa"
          ],
          [
           1,
           "#636efa"
          ]
         ],
         "customdata": [
          [
           "Namibian",
           2
          ]
         ],
         "geo": "geo",
         "hovertemplate": "Nationality=%{customdata[0]}<br>Number of Contributions=%{customdata[1]}<extra></extra>",
         "locationmode": "country names",
         "locations": [
          "Namibian"
         ],
         "name": "Namibian",
         "showlegend": true,
         "showscale": false,
         "type": "choropleth",
         "z": [
          1
         ]
        },
        {
         "colorscale": [
          [
           0,
           "#EF553B"
          ],
          [
           1,
           "#EF553B"
          ]
         ],
         "customdata": [
          [
           "Nationality unknown",
           1180
          ]
         ],
         "geo": "geo",
         "hovertemplate": "Nationality=%{customdata[0]}<br>Number of Contributions=%{customdata[1]}<extra></extra>",
         "locationmode": "country names",
         "locations": [
          "Nationality unknown"
         ],
         "name": "Nationality unknown",
         "showlegend": true,
         "showscale": false,
         "type": "choropleth",
         "z": [
          1
         ]
        },
        {
         "colorscale": [
          [
           0,
           "#00cc96"
          ],
          [
           1,
           "#00cc96"
          ]
         ],
         "customdata": [
          [
           "Native American",
           43
          ]
         ],
         "geo": "geo",
         "hovertemplate": "Nationality=%{customdata[0]}<br>Number of Contributions=%{customdata[1]}<extra></extra>",
         "locationmode": "country names",
         "locations": [
          "Native American"
         ],
         "name": "Native American",
         "showlegend": true,
         "showscale": false,
         "type": "choropleth",
         "z": [
          1
         ]
        },
        {
         "colorscale": [
          [
           0,
           "#ab63fa"
          ],
          [
           1,
           "#ab63fa"
          ]
         ],
         "customdata": [
          [
           "New Zealander",
           9
          ]
         ],
         "geo": "geo",
         "hovertemplate": "Nationality=%{customdata[0]}<br>Number of Contributions=%{customdata[1]}<extra></extra>",
         "locationmode": "country names",
         "locations": [
          "New Zealander"
         ],
         "name": "New Zealander",
         "showlegend": true,
         "showscale": false,
         "type": "choropleth",
         "z": [
          1
         ]
        },
        {
         "colorscale": [
          [
           0,
           "#FFA15A"
          ],
          [
           1,
           "#FFA15A"
          ]
         ],
         "customdata": [
          [
           "Nicaraguan",
           2
          ]
         ],
         "geo": "geo",
         "hovertemplate": "Nationality=%{customdata[0]}<br>Number of Contributions=%{customdata[1]}<extra></extra>",
         "locationmode": "country names",
         "locations": [
          "Nicaraguan"
         ],
         "name": "Nicaraguan",
         "showlegend": true,
         "showscale": false,
         "type": "choropleth",
         "z": [
          1
         ]
        },
        {
         "colorscale": [
          [
           0,
           "#19d3f3"
          ],
          [
           1,
           "#19d3f3"
          ]
         ],
         "customdata": [
          [
           "Nigerian",
           45
          ]
         ],
         "geo": "geo",
         "hovertemplate": "Nationality=%{customdata[0]}<br>Number of Contributions=%{customdata[1]}<extra></extra>",
         "locationmode": "country names",
         "locations": [
          "Nigerian"
         ],
         "name": "Nigerian",
         "showlegend": true,
         "showscale": false,
         "type": "choropleth",
         "z": [
          1
         ]
        },
        {
         "colorscale": [
          [
           0,
           "#FF6692"
          ],
          [
           1,
           "#FF6692"
          ]
         ],
         "customdata": [
          [
           "Norwegian",
           181
          ]
         ],
         "geo": "geo",
         "hovertemplate": "Nationality=%{customdata[0]}<br>Number of Contributions=%{customdata[1]}<extra></extra>",
         "locationmode": "country names",
         "locations": [
          "Norwegian"
         ],
         "name": "Norwegian",
         "showlegend": true,
         "showscale": false,
         "type": "choropleth",
         "z": [
          1
         ]
        },
        {
         "colorscale": [
          [
           0,
           "#B6E880"
          ],
          [
           1,
           "#B6E880"
          ]
         ],
         "customdata": [
          [
           "Pakistani",
           50
          ]
         ],
         "geo": "geo",
         "hovertemplate": "Nationality=%{customdata[0]}<br>Number of Contributions=%{customdata[1]}<extra></extra>",
         "locationmode": "country names",
         "locations": [
          "Pakistani"
         ],
         "name": "Pakistani",
         "showlegend": true,
         "showscale": false,
         "type": "choropleth",
         "z": [
          1
         ]
        },
        {
         "colorscale": [
          [
           0,
           "#FF97FF"
          ],
          [
           1,
           "#FF97FF"
          ]
         ],
         "customdata": [
          [
           "Palestinian",
           3
          ]
         ],
         "geo": "geo",
         "hovertemplate": "Nationality=%{customdata[0]}<br>Number of Contributions=%{customdata[1]}<extra></extra>",
         "locationmode": "country names",
         "locations": [
          "Palestinian"
         ],
         "name": "Palestinian",
         "showlegend": true,
         "showscale": false,
         "type": "choropleth",
         "z": [
          1
         ]
        },
        {
         "colorscale": [
          [
           0,
           "#FECB52"
          ],
          [
           1,
           "#FECB52"
          ]
         ],
         "customdata": [
          [
           "Panamanian",
           4
          ]
         ],
         "geo": "geo",
         "hovertemplate": "Nationality=%{customdata[0]}<br>Number of Contributions=%{customdata[1]}<extra></extra>",
         "locationmode": "country names",
         "locations": [
          "Panamanian"
         ],
         "name": "Panamanian",
         "showlegend": true,
         "showscale": false,
         "type": "choropleth",
         "z": [
          1
         ]
        },
        {
         "colorscale": [
          [
           0,
           "#636efa"
          ],
          [
           1,
           "#636efa"
          ]
         ],
         "customdata": [
          [
           "Paraguayan",
           2
          ]
         ],
         "geo": "geo",
         "hovertemplate": "Nationality=%{customdata[0]}<br>Number of Contributions=%{customdata[1]}<extra></extra>",
         "locationmode": "country names",
         "locations": [
          "Paraguayan"
         ],
         "name": "Paraguayan",
         "showlegend": true,
         "showscale": false,
         "type": "choropleth",
         "z": [
          1
         ]
        },
        {
         "colorscale": [
          [
           0,
           "#EF553B"
          ],
          [
           1,
           "#EF553B"
          ]
         ],
         "customdata": [
          [
           "Persian",
           1
          ]
         ],
         "geo": "geo",
         "hovertemplate": "Nationality=%{customdata[0]}<br>Number of Contributions=%{customdata[1]}<extra></extra>",
         "locationmode": "country names",
         "locations": [
          "Persian"
         ],
         "name": "Persian",
         "showlegend": true,
         "showscale": false,
         "type": "choropleth",
         "z": [
          1
         ]
        },
        {
         "colorscale": [
          [
           0,
           "#00cc96"
          ],
          [
           1,
           "#00cc96"
          ]
         ],
         "customdata": [
          [
           "Peruvian",
           114
          ]
         ],
         "geo": "geo",
         "hovertemplate": "Nationality=%{customdata[0]}<br>Number of Contributions=%{customdata[1]}<extra></extra>",
         "locationmode": "country names",
         "locations": [
          "Peruvian"
         ],
         "name": "Peruvian",
         "showlegend": true,
         "showscale": false,
         "type": "choropleth",
         "z": [
          1
         ]
        },
        {
         "colorscale": [
          [
           0,
           "#ab63fa"
          ],
          [
           1,
           "#ab63fa"
          ]
         ],
         "customdata": [
          [
           "Polish",
           559
          ]
         ],
         "geo": "geo",
         "hovertemplate": "Nationality=%{customdata[0]}<br>Number of Contributions=%{customdata[1]}<extra></extra>",
         "locationmode": "country names",
         "locations": [
          "Polish"
         ],
         "name": "Polish",
         "showlegend": true,
         "showscale": false,
         "type": "choropleth",
         "z": [
          1
         ]
        },
        {
         "colorscale": [
          [
           0,
           "#FFA15A"
          ],
          [
           1,
           "#FFA15A"
          ]
         ],
         "customdata": [
          [
           "Portuguese",
           144
          ]
         ],
         "geo": "geo",
         "hovertemplate": "Nationality=%{customdata[0]}<br>Number of Contributions=%{customdata[1]}<extra></extra>",
         "locationmode": "country names",
         "locations": [
          "Portuguese"
         ],
         "name": "Portuguese",
         "showlegend": true,
         "showscale": false,
         "type": "choropleth",
         "z": [
          1
         ]
        },
        {
         "colorscale": [
          [
           0,
           "#19d3f3"
          ],
          [
           1,
           "#19d3f3"
          ]
         ],
         "customdata": [
          [
           "Puerto Rican",
           19
          ]
         ],
         "geo": "geo",
         "hovertemplate": "Nationality=%{customdata[0]}<br>Number of Contributions=%{customdata[1]}<extra></extra>",
         "locationmode": "country names",
         "locations": [
          "Puerto Rican"
         ],
         "name": "Puerto Rican",
         "showlegend": true,
         "showscale": false,
         "type": "choropleth",
         "z": [
          1
         ]
        },
        {
         "colorscale": [
          [
           0,
           "#FF6692"
          ],
          [
           1,
           "#FF6692"
          ]
         ],
         "customdata": [
          [
           "Romanian",
           70
          ]
         ],
         "geo": "geo",
         "hovertemplate": "Nationality=%{customdata[0]}<br>Number of Contributions=%{customdata[1]}<extra></extra>",
         "locationmode": "country names",
         "locations": [
          "Romanian"
         ],
         "name": "Romanian",
         "showlegend": true,
         "showscale": false,
         "type": "choropleth",
         "z": [
          1
         ]
        },
        {
         "colorscale": [
          [
           0,
           "#B6E880"
          ],
          [
           1,
           "#B6E880"
          ]
         ],
         "customdata": [
          [
           "Russian",
           2136
          ]
         ],
         "geo": "geo",
         "hovertemplate": "Nationality=%{customdata[0]}<br>Number of Contributions=%{customdata[1]}<extra></extra>",
         "locationmode": "country names",
         "locations": [
          "Russian"
         ],
         "name": "Russian",
         "showlegend": true,
         "showscale": false,
         "type": "choropleth",
         "z": [
          1
         ]
        },
        {
         "colorscale": [
          [
           0,
           "#FF97FF"
          ],
          [
           1,
           "#FF97FF"
          ]
         ],
         "customdata": [
          [
           "Salvadoran",
           3
          ]
         ],
         "geo": "geo",
         "hovertemplate": "Nationality=%{customdata[0]}<br>Number of Contributions=%{customdata[1]}<extra></extra>",
         "locationmode": "country names",
         "locations": [
          "Salvadoran"
         ],
         "name": "Salvadoran",
         "showlegend": true,
         "showscale": false,
         "type": "choropleth",
         "z": [
          1
         ]
        },
        {
         "colorscale": [
          [
           0,
           "#FECB52"
          ],
          [
           1,
           "#FECB52"
          ]
         ],
         "customdata": [
          [
           "Scottish",
           54
          ]
         ],
         "geo": "geo",
         "hovertemplate": "Nationality=%{customdata[0]}<br>Number of Contributions=%{customdata[1]}<extra></extra>",
         "locationmode": "country names",
         "locations": [
          "Scottish"
         ],
         "name": "Scottish",
         "showlegend": true,
         "showscale": false,
         "type": "choropleth",
         "z": [
          1
         ]
        },
        {
         "colorscale": [
          [
           0,
           "#636efa"
          ],
          [
           1,
           "#636efa"
          ]
         ],
         "customdata": [
          [
           "Senegalese",
           2
          ]
         ],
         "geo": "geo",
         "hovertemplate": "Nationality=%{customdata[0]}<br>Number of Contributions=%{customdata[1]}<extra></extra>",
         "locationmode": "country names",
         "locations": [
          "Senegalese"
         ],
         "name": "Senegalese",
         "showlegend": true,
         "showscale": false,
         "type": "choropleth",
         "z": [
          1
         ]
        },
        {
         "colorscale": [
          [
           0,
           "#EF553B"
          ],
          [
           1,
           "#EF553B"
          ]
         ],
         "customdata": [
          [
           "Serbian",
           174
          ]
         ],
         "geo": "geo",
         "hovertemplate": "Nationality=%{customdata[0]}<br>Number of Contributions=%{customdata[1]}<extra></extra>",
         "locationmode": "country names",
         "locations": [
          "Serbian"
         ],
         "name": "Serbian",
         "showlegend": true,
         "showscale": false,
         "type": "choropleth",
         "z": [
          1
         ]
        },
        {
         "colorscale": [
          [
           0,
           "#00cc96"
          ],
          [
           1,
           "#00cc96"
          ]
         ],
         "customdata": [
          [
           "Sierra Leonean",
           1
          ]
         ],
         "geo": "geo",
         "hovertemplate": "Nationality=%{customdata[0]}<br>Number of Contributions=%{customdata[1]}<extra></extra>",
         "locationmode": "country names",
         "locations": [
          "Sierra Leonean"
         ],
         "name": "Sierra Leonean",
         "showlegend": true,
         "showscale": false,
         "type": "choropleth",
         "z": [
          1
         ]
        },
        {
         "colorscale": [
          [
           0,
           "#ab63fa"
          ],
          [
           1,
           "#ab63fa"
          ]
         ],
         "customdata": [
          [
           "Singaporean",
           2
          ]
         ],
         "geo": "geo",
         "hovertemplate": "Nationality=%{customdata[0]}<br>Number of Contributions=%{customdata[1]}<extra></extra>",
         "locationmode": "country names",
         "locations": [
          "Singaporean"
         ],
         "name": "Singaporean",
         "showlegend": true,
         "showscale": false,
         "type": "choropleth",
         "z": [
          1
         ]
        },
        {
         "colorscale": [
          [
           0,
           "#FFA15A"
          ],
          [
           1,
           "#FFA15A"
          ]
         ],
         "customdata": [
          [
           "Slovak",
           10
          ]
         ],
         "geo": "geo",
         "hovertemplate": "Nationality=%{customdata[0]}<br>Number of Contributions=%{customdata[1]}<extra></extra>",
         "locationmode": "country names",
         "locations": [
          "Slovak"
         ],
         "name": "Slovak",
         "showlegend": true,
         "showscale": false,
         "type": "choropleth",
         "z": [
          1
         ]
        },
        {
         "colorscale": [
          [
           0,
           "#19d3f3"
          ],
          [
           1,
           "#19d3f3"
          ]
         ],
         "customdata": [
          [
           "Slovenian",
           53
          ]
         ],
         "geo": "geo",
         "hovertemplate": "Nationality=%{customdata[0]}<br>Number of Contributions=%{customdata[1]}<extra></extra>",
         "locationmode": "country names",
         "locations": [
          "Slovenian"
         ],
         "name": "Slovenian",
         "showlegend": true,
         "showscale": false,
         "type": "choropleth",
         "z": [
          1
         ]
        },
        {
         "colorscale": [
          [
           0,
           "#FF6692"
          ],
          [
           1,
           "#FF6692"
          ]
         ],
         "customdata": [
          [
           "South African",
           400
          ]
         ],
         "geo": "geo",
         "hovertemplate": "Nationality=%{customdata[0]}<br>Number of Contributions=%{customdata[1]}<extra></extra>",
         "locationmode": "country names",
         "locations": [
          "South African"
         ],
         "name": "South African",
         "showlegend": true,
         "showscale": false,
         "type": "choropleth",
         "z": [
          1
         ]
        },
        {
         "colorscale": [
          [
           0,
           "#B6E880"
          ],
          [
           1,
           "#B6E880"
          ]
         ],
         "customdata": [
          [
           "Spanish",
           3131
          ]
         ],
         "geo": "geo",
         "hovertemplate": "Nationality=%{customdata[0]}<br>Number of Contributions=%{customdata[1]}<extra></extra>",
         "locationmode": "country names",
         "locations": [
          "Spanish"
         ],
         "name": "Spanish",
         "showlegend": true,
         "showscale": false,
         "type": "choropleth",
         "z": [
          1
         ]
        },
        {
         "colorscale": [
          [
           0,
           "#FF97FF"
          ],
          [
           1,
           "#FF97FF"
          ]
         ],
         "customdata": [
          [
           "Sudanese",
           62
          ]
         ],
         "geo": "geo",
         "hovertemplate": "Nationality=%{customdata[0]}<br>Number of Contributions=%{customdata[1]}<extra></extra>",
         "locationmode": "country names",
         "locations": [
          "Sudanese"
         ],
         "name": "Sudanese",
         "showlegend": true,
         "showscale": false,
         "type": "choropleth",
         "z": [
          1
         ]
        },
        {
         "colorscale": [
          [
           0,
           "#FECB52"
          ],
          [
           1,
           "#FECB52"
          ]
         ],
         "customdata": [
          [
           "Swedish",
           298
          ]
         ],
         "geo": "geo",
         "hovertemplate": "Nationality=%{customdata[0]}<br>Number of Contributions=%{customdata[1]}<extra></extra>",
         "locationmode": "country names",
         "locations": [
          "Swedish"
         ],
         "name": "Swedish",
         "showlegend": true,
         "showscale": false,
         "type": "choropleth",
         "z": [
          1
         ]
        },
        {
         "colorscale": [
          [
           0,
           "#636efa"
          ],
          [
           1,
           "#636efa"
          ]
         ],
         "customdata": [
          [
           "Swiss",
           2112
          ]
         ],
         "geo": "geo",
         "hovertemplate": "Nationality=%{customdata[0]}<br>Number of Contributions=%{customdata[1]}<extra></extra>",
         "locationmode": "country names",
         "locations": [
          "Swiss"
         ],
         "name": "Swiss",
         "showlegend": true,
         "showscale": false,
         "type": "choropleth",
         "z": [
          1
         ]
        },
        {
         "colorscale": [
          [
           0,
           "#EF553B"
          ],
          [
           1,
           "#EF553B"
          ]
         ],
         "customdata": [
          [
           "Taiwanese",
           4
          ]
         ],
         "geo": "geo",
         "hovertemplate": "Nationality=%{customdata[0]}<br>Number of Contributions=%{customdata[1]}<extra></extra>",
         "locationmode": "country names",
         "locations": [
          "Taiwanese"
         ],
         "name": "Taiwanese",
         "showlegend": true,
         "showscale": false,
         "type": "choropleth",
         "z": [
          1
         ]
        },
        {
         "colorscale": [
          [
           0,
           "#00cc96"
          ],
          [
           1,
           "#00cc96"
          ]
         ],
         "customdata": [
          [
           "Tanzanian",
           1
          ]
         ],
         "geo": "geo",
         "hovertemplate": "Nationality=%{customdata[0]}<br>Number of Contributions=%{customdata[1]}<extra></extra>",
         "locationmode": "country names",
         "locations": [
          "Tanzanian"
         ],
         "name": "Tanzanian",
         "showlegend": true,
         "showscale": false,
         "type": "choropleth",
         "z": [
          1
         ]
        },
        {
         "colorscale": [
          [
           0,
           "#ab63fa"
          ],
          [
           1,
           "#ab63fa"
          ]
         ],
         "customdata": [
          [
           "Thai",
           25
          ]
         ],
         "geo": "geo",
         "hovertemplate": "Nationality=%{customdata[0]}<br>Number of Contributions=%{customdata[1]}<extra></extra>",
         "locationmode": "country names",
         "locations": [
          "Thai"
         ],
         "name": "Thai",
         "showlegend": true,
         "showscale": false,
         "type": "choropleth",
         "z": [
          1
         ]
        },
        {
         "colorscale": [
          [
           0,
           "#FFA15A"
          ],
          [
           1,
           "#FFA15A"
          ]
         ],
         "customdata": [
          [
           "Tunisian",
           13
          ]
         ],
         "geo": "geo",
         "hovertemplate": "Nationality=%{customdata[0]}<br>Number of Contributions=%{customdata[1]}<extra></extra>",
         "locationmode": "country names",
         "locations": [
          "Tunisian"
         ],
         "name": "Tunisian",
         "showlegend": true,
         "showscale": false,
         "type": "choropleth",
         "z": [
          1
         ]
        },
        {
         "colorscale": [
          [
           0,
           "#19d3f3"
          ],
          [
           1,
           "#19d3f3"
          ]
         ],
         "customdata": [
          [
           "Turkish",
           49
          ]
         ],
         "geo": "geo",
         "hovertemplate": "Nationality=%{customdata[0]}<br>Number of Contributions=%{customdata[1]}<extra></extra>",
         "locationmode": "country names",
         "locations": [
          "Turkish"
         ],
         "name": "Turkish",
         "showlegend": true,
         "showscale": false,
         "type": "choropleth",
         "z": [
          1
         ]
        },
        {
         "colorscale": [
          [
           0,
           "#FF6692"
          ],
          [
           1,
           "#FF6692"
          ]
         ],
         "customdata": [
          [
           "Ugandan",
           1
          ]
         ],
         "geo": "geo",
         "hovertemplate": "Nationality=%{customdata[0]}<br>Number of Contributions=%{customdata[1]}<extra></extra>",
         "locationmode": "country names",
         "locations": [
          "Ugandan"
         ],
         "name": "Ugandan",
         "showlegend": true,
         "showscale": false,
         "type": "choropleth",
         "z": [
          1
         ]
        },
        {
         "colorscale": [
          [
           0,
           "#B6E880"
          ],
          [
           1,
           "#B6E880"
          ]
         ],
         "customdata": [
          [
           "Ukrainian",
           74
          ]
         ],
         "geo": "geo",
         "hovertemplate": "Nationality=%{customdata[0]}<br>Number of Contributions=%{customdata[1]}<extra></extra>",
         "locationmode": "country names",
         "locations": [
          "Ukrainian"
         ],
         "name": "Ukrainian",
         "showlegend": true,
         "showscale": false,
         "type": "choropleth",
         "z": [
          1
         ]
        },
        {
         "colorscale": [
          [
           0,
           "#FF97FF"
          ],
          [
           1,
           "#FF97FF"
          ]
         ],
         "customdata": [
          [
           "Uruguayan",
           89
          ]
         ],
         "geo": "geo",
         "hovertemplate": "Nationality=%{customdata[0]}<br>Number of Contributions=%{customdata[1]}<extra></extra>",
         "locationmode": "country names",
         "locations": [
          "Uruguayan"
         ],
         "name": "Uruguayan",
         "showlegend": true,
         "showscale": false,
         "type": "choropleth",
         "z": [
          1
         ]
        },
        {
         "colorscale": [
          [
           0,
           "#FECB52"
          ],
          [
           1,
           "#FECB52"
          ]
         ],
         "customdata": [
          [
           "Venezuelan",
           496
          ]
         ],
         "geo": "geo",
         "hovertemplate": "Nationality=%{customdata[0]}<br>Number of Contributions=%{customdata[1]}<extra></extra>",
         "locationmode": "country names",
         "locations": [
          "Venezuelan"
         ],
         "name": "Venezuelan",
         "showlegend": true,
         "showscale": false,
         "type": "choropleth",
         "z": [
          1
         ]
        },
        {
         "colorscale": [
          [
           0,
           "#636efa"
          ],
          [
           1,
           "#636efa"
          ]
         ],
         "customdata": [
          [
           "Vietnamese",
           1
          ]
         ],
         "geo": "geo",
         "hovertemplate": "Nationality=%{customdata[0]}<br>Number of Contributions=%{customdata[1]}<extra></extra>",
         "locationmode": "country names",
         "locations": [
          "Vietnamese"
         ],
         "name": "Vietnamese",
         "showlegend": true,
         "showscale": false,
         "type": "choropleth",
         "z": [
          1
         ]
        },
        {
         "colorscale": [
          [
           0,
           "#EF553B"
          ],
          [
           1,
           "#EF553B"
          ]
         ],
         "customdata": [
          [
           "Welsh",
           3
          ]
         ],
         "geo": "geo",
         "hovertemplate": "Nationality=%{customdata[0]}<br>Number of Contributions=%{customdata[1]}<extra></extra>",
         "locationmode": "country names",
         "locations": [
          "Welsh"
         ],
         "name": "Welsh",
         "showlegend": true,
         "showscale": false,
         "type": "choropleth",
         "z": [
          1
         ]
        },
        {
         "colorscale": [
          [
           0,
           "#00cc96"
          ],
          [
           1,
           "#00cc96"
          ]
         ],
         "customdata": [
          [
           "Yugoslav",
           1
          ]
         ],
         "geo": "geo",
         "hovertemplate": "Nationality=%{customdata[0]}<br>Number of Contributions=%{customdata[1]}<extra></extra>",
         "locationmode": "country names",
         "locations": [
          "Yugoslav"
         ],
         "name": "Yugoslav",
         "showlegend": true,
         "showscale": false,
         "type": "choropleth",
         "z": [
          1
         ]
        },
        {
         "colorscale": [
          [
           0,
           "#ab63fa"
          ],
          [
           1,
           "#ab63fa"
          ]
         ],
         "customdata": [
          [
           "Zimbabwean",
           15
          ]
         ],
         "geo": "geo",
         "hovertemplate": "Nationality=%{customdata[0]}<br>Number of Contributions=%{customdata[1]}<extra></extra>",
         "locationmode": "country names",
         "locations": [
          "Zimbabwean"
         ],
         "name": "Zimbabwean",
         "showlegend": true,
         "showscale": false,
         "type": "choropleth",
         "z": [
          1
         ]
        }
       ],
       "layout": {
        "geo": {
         "center": {},
         "domain": {
          "x": [
           0,
           1
          ],
          "y": [
           0,
           1
          ]
         },
         "projection": {
          "type": "natural earth"
         }
        },
        "legend": {
         "title": {
          "text": "Nationality"
         },
         "tracegroupgap": 0
        },
        "template": {
         "data": {
          "bar": [
           {
            "error_x": {
             "color": "#2a3f5f"
            },
            "error_y": {
             "color": "#2a3f5f"
            },
            "marker": {
             "line": {
              "color": "#E5ECF6",
              "width": 0.5
             },
             "pattern": {
              "fillmode": "overlay",
              "size": 10,
              "solidity": 0.2
             }
            },
            "type": "bar"
           }
          ],
          "barpolar": [
           {
            "marker": {
             "line": {
              "color": "#E5ECF6",
              "width": 0.5
             },
             "pattern": {
              "fillmode": "overlay",
              "size": 10,
              "solidity": 0.2
             }
            },
            "type": "barpolar"
           }
          ],
          "carpet": [
           {
            "aaxis": {
             "endlinecolor": "#2a3f5f",
             "gridcolor": "white",
             "linecolor": "white",
             "minorgridcolor": "white",
             "startlinecolor": "#2a3f5f"
            },
            "baxis": {
             "endlinecolor": "#2a3f5f",
             "gridcolor": "white",
             "linecolor": "white",
             "minorgridcolor": "white",
             "startlinecolor": "#2a3f5f"
            },
            "type": "carpet"
           }
          ],
          "choropleth": [
           {
            "colorbar": {
             "outlinewidth": 0,
             "ticks": ""
            },
            "type": "choropleth"
           }
          ],
          "contour": [
           {
            "colorbar": {
             "outlinewidth": 0,
             "ticks": ""
            },
            "colorscale": [
             [
              0,
              "#0d0887"
             ],
             [
              0.1111111111111111,
              "#46039f"
             ],
             [
              0.2222222222222222,
              "#7201a8"
             ],
             [
              0.3333333333333333,
              "#9c179e"
             ],
             [
              0.4444444444444444,
              "#bd3786"
             ],
             [
              0.5555555555555556,
              "#d8576b"
             ],
             [
              0.6666666666666666,
              "#ed7953"
             ],
             [
              0.7777777777777778,
              "#fb9f3a"
             ],
             [
              0.8888888888888888,
              "#fdca26"
             ],
             [
              1,
              "#f0f921"
             ]
            ],
            "type": "contour"
           }
          ],
          "contourcarpet": [
           {
            "colorbar": {
             "outlinewidth": 0,
             "ticks": ""
            },
            "type": "contourcarpet"
           }
          ],
          "heatmap": [
           {
            "colorbar": {
             "outlinewidth": 0,
             "ticks": ""
            },
            "colorscale": [
             [
              0,
              "#0d0887"
             ],
             [
              0.1111111111111111,
              "#46039f"
             ],
             [
              0.2222222222222222,
              "#7201a8"
             ],
             [
              0.3333333333333333,
              "#9c179e"
             ],
             [
              0.4444444444444444,
              "#bd3786"
             ],
             [
              0.5555555555555556,
              "#d8576b"
             ],
             [
              0.6666666666666666,
              "#ed7953"
             ],
             [
              0.7777777777777778,
              "#fb9f3a"
             ],
             [
              0.8888888888888888,
              "#fdca26"
             ],
             [
              1,
              "#f0f921"
             ]
            ],
            "type": "heatmap"
           }
          ],
          "heatmapgl": [
           {
            "colorbar": {
             "outlinewidth": 0,
             "ticks": ""
            },
            "colorscale": [
             [
              0,
              "#0d0887"
             ],
             [
              0.1111111111111111,
              "#46039f"
             ],
             [
              0.2222222222222222,
              "#7201a8"
             ],
             [
              0.3333333333333333,
              "#9c179e"
             ],
             [
              0.4444444444444444,
              "#bd3786"
             ],
             [
              0.5555555555555556,
              "#d8576b"
             ],
             [
              0.6666666666666666,
              "#ed7953"
             ],
             [
              0.7777777777777778,
              "#fb9f3a"
             ],
             [
              0.8888888888888888,
              "#fdca26"
             ],
             [
              1,
              "#f0f921"
             ]
            ],
            "type": "heatmapgl"
           }
          ],
          "histogram": [
           {
            "marker": {
             "pattern": {
              "fillmode": "overlay",
              "size": 10,
              "solidity": 0.2
             }
            },
            "type": "histogram"
           }
          ],
          "histogram2d": [
           {
            "colorbar": {
             "outlinewidth": 0,
             "ticks": ""
            },
            "colorscale": [
             [
              0,
              "#0d0887"
             ],
             [
              0.1111111111111111,
              "#46039f"
             ],
             [
              0.2222222222222222,
              "#7201a8"
             ],
             [
              0.3333333333333333,
              "#9c179e"
             ],
             [
              0.4444444444444444,
              "#bd3786"
             ],
             [
              0.5555555555555556,
              "#d8576b"
             ],
             [
              0.6666666666666666,
              "#ed7953"
             ],
             [
              0.7777777777777778,
              "#fb9f3a"
             ],
             [
              0.8888888888888888,
              "#fdca26"
             ],
             [
              1,
              "#f0f921"
             ]
            ],
            "type": "histogram2d"
           }
          ],
          "histogram2dcontour": [
           {
            "colorbar": {
             "outlinewidth": 0,
             "ticks": ""
            },
            "colorscale": [
             [
              0,
              "#0d0887"
             ],
             [
              0.1111111111111111,
              "#46039f"
             ],
             [
              0.2222222222222222,
              "#7201a8"
             ],
             [
              0.3333333333333333,
              "#9c179e"
             ],
             [
              0.4444444444444444,
              "#bd3786"
             ],
             [
              0.5555555555555556,
              "#d8576b"
             ],
             [
              0.6666666666666666,
              "#ed7953"
             ],
             [
              0.7777777777777778,
              "#fb9f3a"
             ],
             [
              0.8888888888888888,
              "#fdca26"
             ],
             [
              1,
              "#f0f921"
             ]
            ],
            "type": "histogram2dcontour"
           }
          ],
          "mesh3d": [
           {
            "colorbar": {
             "outlinewidth": 0,
             "ticks": ""
            },
            "type": "mesh3d"
           }
          ],
          "parcoords": [
           {
            "line": {
             "colorbar": {
              "outlinewidth": 0,
              "ticks": ""
             }
            },
            "type": "parcoords"
           }
          ],
          "pie": [
           {
            "automargin": true,
            "type": "pie"
           }
          ],
          "scatter": [
           {
            "fillpattern": {
             "fillmode": "overlay",
             "size": 10,
             "solidity": 0.2
            },
            "type": "scatter"
           }
          ],
          "scatter3d": [
           {
            "line": {
             "colorbar": {
              "outlinewidth": 0,
              "ticks": ""
             }
            },
            "marker": {
             "colorbar": {
              "outlinewidth": 0,
              "ticks": ""
             }
            },
            "type": "scatter3d"
           }
          ],
          "scattercarpet": [
           {
            "marker": {
             "colorbar": {
              "outlinewidth": 0,
              "ticks": ""
             }
            },
            "type": "scattercarpet"
           }
          ],
          "scattergeo": [
           {
            "marker": {
             "colorbar": {
              "outlinewidth": 0,
              "ticks": ""
             }
            },
            "type": "scattergeo"
           }
          ],
          "scattergl": [
           {
            "marker": {
             "colorbar": {
              "outlinewidth": 0,
              "ticks": ""
             }
            },
            "type": "scattergl"
           }
          ],
          "scattermapbox": [
           {
            "marker": {
             "colorbar": {
              "outlinewidth": 0,
              "ticks": ""
             }
            },
            "type": "scattermapbox"
           }
          ],
          "scatterpolar": [
           {
            "marker": {
             "colorbar": {
              "outlinewidth": 0,
              "ticks": ""
             }
            },
            "type": "scatterpolar"
           }
          ],
          "scatterpolargl": [
           {
            "marker": {
             "colorbar": {
              "outlinewidth": 0,
              "ticks": ""
             }
            },
            "type": "scatterpolargl"
           }
          ],
          "scatterternary": [
           {
            "marker": {
             "colorbar": {
              "outlinewidth": 0,
              "ticks": ""
             }
            },
            "type": "scatterternary"
           }
          ],
          "surface": [
           {
            "colorbar": {
             "outlinewidth": 0,
             "ticks": ""
            },
            "colorscale": [
             [
              0,
              "#0d0887"
             ],
             [
              0.1111111111111111,
              "#46039f"
             ],
             [
              0.2222222222222222,
              "#7201a8"
             ],
             [
              0.3333333333333333,
              "#9c179e"
             ],
             [
              0.4444444444444444,
              "#bd3786"
             ],
             [
              0.5555555555555556,
              "#d8576b"
             ],
             [
              0.6666666666666666,
              "#ed7953"
             ],
             [
              0.7777777777777778,
              "#fb9f3a"
             ],
             [
              0.8888888888888888,
              "#fdca26"
             ],
             [
              1,
              "#f0f921"
             ]
            ],
            "type": "surface"
           }
          ],
          "table": [
           {
            "cells": {
             "fill": {
              "color": "#EBF0F8"
             },
             "line": {
              "color": "white"
             }
            },
            "header": {
             "fill": {
              "color": "#C8D4E3"
             },
             "line": {
              "color": "white"
             }
            },
            "type": "table"
           }
          ]
         },
         "layout": {
          "annotationdefaults": {
           "arrowcolor": "#2a3f5f",
           "arrowhead": 0,
           "arrowwidth": 1
          },
          "autotypenumbers": "strict",
          "coloraxis": {
           "colorbar": {
            "outlinewidth": 0,
            "ticks": ""
           }
          },
          "colorscale": {
           "diverging": [
            [
             0,
             "#8e0152"
            ],
            [
             0.1,
             "#c51b7d"
            ],
            [
             0.2,
             "#de77ae"
            ],
            [
             0.3,
             "#f1b6da"
            ],
            [
             0.4,
             "#fde0ef"
            ],
            [
             0.5,
             "#f7f7f7"
            ],
            [
             0.6,
             "#e6f5d0"
            ],
            [
             0.7,
             "#b8e186"
            ],
            [
             0.8,
             "#7fbc41"
            ],
            [
             0.9,
             "#4d9221"
            ],
            [
             1,
             "#276419"
            ]
           ],
           "sequential": [
            [
             0,
             "#0d0887"
            ],
            [
             0.1111111111111111,
             "#46039f"
            ],
            [
             0.2222222222222222,
             "#7201a8"
            ],
            [
             0.3333333333333333,
             "#9c179e"
            ],
            [
             0.4444444444444444,
             "#bd3786"
            ],
            [
             0.5555555555555556,
             "#d8576b"
            ],
            [
             0.6666666666666666,
             "#ed7953"
            ],
            [
             0.7777777777777778,
             "#fb9f3a"
            ],
            [
             0.8888888888888888,
             "#fdca26"
            ],
            [
             1,
             "#f0f921"
            ]
           ],
           "sequentialminus": [
            [
             0,
             "#0d0887"
            ],
            [
             0.1111111111111111,
             "#46039f"
            ],
            [
             0.2222222222222222,
             "#7201a8"
            ],
            [
             0.3333333333333333,
             "#9c179e"
            ],
            [
             0.4444444444444444,
             "#bd3786"
            ],
            [
             0.5555555555555556,
             "#d8576b"
            ],
            [
             0.6666666666666666,
             "#ed7953"
            ],
            [
             0.7777777777777778,
             "#fb9f3a"
            ],
            [
             0.8888888888888888,
             "#fdca26"
            ],
            [
             1,
             "#f0f921"
            ]
           ]
          },
          "colorway": [
           "#636efa",
           "#EF553B",
           "#00cc96",
           "#ab63fa",
           "#FFA15A",
           "#19d3f3",
           "#FF6692",
           "#B6E880",
           "#FF97FF",
           "#FECB52"
          ],
          "font": {
           "color": "#2a3f5f"
          },
          "geo": {
           "bgcolor": "white",
           "lakecolor": "white",
           "landcolor": "#E5ECF6",
           "showlakes": true,
           "showland": true,
           "subunitcolor": "white"
          },
          "hoverlabel": {
           "align": "left"
          },
          "hovermode": "closest",
          "mapbox": {
           "style": "light"
          },
          "paper_bgcolor": "white",
          "plot_bgcolor": "#E5ECF6",
          "polar": {
           "angularaxis": {
            "gridcolor": "white",
            "linecolor": "white",
            "ticks": ""
           },
           "bgcolor": "#E5ECF6",
           "radialaxis": {
            "gridcolor": "white",
            "linecolor": "white",
            "ticks": ""
           }
          },
          "scene": {
           "xaxis": {
            "backgroundcolor": "#E5ECF6",
            "gridcolor": "white",
            "gridwidth": 2,
            "linecolor": "white",
            "showbackground": true,
            "ticks": "",
            "zerolinecolor": "white"
           },
           "yaxis": {
            "backgroundcolor": "#E5ECF6",
            "gridcolor": "white",
            "gridwidth": 2,
            "linecolor": "white",
            "showbackground": true,
            "ticks": "",
            "zerolinecolor": "white"
           },
           "zaxis": {
            "backgroundcolor": "#E5ECF6",
            "gridcolor": "white",
            "gridwidth": 2,
            "linecolor": "white",
            "showbackground": true,
            "ticks": "",
            "zerolinecolor": "white"
           }
          },
          "shapedefaults": {
           "line": {
            "color": "#2a3f5f"
           }
          },
          "ternary": {
           "aaxis": {
            "gridcolor": "white",
            "linecolor": "white",
            "ticks": ""
           },
           "baxis": {
            "gridcolor": "white",
            "linecolor": "white",
            "ticks": ""
           },
           "bgcolor": "#E5ECF6",
           "caxis": {
            "gridcolor": "white",
            "linecolor": "white",
            "ticks": ""
           }
          },
          "title": {
           "x": 0.05
          },
          "xaxis": {
           "automargin": true,
           "gridcolor": "white",
           "linecolor": "white",
           "ticks": "",
           "title": {
            "standoff": 15
           },
           "zerolinecolor": "white",
           "zerolinewidth": 2
          },
          "yaxis": {
           "automargin": true,
           "gridcolor": "white",
           "linecolor": "white",
           "ticks": "",
           "title": {
            "standoff": 15
           },
           "zerolinecolor": "white",
           "zerolinewidth": 2
          }
         }
        },
        "title": {
         "text": "Geographical Contributions to MoMA Collection"
        }
       }
      },
      "text/html": [
       "<div>                            <div id=\"ca46189f-9954-4199-9a0e-1aace35771e3\" class=\"plotly-graph-div\" style=\"height:525px; width:100%;\"></div>            <script type=\"text/javascript\">                require([\"plotly\"], function(Plotly) {                    window.PLOTLYENV=window.PLOTLYENV || {};                                    if (document.getElementById(\"ca46189f-9954-4199-9a0e-1aace35771e3\")) {                    Plotly.newPlot(                        \"ca46189f-9954-4199-9a0e-1aace35771e3\",                        [{\"colorscale\":[[0.0,\"#636efa\"],[1.0,\"#636efa\"]],\"customdata\":[[\"Afghan\",1]],\"geo\":\"geo\",\"hovertemplate\":\"Nationality=%{customdata[0]}<br>Number of Contributions=%{customdata[1]}<extra></extra>\",\"locationmode\":\"country names\",\"locations\":[\"Afghan\"],\"name\":\"Afghan\",\"showlegend\":true,\"showscale\":false,\"z\":[1],\"type\":\"choropleth\"},{\"colorscale\":[[0.0,\"#EF553B\"],[1.0,\"#EF553B\"]],\"customdata\":[[\"Albanian\",21]],\"geo\":\"geo\",\"hovertemplate\":\"Nationality=%{customdata[0]}<br>Number of Contributions=%{customdata[1]}<extra></extra>\",\"locationmode\":\"country names\",\"locations\":[\"Albanian\"],\"name\":\"Albanian\",\"showlegend\":true,\"showscale\":false,\"z\":[1],\"type\":\"choropleth\"},{\"colorscale\":[[0.0,\"#00cc96\"],[1.0,\"#00cc96\"]],\"customdata\":[[\"Algerian\",3]],\"geo\":\"geo\",\"hovertemplate\":\"Nationality=%{customdata[0]}<br>Number of Contributions=%{customdata[1]}<extra></extra>\",\"locationmode\":\"country names\",\"locations\":[\"Algerian\"],\"name\":\"Algerian\",\"showlegend\":true,\"showscale\":false,\"z\":[1],\"type\":\"choropleth\"},{\"colorscale\":[[0.0,\"#ab63fa\"],[1.0,\"#ab63fa\"]],\"customdata\":[[\"American\",58388]],\"geo\":\"geo\",\"hovertemplate\":\"Nationality=%{customdata[0]}<br>Number of Contributions=%{customdata[1]}<extra></extra>\",\"locationmode\":\"country names\",\"locations\":[\"American\"],\"name\":\"American\",\"showlegend\":true,\"showscale\":false,\"z\":[1],\"type\":\"choropleth\"},{\"colorscale\":[[0.0,\"#FFA15A\"],[1.0,\"#FFA15A\"]],\"customdata\":[[\"Argentine\",864]],\"geo\":\"geo\",\"hovertemplate\":\"Nationality=%{customdata[0]}<br>Number of Contributions=%{customdata[1]}<extra></extra>\",\"locationmode\":\"country names\",\"locations\":[\"Argentine\"],\"name\":\"Argentine\",\"showlegend\":true,\"showscale\":false,\"z\":[1],\"type\":\"choropleth\"},{\"colorscale\":[[0.0,\"#19d3f3\"],[1.0,\"#19d3f3\"]],\"customdata\":[[\"Australian\",253]],\"geo\":\"geo\",\"hovertemplate\":\"Nationality=%{customdata[0]}<br>Number of Contributions=%{customdata[1]}<extra></extra>\",\"locationmode\":\"country names\",\"locations\":[\"Australian\"],\"name\":\"Australian\",\"showlegend\":true,\"showscale\":false,\"z\":[1],\"type\":\"choropleth\"},{\"colorscale\":[[0.0,\"#FF6692\"],[1.0,\"#FF6692\"]],\"customdata\":[[\"Austrian\",881]],\"geo\":\"geo\",\"hovertemplate\":\"Nationality=%{customdata[0]}<br>Number of Contributions=%{customdata[1]}<extra></extra>\",\"locationmode\":\"country names\",\"locations\":[\"Austrian\"],\"name\":\"Austrian\",\"showlegend\":true,\"showscale\":false,\"z\":[1],\"type\":\"choropleth\"},{\"colorscale\":[[0.0,\"#B6E880\"],[1.0,\"#B6E880\"]],\"customdata\":[[\"Azerbaijani\",2]],\"geo\":\"geo\",\"hovertemplate\":\"Nationality=%{customdata[0]}<br>Number of Contributions=%{customdata[1]}<extra></extra>\",\"locationmode\":\"country names\",\"locations\":[\"Azerbaijani\"],\"name\":\"Azerbaijani\",\"showlegend\":true,\"showscale\":false,\"z\":[1],\"type\":\"choropleth\"},{\"colorscale\":[[0.0,\"#FF97FF\"],[1.0,\"#FF97FF\"]],\"customdata\":[[\"Bahamian\",3]],\"geo\":\"geo\",\"hovertemplate\":\"Nationality=%{customdata[0]}<br>Number of Contributions=%{customdata[1]}<extra></extra>\",\"locationmode\":\"country names\",\"locations\":[\"Bahamian\"],\"name\":\"Bahamian\",\"showlegend\":true,\"showscale\":false,\"z\":[1],\"type\":\"choropleth\"},{\"colorscale\":[[0.0,\"#FECB52\"],[1.0,\"#FECB52\"]],\"customdata\":[[\"Bangladeshi\",2]],\"geo\":\"geo\",\"hovertemplate\":\"Nationality=%{customdata[0]}<br>Number of Contributions=%{customdata[1]}<extra></extra>\",\"locationmode\":\"country names\",\"locations\":[\"Bangladeshi\"],\"name\":\"Bangladeshi\",\"showlegend\":true,\"showscale\":false,\"z\":[1],\"type\":\"choropleth\"},{\"colorscale\":[[0.0,\"#636efa\"],[1.0,\"#636efa\"]],\"customdata\":[[\"Belgian\",1463]],\"geo\":\"geo\",\"hovertemplate\":\"Nationality=%{customdata[0]}<br>Number of Contributions=%{customdata[1]}<extra></extra>\",\"locationmode\":\"country names\",\"locations\":[\"Belgian\"],\"name\":\"Belgian\",\"showlegend\":true,\"showscale\":false,\"z\":[1],\"type\":\"choropleth\"},{\"colorscale\":[[0.0,\"#EF553B\"],[1.0,\"#EF553B\"]],\"customdata\":[[\"Beninese\",3]],\"geo\":\"geo\",\"hovertemplate\":\"Nationality=%{customdata[0]}<br>Number of Contributions=%{customdata[1]}<extra></extra>\",\"locationmode\":\"country names\",\"locations\":[\"Beninese\"],\"name\":\"Beninese\",\"showlegend\":true,\"showscale\":false,\"z\":[1],\"type\":\"choropleth\"},{\"colorscale\":[[0.0,\"#00cc96\"],[1.0,\"#00cc96\"]],\"customdata\":[[\"Bolivian\",4]],\"geo\":\"geo\",\"hovertemplate\":\"Nationality=%{customdata[0]}<br>Number of Contributions=%{customdata[1]}<extra></extra>\",\"locationmode\":\"country names\",\"locations\":[\"Bolivian\"],\"name\":\"Bolivian\",\"showlegend\":true,\"showscale\":false,\"z\":[1],\"type\":\"choropleth\"},{\"colorscale\":[[0.0,\"#ab63fa\"],[1.0,\"#ab63fa\"]],\"customdata\":[[\"Bosnian\",19]],\"geo\":\"geo\",\"hovertemplate\":\"Nationality=%{customdata[0]}<br>Number of Contributions=%{customdata[1]}<extra></extra>\",\"locationmode\":\"country names\",\"locations\":[\"Bosnian\"],\"name\":\"Bosnian\",\"showlegend\":true,\"showscale\":false,\"z\":[1],\"type\":\"choropleth\"},{\"colorscale\":[[0.0,\"#FFA15A\"],[1.0,\"#FFA15A\"]],\"customdata\":[[\"Brazilian\",836]],\"geo\":\"geo\",\"hovertemplate\":\"Nationality=%{customdata[0]}<br>Number of Contributions=%{customdata[1]}<extra></extra>\",\"locationmode\":\"country names\",\"locations\":[\"Brazilian\"],\"name\":\"Brazilian\",\"showlegend\":true,\"showscale\":false,\"z\":[1],\"type\":\"choropleth\"},{\"colorscale\":[[0.0,\"#19d3f3\"],[1.0,\"#19d3f3\"]],\"customdata\":[[\"British\",5659]],\"geo\":\"geo\",\"hovertemplate\":\"Nationality=%{customdata[0]}<br>Number of Contributions=%{customdata[1]}<extra></extra>\",\"locationmode\":\"country names\",\"locations\":[\"British\"],\"name\":\"British\",\"showlegend\":true,\"showscale\":false,\"z\":[1],\"type\":\"choropleth\"},{\"colorscale\":[[0.0,\"#FF6692\"],[1.0,\"#FF6692\"]],\"customdata\":[[\"Bulgarian\",12]],\"geo\":\"geo\",\"hovertemplate\":\"Nationality=%{customdata[0]}<br>Number of Contributions=%{customdata[1]}<extra></extra>\",\"locationmode\":\"country names\",\"locations\":[\"Bulgarian\"],\"name\":\"Bulgarian\",\"showlegend\":true,\"showscale\":false,\"z\":[1],\"type\":\"choropleth\"},{\"colorscale\":[[0.0,\"#B6E880\"],[1.0,\"#B6E880\"]],\"customdata\":[[\"Burkinab\\u00e9\",26]],\"geo\":\"geo\",\"hovertemplate\":\"Nationality=%{customdata[0]}<br>Number of Contributions=%{customdata[1]}<extra></extra>\",\"locationmode\":\"country names\",\"locations\":[\"Burkinab\\u00e9\"],\"name\":\"Burkinab\\u00e9\",\"showlegend\":true,\"showscale\":false,\"z\":[1],\"type\":\"choropleth\"},{\"colorscale\":[[0.0,\"#FF97FF\"],[1.0,\"#FF97FF\"]],\"customdata\":[[\"Cameroonian\",16]],\"geo\":\"geo\",\"hovertemplate\":\"Nationality=%{customdata[0]}<br>Number of Contributions=%{customdata[1]}<extra></extra>\",\"locationmode\":\"country names\",\"locations\":[\"Cameroonian\"],\"name\":\"Cameroonian\",\"showlegend\":true,\"showscale\":false,\"z\":[1],\"type\":\"choropleth\"},{\"colorscale\":[[0.0,\"#FECB52\"],[1.0,\"#FECB52\"]],\"customdata\":[[\"Canadian\",778]],\"geo\":\"geo\",\"hovertemplate\":\"Nationality=%{customdata[0]}<br>Number of Contributions=%{customdata[1]}<extra></extra>\",\"locationmode\":\"country names\",\"locations\":[\"Canadian\"],\"name\":\"Canadian\",\"showlegend\":true,\"showscale\":false,\"z\":[1],\"type\":\"choropleth\"},{\"colorscale\":[[0.0,\"#636efa\"],[1.0,\"#636efa\"]],\"customdata\":[[\"Canadian Inuit\",7]],\"geo\":\"geo\",\"hovertemplate\":\"Nationality=%{customdata[0]}<br>Number of Contributions=%{customdata[1]}<extra></extra>\",\"locationmode\":\"country names\",\"locations\":[\"Canadian Inuit\"],\"name\":\"Canadian Inuit\",\"showlegend\":true,\"showscale\":false,\"z\":[1],\"type\":\"choropleth\"},{\"colorscale\":[[0.0,\"#EF553B\"],[1.0,\"#EF553B\"]],\"customdata\":[[\"Chilean\",603]],\"geo\":\"geo\",\"hovertemplate\":\"Nationality=%{customdata[0]}<br>Number of Contributions=%{customdata[1]}<extra></extra>\",\"locationmode\":\"country names\",\"locations\":[\"Chilean\"],\"name\":\"Chilean\",\"showlegend\":true,\"showscale\":false,\"z\":[1],\"type\":\"choropleth\"},{\"colorscale\":[[0.0,\"#00cc96\"],[1.0,\"#00cc96\"]],\"customdata\":[[\"Chinese\",319]],\"geo\":\"geo\",\"hovertemplate\":\"Nationality=%{customdata[0]}<br>Number of Contributions=%{customdata[1]}<extra></extra>\",\"locationmode\":\"country names\",\"locations\":[\"Chinese\"],\"name\":\"Chinese\",\"showlegend\":true,\"showscale\":false,\"z\":[1],\"type\":\"choropleth\"},{\"colorscale\":[[0.0,\"#ab63fa\"],[1.0,\"#ab63fa\"]],\"customdata\":[[\"Colombian\",748]],\"geo\":\"geo\",\"hovertemplate\":\"Nationality=%{customdata[0]}<br>Number of Contributions=%{customdata[1]}<extra></extra>\",\"locationmode\":\"country names\",\"locations\":[\"Colombian\"],\"name\":\"Colombian\",\"showlegend\":true,\"showscale\":false,\"z\":[1],\"type\":\"choropleth\"},{\"colorscale\":[[0.0,\"#FFA15A\"],[1.0,\"#FFA15A\"]],\"customdata\":[[\"Congolese\",23]],\"geo\":\"geo\",\"hovertemplate\":\"Nationality=%{customdata[0]}<br>Number of Contributions=%{customdata[1]}<extra></extra>\",\"locationmode\":\"country names\",\"locations\":[\"Congolese\"],\"name\":\"Congolese\",\"showlegend\":true,\"showscale\":false,\"z\":[1],\"type\":\"choropleth\"},{\"colorscale\":[[0.0,\"#19d3f3\"],[1.0,\"#19d3f3\"]],\"customdata\":[[\"Coptic\",3]],\"geo\":\"geo\",\"hovertemplate\":\"Nationality=%{customdata[0]}<br>Number of Contributions=%{customdata[1]}<extra></extra>\",\"locationmode\":\"country names\",\"locations\":[\"Coptic\"],\"name\":\"Coptic\",\"showlegend\":true,\"showscale\":false,\"z\":[1],\"type\":\"choropleth\"},{\"colorscale\":[[0.0,\"#FF6692\"],[1.0,\"#FF6692\"]],\"customdata\":[[\"Costa Rican\",64]],\"geo\":\"geo\",\"hovertemplate\":\"Nationality=%{customdata[0]}<br>Number of Contributions=%{customdata[1]}<extra></extra>\",\"locationmode\":\"country names\",\"locations\":[\"Costa Rican\"],\"name\":\"Costa Rican\",\"showlegend\":true,\"showscale\":false,\"z\":[1],\"type\":\"choropleth\"},{\"colorscale\":[[0.0,\"#B6E880\"],[1.0,\"#B6E880\"]],\"customdata\":[[\"Croatian\",201]],\"geo\":\"geo\",\"hovertemplate\":\"Nationality=%{customdata[0]}<br>Number of Contributions=%{customdata[1]}<extra></extra>\",\"locationmode\":\"country names\",\"locations\":[\"Croatian\"],\"name\":\"Croatian\",\"showlegend\":true,\"showscale\":false,\"z\":[1],\"type\":\"choropleth\"},{\"colorscale\":[[0.0,\"#FF97FF\"],[1.0,\"#FF97FF\"]],\"customdata\":[[\"Cuban\",208]],\"geo\":\"geo\",\"hovertemplate\":\"Nationality=%{customdata[0]}<br>Number of Contributions=%{customdata[1]}<extra></extra>\",\"locationmode\":\"country names\",\"locations\":[\"Cuban\"],\"name\":\"Cuban\",\"showlegend\":true,\"showscale\":false,\"z\":[1],\"type\":\"choropleth\"},{\"colorscale\":[[0.0,\"#FECB52\"],[1.0,\"#FECB52\"]],\"customdata\":[[\"Czech\",765]],\"geo\":\"geo\",\"hovertemplate\":\"Nationality=%{customdata[0]}<br>Number of Contributions=%{customdata[1]}<extra></extra>\",\"locationmode\":\"country names\",\"locations\":[\"Czech\"],\"name\":\"Czech\",\"showlegend\":true,\"showscale\":false,\"z\":[1],\"type\":\"choropleth\"},{\"colorscale\":[[0.0,\"#636efa\"],[1.0,\"#636efa\"]],\"customdata\":[[\"Czechoslovakian\",4]],\"geo\":\"geo\",\"hovertemplate\":\"Nationality=%{customdata[0]}<br>Number of Contributions=%{customdata[1]}<extra></extra>\",\"locationmode\":\"country names\",\"locations\":[\"Czechoslovakian\"],\"name\":\"Czechoslovakian\",\"showlegend\":true,\"showscale\":false,\"z\":[1],\"type\":\"choropleth\"},{\"colorscale\":[[0.0,\"#EF553B\"],[1.0,\"#EF553B\"]],\"customdata\":[[\"Danish\",493]],\"geo\":\"geo\",\"hovertemplate\":\"Nationality=%{customdata[0]}<br>Number of Contributions=%{customdata[1]}<extra></extra>\",\"locationmode\":\"country names\",\"locations\":[\"Danish\"],\"name\":\"Danish\",\"showlegend\":true,\"showscale\":false,\"z\":[1],\"type\":\"choropleth\"},{\"colorscale\":[[0.0,\"#00cc96\"],[1.0,\"#00cc96\"]],\"customdata\":[[\"Dutch\",1592]],\"geo\":\"geo\",\"hovertemplate\":\"Nationality=%{customdata[0]}<br>Number of Contributions=%{customdata[1]}<extra></extra>\",\"locationmode\":\"country names\",\"locations\":[\"Dutch\"],\"name\":\"Dutch\",\"showlegend\":true,\"showscale\":false,\"z\":[1],\"type\":\"choropleth\"},{\"colorscale\":[[0.0,\"#ab63fa\"],[1.0,\"#ab63fa\"]],\"customdata\":[[\"Ecuadorian\",7]],\"geo\":\"geo\",\"hovertemplate\":\"Nationality=%{customdata[0]}<br>Number of Contributions=%{customdata[1]}<extra></extra>\",\"locationmode\":\"country names\",\"locations\":[\"Ecuadorian\"],\"name\":\"Ecuadorian\",\"showlegend\":true,\"showscale\":false,\"z\":[1],\"type\":\"choropleth\"},{\"colorscale\":[[0.0,\"#FFA15A\"],[1.0,\"#FFA15A\"]],\"customdata\":[[\"Egyptian\",72]],\"geo\":\"geo\",\"hovertemplate\":\"Nationality=%{customdata[0]}<br>Number of Contributions=%{customdata[1]}<extra></extra>\",\"locationmode\":\"country names\",\"locations\":[\"Egyptian\"],\"name\":\"Egyptian\",\"showlegend\":true,\"showscale\":false,\"z\":[1],\"type\":\"choropleth\"},{\"colorscale\":[[0.0,\"#19d3f3\"],[1.0,\"#19d3f3\"]],\"customdata\":[[\"Emirati\",6]],\"geo\":\"geo\",\"hovertemplate\":\"Nationality=%{customdata[0]}<br>Number of Contributions=%{customdata[1]}<extra></extra>\",\"locationmode\":\"country names\",\"locations\":[\"Emirati\"],\"name\":\"Emirati\",\"showlegend\":true,\"showscale\":false,\"z\":[1],\"type\":\"choropleth\"},{\"colorscale\":[[0.0,\"#FF6692\"],[1.0,\"#FF6692\"]],\"customdata\":[[\"Estonian\",2]],\"geo\":\"geo\",\"hovertemplate\":\"Nationality=%{customdata[0]}<br>Number of Contributions=%{customdata[1]}<extra></extra>\",\"locationmode\":\"country names\",\"locations\":[\"Estonian\"],\"name\":\"Estonian\",\"showlegend\":true,\"showscale\":false,\"z\":[1],\"type\":\"choropleth\"},{\"colorscale\":[[0.0,\"#B6E880\"],[1.0,\"#B6E880\"]],\"customdata\":[[\"Ethiopian\",6]],\"geo\":\"geo\",\"hovertemplate\":\"Nationality=%{customdata[0]}<br>Number of Contributions=%{customdata[1]}<extra></extra>\",\"locationmode\":\"country names\",\"locations\":[\"Ethiopian\"],\"name\":\"Ethiopian\",\"showlegend\":true,\"showscale\":false,\"z\":[1],\"type\":\"choropleth\"},{\"colorscale\":[[0.0,\"#FF97FF\"],[1.0,\"#FF97FF\"]],\"customdata\":[[\"Filipino\",2]],\"geo\":\"geo\",\"hovertemplate\":\"Nationality=%{customdata[0]}<br>Number of Contributions=%{customdata[1]}<extra></extra>\",\"locationmode\":\"country names\",\"locations\":[\"Filipino\"],\"name\":\"Filipino\",\"showlegend\":true,\"showscale\":false,\"z\":[1],\"type\":\"choropleth\"},{\"colorscale\":[[0.0,\"#FECB52\"],[1.0,\"#FECB52\"]],\"customdata\":[[\"Finnish\",220]],\"geo\":\"geo\",\"hovertemplate\":\"Nationality=%{customdata[0]}<br>Number of Contributions=%{customdata[1]}<extra></extra>\",\"locationmode\":\"country names\",\"locations\":[\"Finnish\"],\"name\":\"Finnish\",\"showlegend\":true,\"showscale\":false,\"z\":[1],\"type\":\"choropleth\"},{\"colorscale\":[[0.0,\"#636efa\"],[1.0,\"#636efa\"]],\"customdata\":[[\"French\",22789]],\"geo\":\"geo\",\"hovertemplate\":\"Nationality=%{customdata[0]}<br>Number of Contributions=%{customdata[1]}<extra></extra>\",\"locationmode\":\"country names\",\"locations\":[\"French\"],\"name\":\"French\",\"showlegend\":true,\"showscale\":false,\"z\":[1],\"type\":\"choropleth\"},{\"colorscale\":[[0.0,\"#EF553B\"],[1.0,\"#EF553B\"]],\"customdata\":[[\"Georgian\",49]],\"geo\":\"geo\",\"hovertemplate\":\"Nationality=%{customdata[0]}<br>Number of Contributions=%{customdata[1]}<extra></extra>\",\"locationmode\":\"country names\",\"locations\":[\"Georgian\"],\"name\":\"Georgian\",\"showlegend\":true,\"showscale\":false,\"z\":[1],\"type\":\"choropleth\"},{\"colorscale\":[[0.0,\"#00cc96\"],[1.0,\"#00cc96\"]],\"customdata\":[[\"German\",9527]],\"geo\":\"geo\",\"hovertemplate\":\"Nationality=%{customdata[0]}<br>Number of Contributions=%{customdata[1]}<extra></extra>\",\"locationmode\":\"country names\",\"locations\":[\"German\"],\"name\":\"German\",\"showlegend\":true,\"showscale\":false,\"z\":[1],\"type\":\"choropleth\"},{\"colorscale\":[[0.0,\"#ab63fa\"],[1.0,\"#ab63fa\"]],\"customdata\":[[\"Ghanaian\",8]],\"geo\":\"geo\",\"hovertemplate\":\"Nationality=%{customdata[0]}<br>Number of Contributions=%{customdata[1]}<extra></extra>\",\"locationmode\":\"country names\",\"locations\":[\"Ghanaian\"],\"name\":\"Ghanaian\",\"showlegend\":true,\"showscale\":false,\"z\":[1],\"type\":\"choropleth\"},{\"colorscale\":[[0.0,\"#FFA15A\"],[1.0,\"#FFA15A\"]],\"customdata\":[[\"Greek\",47]],\"geo\":\"geo\",\"hovertemplate\":\"Nationality=%{customdata[0]}<br>Number of Contributions=%{customdata[1]}<extra></extra>\",\"locationmode\":\"country names\",\"locations\":[\"Greek\"],\"name\":\"Greek\",\"showlegend\":true,\"showscale\":false,\"z\":[1],\"type\":\"choropleth\"},{\"colorscale\":[[0.0,\"#19d3f3\"],[1.0,\"#19d3f3\"]],\"customdata\":[[\"Guatemalan\",73]],\"geo\":\"geo\",\"hovertemplate\":\"Nationality=%{customdata[0]}<br>Number of Contributions=%{customdata[1]}<extra></extra>\",\"locationmode\":\"country names\",\"locations\":[\"Guatemalan\"],\"name\":\"Guatemalan\",\"showlegend\":true,\"showscale\":false,\"z\":[1],\"type\":\"choropleth\"},{\"colorscale\":[[0.0,\"#FF6692\"],[1.0,\"#FF6692\"]],\"customdata\":[[\"Haitian\",21]],\"geo\":\"geo\",\"hovertemplate\":\"Nationality=%{customdata[0]}<br>Number of Contributions=%{customdata[1]}<extra></extra>\",\"locationmode\":\"country names\",\"locations\":[\"Haitian\"],\"name\":\"Haitian\",\"showlegend\":true,\"showscale\":false,\"z\":[1],\"type\":\"choropleth\"},{\"colorscale\":[[0.0,\"#B6E880\"],[1.0,\"#B6E880\"]],\"customdata\":[[\"Hungarian\",157]],\"geo\":\"geo\",\"hovertemplate\":\"Nationality=%{customdata[0]}<br>Number of Contributions=%{customdata[1]}<extra></extra>\",\"locationmode\":\"country names\",\"locations\":[\"Hungarian\"],\"name\":\"Hungarian\",\"showlegend\":true,\"showscale\":false,\"z\":[1],\"type\":\"choropleth\"},{\"colorscale\":[[0.0,\"#FF97FF\"],[1.0,\"#FF97FF\"]],\"customdata\":[[\"Icelandic\",31]],\"geo\":\"geo\",\"hovertemplate\":\"Nationality=%{customdata[0]}<br>Number of Contributions=%{customdata[1]}<extra></extra>\",\"locationmode\":\"country names\",\"locations\":[\"Icelandic\"],\"name\":\"Icelandic\",\"showlegend\":true,\"showscale\":false,\"z\":[1],\"type\":\"choropleth\"},{\"colorscale\":[[0.0,\"#FECB52\"],[1.0,\"#FECB52\"]],\"customdata\":[[\"Indian\",214]],\"geo\":\"geo\",\"hovertemplate\":\"Nationality=%{customdata[0]}<br>Number of Contributions=%{customdata[1]}<extra></extra>\",\"locationmode\":\"country names\",\"locations\":[\"Indian\"],\"name\":\"Indian\",\"showlegend\":true,\"showscale\":false,\"z\":[1],\"type\":\"choropleth\"},{\"colorscale\":[[0.0,\"#636efa\"],[1.0,\"#636efa\"]],\"customdata\":[[\"Iranian\",17]],\"geo\":\"geo\",\"hovertemplate\":\"Nationality=%{customdata[0]}<br>Number of Contributions=%{customdata[1]}<extra></extra>\",\"locationmode\":\"country names\",\"locations\":[\"Iranian\"],\"name\":\"Iranian\",\"showlegend\":true,\"showscale\":false,\"z\":[1],\"type\":\"choropleth\"},{\"colorscale\":[[0.0,\"#EF553B\"],[1.0,\"#EF553B\"]],\"customdata\":[[\"Iraqi\",14]],\"geo\":\"geo\",\"hovertemplate\":\"Nationality=%{customdata[0]}<br>Number of Contributions=%{customdata[1]}<extra></extra>\",\"locationmode\":\"country names\",\"locations\":[\"Iraqi\"],\"name\":\"Iraqi\",\"showlegend\":true,\"showscale\":false,\"z\":[1],\"type\":\"choropleth\"},{\"colorscale\":[[0.0,\"#00cc96\"],[1.0,\"#00cc96\"]],\"customdata\":[[\"Irish\",26]],\"geo\":\"geo\",\"hovertemplate\":\"Nationality=%{customdata[0]}<br>Number of Contributions=%{customdata[1]}<extra></extra>\",\"locationmode\":\"country names\",\"locations\":[\"Irish\"],\"name\":\"Irish\",\"showlegend\":true,\"showscale\":false,\"z\":[1],\"type\":\"choropleth\"},{\"colorscale\":[[0.0,\"#ab63fa\"],[1.0,\"#ab63fa\"]],\"customdata\":[[\"Israeli\",344]],\"geo\":\"geo\",\"hovertemplate\":\"Nationality=%{customdata[0]}<br>Number of Contributions=%{customdata[1]}<extra></extra>\",\"locationmode\":\"country names\",\"locations\":[\"Israeli\"],\"name\":\"Israeli\",\"showlegend\":true,\"showscale\":false,\"z\":[1],\"type\":\"choropleth\"},{\"colorscale\":[[0.0,\"#FFA15A\"],[1.0,\"#FFA15A\"]],\"customdata\":[[\"Italian\",2772]],\"geo\":\"geo\",\"hovertemplate\":\"Nationality=%{customdata[0]}<br>Number of Contributions=%{customdata[1]}<extra></extra>\",\"locationmode\":\"country names\",\"locations\":[\"Italian\"],\"name\":\"Italian\",\"showlegend\":true,\"showscale\":false,\"z\":[1],\"type\":\"choropleth\"},{\"colorscale\":[[0.0,\"#19d3f3\"],[1.0,\"#19d3f3\"]],\"customdata\":[[\"Ivorian\",482]],\"geo\":\"geo\",\"hovertemplate\":\"Nationality=%{customdata[0]}<br>Number of Contributions=%{customdata[1]}<extra></extra>\",\"locationmode\":\"country names\",\"locations\":[\"Ivorian\"],\"name\":\"Ivorian\",\"showlegend\":true,\"showscale\":false,\"z\":[1],\"type\":\"choropleth\"},{\"colorscale\":[[0.0,\"#FF6692\"],[1.0,\"#FF6692\"]],\"customdata\":[[\"Japanese\",2427]],\"geo\":\"geo\",\"hovertemplate\":\"Nationality=%{customdata[0]}<br>Number of Contributions=%{customdata[1]}<extra></extra>\",\"locationmode\":\"country names\",\"locations\":[\"Japanese\"],\"name\":\"Japanese\",\"showlegend\":true,\"showscale\":false,\"z\":[1],\"type\":\"choropleth\"},{\"colorscale\":[[0.0,\"#B6E880\"],[1.0,\"#B6E880\"]],\"customdata\":[[\"Kenyan\",13]],\"geo\":\"geo\",\"hovertemplate\":\"Nationality=%{customdata[0]}<br>Number of Contributions=%{customdata[1]}<extra></extra>\",\"locationmode\":\"country names\",\"locations\":[\"Kenyan\"],\"name\":\"Kenyan\",\"showlegend\":true,\"showscale\":false,\"z\":[1],\"type\":\"choropleth\"},{\"colorscale\":[[0.0,\"#FF97FF\"],[1.0,\"#FF97FF\"]],\"customdata\":[[\"Korean\",91]],\"geo\":\"geo\",\"hovertemplate\":\"Nationality=%{customdata[0]}<br>Number of Contributions=%{customdata[1]}<extra></extra>\",\"locationmode\":\"country names\",\"locations\":[\"Korean\"],\"name\":\"Korean\",\"showlegend\":true,\"showscale\":false,\"z\":[1],\"type\":\"choropleth\"},{\"colorscale\":[[0.0,\"#FECB52\"],[1.0,\"#FECB52\"]],\"customdata\":[[\"Kuwaiti\",1]],\"geo\":\"geo\",\"hovertemplate\":\"Nationality=%{customdata[0]}<br>Number of Contributions=%{customdata[1]}<extra></extra>\",\"locationmode\":\"country names\",\"locations\":[\"Kuwaiti\"],\"name\":\"Kuwaiti\",\"showlegend\":true,\"showscale\":false,\"z\":[1],\"type\":\"choropleth\"},{\"colorscale\":[[0.0,\"#636efa\"],[1.0,\"#636efa\"]],\"customdata\":[[\"Latvian\",59]],\"geo\":\"geo\",\"hovertemplate\":\"Nationality=%{customdata[0]}<br>Number of Contributions=%{customdata[1]}<extra></extra>\",\"locationmode\":\"country names\",\"locations\":[\"Latvian\"],\"name\":\"Latvian\",\"showlegend\":true,\"showscale\":false,\"z\":[1],\"type\":\"choropleth\"},{\"colorscale\":[[0.0,\"#EF553B\"],[1.0,\"#EF553B\"]],\"customdata\":[[\"Lebanese\",54]],\"geo\":\"geo\",\"hovertemplate\":\"Nationality=%{customdata[0]}<br>Number of Contributions=%{customdata[1]}<extra></extra>\",\"locationmode\":\"country names\",\"locations\":[\"Lebanese\"],\"name\":\"Lebanese\",\"showlegend\":true,\"showscale\":false,\"z\":[1],\"type\":\"choropleth\"},{\"colorscale\":[[0.0,\"#00cc96\"],[1.0,\"#00cc96\"]],\"customdata\":[[\"Lithuanian\",20]],\"geo\":\"geo\",\"hovertemplate\":\"Nationality=%{customdata[0]}<br>Number of Contributions=%{customdata[1]}<extra></extra>\",\"locationmode\":\"country names\",\"locations\":[\"Lithuanian\"],\"name\":\"Lithuanian\",\"showlegend\":true,\"showscale\":false,\"z\":[1],\"type\":\"choropleth\"},{\"colorscale\":[[0.0,\"#ab63fa\"],[1.0,\"#ab63fa\"]],\"customdata\":[[\"Luxembourger\",43]],\"geo\":\"geo\",\"hovertemplate\":\"Nationality=%{customdata[0]}<br>Number of Contributions=%{customdata[1]}<extra></extra>\",\"locationmode\":\"country names\",\"locations\":[\"Luxembourger\"],\"name\":\"Luxembourger\",\"showlegend\":true,\"showscale\":false,\"z\":[1],\"type\":\"choropleth\"},{\"colorscale\":[[0.0,\"#FFA15A\"],[1.0,\"#FFA15A\"]],\"customdata\":[[\"Macedonian\",9]],\"geo\":\"geo\",\"hovertemplate\":\"Nationality=%{customdata[0]}<br>Number of Contributions=%{customdata[1]}<extra></extra>\",\"locationmode\":\"country names\",\"locations\":[\"Macedonian\"],\"name\":\"Macedonian\",\"showlegend\":true,\"showscale\":false,\"z\":[1],\"type\":\"choropleth\"},{\"colorscale\":[[0.0,\"#19d3f3\"],[1.0,\"#19d3f3\"]],\"customdata\":[[\"Malaysian\",5]],\"geo\":\"geo\",\"hovertemplate\":\"Nationality=%{customdata[0]}<br>Number of Contributions=%{customdata[1]}<extra></extra>\",\"locationmode\":\"country names\",\"locations\":[\"Malaysian\"],\"name\":\"Malaysian\",\"showlegend\":true,\"showscale\":false,\"z\":[1],\"type\":\"choropleth\"},{\"colorscale\":[[0.0,\"#FF6692\"],[1.0,\"#FF6692\"]],\"customdata\":[[\"Malian\",22]],\"geo\":\"geo\",\"hovertemplate\":\"Nationality=%{customdata[0]}<br>Number of Contributions=%{customdata[1]}<extra></extra>\",\"locationmode\":\"country names\",\"locations\":[\"Malian\"],\"name\":\"Malian\",\"showlegend\":true,\"showscale\":false,\"z\":[1],\"type\":\"choropleth\"},{\"colorscale\":[[0.0,\"#B6E880\"],[1.0,\"#B6E880\"]],\"customdata\":[[\"Mexican\",1332]],\"geo\":\"geo\",\"hovertemplate\":\"Nationality=%{customdata[0]}<br>Number of Contributions=%{customdata[1]}<extra></extra>\",\"locationmode\":\"country names\",\"locations\":[\"Mexican\"],\"name\":\"Mexican\",\"showlegend\":true,\"showscale\":false,\"z\":[1],\"type\":\"choropleth\"},{\"colorscale\":[[0.0,\"#FF97FF\"],[1.0,\"#FF97FF\"]],\"customdata\":[[\"Moroccan\",17]],\"geo\":\"geo\",\"hovertemplate\":\"Nationality=%{customdata[0]}<br>Number of Contributions=%{customdata[1]}<extra></extra>\",\"locationmode\":\"country names\",\"locations\":[\"Moroccan\"],\"name\":\"Moroccan\",\"showlegend\":true,\"showscale\":false,\"z\":[1],\"type\":\"choropleth\"},{\"colorscale\":[[0.0,\"#FECB52\"],[1.0,\"#FECB52\"]],\"customdata\":[[\"Mozambican\",4]],\"geo\":\"geo\",\"hovertemplate\":\"Nationality=%{customdata[0]}<br>Number of Contributions=%{customdata[1]}<extra></extra>\",\"locationmode\":\"country names\",\"locations\":[\"Mozambican\"],\"name\":\"Mozambican\",\"showlegend\":true,\"showscale\":false,\"z\":[1],\"type\":\"choropleth\"},{\"colorscale\":[[0.0,\"#636efa\"],[1.0,\"#636efa\"]],\"customdata\":[[\"Namibian\",2]],\"geo\":\"geo\",\"hovertemplate\":\"Nationality=%{customdata[0]}<br>Number of Contributions=%{customdata[1]}<extra></extra>\",\"locationmode\":\"country names\",\"locations\":[\"Namibian\"],\"name\":\"Namibian\",\"showlegend\":true,\"showscale\":false,\"z\":[1],\"type\":\"choropleth\"},{\"colorscale\":[[0.0,\"#EF553B\"],[1.0,\"#EF553B\"]],\"customdata\":[[\"Nationality unknown\",1180]],\"geo\":\"geo\",\"hovertemplate\":\"Nationality=%{customdata[0]}<br>Number of Contributions=%{customdata[1]}<extra></extra>\",\"locationmode\":\"country names\",\"locations\":[\"Nationality unknown\"],\"name\":\"Nationality unknown\",\"showlegend\":true,\"showscale\":false,\"z\":[1],\"type\":\"choropleth\"},{\"colorscale\":[[0.0,\"#00cc96\"],[1.0,\"#00cc96\"]],\"customdata\":[[\"Native American\",43]],\"geo\":\"geo\",\"hovertemplate\":\"Nationality=%{customdata[0]}<br>Number of Contributions=%{customdata[1]}<extra></extra>\",\"locationmode\":\"country names\",\"locations\":[\"Native American\"],\"name\":\"Native American\",\"showlegend\":true,\"showscale\":false,\"z\":[1],\"type\":\"choropleth\"},{\"colorscale\":[[0.0,\"#ab63fa\"],[1.0,\"#ab63fa\"]],\"customdata\":[[\"New Zealander\",9]],\"geo\":\"geo\",\"hovertemplate\":\"Nationality=%{customdata[0]}<br>Number of Contributions=%{customdata[1]}<extra></extra>\",\"locationmode\":\"country names\",\"locations\":[\"New Zealander\"],\"name\":\"New Zealander\",\"showlegend\":true,\"showscale\":false,\"z\":[1],\"type\":\"choropleth\"},{\"colorscale\":[[0.0,\"#FFA15A\"],[1.0,\"#FFA15A\"]],\"customdata\":[[\"Nicaraguan\",2]],\"geo\":\"geo\",\"hovertemplate\":\"Nationality=%{customdata[0]}<br>Number of Contributions=%{customdata[1]}<extra></extra>\",\"locationmode\":\"country names\",\"locations\":[\"Nicaraguan\"],\"name\":\"Nicaraguan\",\"showlegend\":true,\"showscale\":false,\"z\":[1],\"type\":\"choropleth\"},{\"colorscale\":[[0.0,\"#19d3f3\"],[1.0,\"#19d3f3\"]],\"customdata\":[[\"Nigerian\",45]],\"geo\":\"geo\",\"hovertemplate\":\"Nationality=%{customdata[0]}<br>Number of Contributions=%{customdata[1]}<extra></extra>\",\"locationmode\":\"country names\",\"locations\":[\"Nigerian\"],\"name\":\"Nigerian\",\"showlegend\":true,\"showscale\":false,\"z\":[1],\"type\":\"choropleth\"},{\"colorscale\":[[0.0,\"#FF6692\"],[1.0,\"#FF6692\"]],\"customdata\":[[\"Norwegian\",181]],\"geo\":\"geo\",\"hovertemplate\":\"Nationality=%{customdata[0]}<br>Number of Contributions=%{customdata[1]}<extra></extra>\",\"locationmode\":\"country names\",\"locations\":[\"Norwegian\"],\"name\":\"Norwegian\",\"showlegend\":true,\"showscale\":false,\"z\":[1],\"type\":\"choropleth\"},{\"colorscale\":[[0.0,\"#B6E880\"],[1.0,\"#B6E880\"]],\"customdata\":[[\"Pakistani\",50]],\"geo\":\"geo\",\"hovertemplate\":\"Nationality=%{customdata[0]}<br>Number of Contributions=%{customdata[1]}<extra></extra>\",\"locationmode\":\"country names\",\"locations\":[\"Pakistani\"],\"name\":\"Pakistani\",\"showlegend\":true,\"showscale\":false,\"z\":[1],\"type\":\"choropleth\"},{\"colorscale\":[[0.0,\"#FF97FF\"],[1.0,\"#FF97FF\"]],\"customdata\":[[\"Palestinian\",3]],\"geo\":\"geo\",\"hovertemplate\":\"Nationality=%{customdata[0]}<br>Number of Contributions=%{customdata[1]}<extra></extra>\",\"locationmode\":\"country names\",\"locations\":[\"Palestinian\"],\"name\":\"Palestinian\",\"showlegend\":true,\"showscale\":false,\"z\":[1],\"type\":\"choropleth\"},{\"colorscale\":[[0.0,\"#FECB52\"],[1.0,\"#FECB52\"]],\"customdata\":[[\"Panamanian\",4]],\"geo\":\"geo\",\"hovertemplate\":\"Nationality=%{customdata[0]}<br>Number of Contributions=%{customdata[1]}<extra></extra>\",\"locationmode\":\"country names\",\"locations\":[\"Panamanian\"],\"name\":\"Panamanian\",\"showlegend\":true,\"showscale\":false,\"z\":[1],\"type\":\"choropleth\"},{\"colorscale\":[[0.0,\"#636efa\"],[1.0,\"#636efa\"]],\"customdata\":[[\"Paraguayan\",2]],\"geo\":\"geo\",\"hovertemplate\":\"Nationality=%{customdata[0]}<br>Number of Contributions=%{customdata[1]}<extra></extra>\",\"locationmode\":\"country names\",\"locations\":[\"Paraguayan\"],\"name\":\"Paraguayan\",\"showlegend\":true,\"showscale\":false,\"z\":[1],\"type\":\"choropleth\"},{\"colorscale\":[[0.0,\"#EF553B\"],[1.0,\"#EF553B\"]],\"customdata\":[[\"Persian\",1]],\"geo\":\"geo\",\"hovertemplate\":\"Nationality=%{customdata[0]}<br>Number of Contributions=%{customdata[1]}<extra></extra>\",\"locationmode\":\"country names\",\"locations\":[\"Persian\"],\"name\":\"Persian\",\"showlegend\":true,\"showscale\":false,\"z\":[1],\"type\":\"choropleth\"},{\"colorscale\":[[0.0,\"#00cc96\"],[1.0,\"#00cc96\"]],\"customdata\":[[\"Peruvian\",114]],\"geo\":\"geo\",\"hovertemplate\":\"Nationality=%{customdata[0]}<br>Number of Contributions=%{customdata[1]}<extra></extra>\",\"locationmode\":\"country names\",\"locations\":[\"Peruvian\"],\"name\":\"Peruvian\",\"showlegend\":true,\"showscale\":false,\"z\":[1],\"type\":\"choropleth\"},{\"colorscale\":[[0.0,\"#ab63fa\"],[1.0,\"#ab63fa\"]],\"customdata\":[[\"Polish\",559]],\"geo\":\"geo\",\"hovertemplate\":\"Nationality=%{customdata[0]}<br>Number of Contributions=%{customdata[1]}<extra></extra>\",\"locationmode\":\"country names\",\"locations\":[\"Polish\"],\"name\":\"Polish\",\"showlegend\":true,\"showscale\":false,\"z\":[1],\"type\":\"choropleth\"},{\"colorscale\":[[0.0,\"#FFA15A\"],[1.0,\"#FFA15A\"]],\"customdata\":[[\"Portuguese\",144]],\"geo\":\"geo\",\"hovertemplate\":\"Nationality=%{customdata[0]}<br>Number of Contributions=%{customdata[1]}<extra></extra>\",\"locationmode\":\"country names\",\"locations\":[\"Portuguese\"],\"name\":\"Portuguese\",\"showlegend\":true,\"showscale\":false,\"z\":[1],\"type\":\"choropleth\"},{\"colorscale\":[[0.0,\"#19d3f3\"],[1.0,\"#19d3f3\"]],\"customdata\":[[\"Puerto Rican\",19]],\"geo\":\"geo\",\"hovertemplate\":\"Nationality=%{customdata[0]}<br>Number of Contributions=%{customdata[1]}<extra></extra>\",\"locationmode\":\"country names\",\"locations\":[\"Puerto Rican\"],\"name\":\"Puerto Rican\",\"showlegend\":true,\"showscale\":false,\"z\":[1],\"type\":\"choropleth\"},{\"colorscale\":[[0.0,\"#FF6692\"],[1.0,\"#FF6692\"]],\"customdata\":[[\"Romanian\",70]],\"geo\":\"geo\",\"hovertemplate\":\"Nationality=%{customdata[0]}<br>Number of Contributions=%{customdata[1]}<extra></extra>\",\"locationmode\":\"country names\",\"locations\":[\"Romanian\"],\"name\":\"Romanian\",\"showlegend\":true,\"showscale\":false,\"z\":[1],\"type\":\"choropleth\"},{\"colorscale\":[[0.0,\"#B6E880\"],[1.0,\"#B6E880\"]],\"customdata\":[[\"Russian\",2136]],\"geo\":\"geo\",\"hovertemplate\":\"Nationality=%{customdata[0]}<br>Number of Contributions=%{customdata[1]}<extra></extra>\",\"locationmode\":\"country names\",\"locations\":[\"Russian\"],\"name\":\"Russian\",\"showlegend\":true,\"showscale\":false,\"z\":[1],\"type\":\"choropleth\"},{\"colorscale\":[[0.0,\"#FF97FF\"],[1.0,\"#FF97FF\"]],\"customdata\":[[\"Salvadoran\",3]],\"geo\":\"geo\",\"hovertemplate\":\"Nationality=%{customdata[0]}<br>Number of Contributions=%{customdata[1]}<extra></extra>\",\"locationmode\":\"country names\",\"locations\":[\"Salvadoran\"],\"name\":\"Salvadoran\",\"showlegend\":true,\"showscale\":false,\"z\":[1],\"type\":\"choropleth\"},{\"colorscale\":[[0.0,\"#FECB52\"],[1.0,\"#FECB52\"]],\"customdata\":[[\"Scottish\",54]],\"geo\":\"geo\",\"hovertemplate\":\"Nationality=%{customdata[0]}<br>Number of Contributions=%{customdata[1]}<extra></extra>\",\"locationmode\":\"country names\",\"locations\":[\"Scottish\"],\"name\":\"Scottish\",\"showlegend\":true,\"showscale\":false,\"z\":[1],\"type\":\"choropleth\"},{\"colorscale\":[[0.0,\"#636efa\"],[1.0,\"#636efa\"]],\"customdata\":[[\"Senegalese\",2]],\"geo\":\"geo\",\"hovertemplate\":\"Nationality=%{customdata[0]}<br>Number of Contributions=%{customdata[1]}<extra></extra>\",\"locationmode\":\"country names\",\"locations\":[\"Senegalese\"],\"name\":\"Senegalese\",\"showlegend\":true,\"showscale\":false,\"z\":[1],\"type\":\"choropleth\"},{\"colorscale\":[[0.0,\"#EF553B\"],[1.0,\"#EF553B\"]],\"customdata\":[[\"Serbian\",174]],\"geo\":\"geo\",\"hovertemplate\":\"Nationality=%{customdata[0]}<br>Number of Contributions=%{customdata[1]}<extra></extra>\",\"locationmode\":\"country names\",\"locations\":[\"Serbian\"],\"name\":\"Serbian\",\"showlegend\":true,\"showscale\":false,\"z\":[1],\"type\":\"choropleth\"},{\"colorscale\":[[0.0,\"#00cc96\"],[1.0,\"#00cc96\"]],\"customdata\":[[\"Sierra Leonean\",1]],\"geo\":\"geo\",\"hovertemplate\":\"Nationality=%{customdata[0]}<br>Number of Contributions=%{customdata[1]}<extra></extra>\",\"locationmode\":\"country names\",\"locations\":[\"Sierra Leonean\"],\"name\":\"Sierra Leonean\",\"showlegend\":true,\"showscale\":false,\"z\":[1],\"type\":\"choropleth\"},{\"colorscale\":[[0.0,\"#ab63fa\"],[1.0,\"#ab63fa\"]],\"customdata\":[[\"Singaporean\",2]],\"geo\":\"geo\",\"hovertemplate\":\"Nationality=%{customdata[0]}<br>Number of Contributions=%{customdata[1]}<extra></extra>\",\"locationmode\":\"country names\",\"locations\":[\"Singaporean\"],\"name\":\"Singaporean\",\"showlegend\":true,\"showscale\":false,\"z\":[1],\"type\":\"choropleth\"},{\"colorscale\":[[0.0,\"#FFA15A\"],[1.0,\"#FFA15A\"]],\"customdata\":[[\"Slovak\",10]],\"geo\":\"geo\",\"hovertemplate\":\"Nationality=%{customdata[0]}<br>Number of Contributions=%{customdata[1]}<extra></extra>\",\"locationmode\":\"country names\",\"locations\":[\"Slovak\"],\"name\":\"Slovak\",\"showlegend\":true,\"showscale\":false,\"z\":[1],\"type\":\"choropleth\"},{\"colorscale\":[[0.0,\"#19d3f3\"],[1.0,\"#19d3f3\"]],\"customdata\":[[\"Slovenian\",53]],\"geo\":\"geo\",\"hovertemplate\":\"Nationality=%{customdata[0]}<br>Number of Contributions=%{customdata[1]}<extra></extra>\",\"locationmode\":\"country names\",\"locations\":[\"Slovenian\"],\"name\":\"Slovenian\",\"showlegend\":true,\"showscale\":false,\"z\":[1],\"type\":\"choropleth\"},{\"colorscale\":[[0.0,\"#FF6692\"],[1.0,\"#FF6692\"]],\"customdata\":[[\"South African\",400]],\"geo\":\"geo\",\"hovertemplate\":\"Nationality=%{customdata[0]}<br>Number of Contributions=%{customdata[1]}<extra></extra>\",\"locationmode\":\"country names\",\"locations\":[\"South African\"],\"name\":\"South African\",\"showlegend\":true,\"showscale\":false,\"z\":[1],\"type\":\"choropleth\"},{\"colorscale\":[[0.0,\"#B6E880\"],[1.0,\"#B6E880\"]],\"customdata\":[[\"Spanish\",3131]],\"geo\":\"geo\",\"hovertemplate\":\"Nationality=%{customdata[0]}<br>Number of Contributions=%{customdata[1]}<extra></extra>\",\"locationmode\":\"country names\",\"locations\":[\"Spanish\"],\"name\":\"Spanish\",\"showlegend\":true,\"showscale\":false,\"z\":[1],\"type\":\"choropleth\"},{\"colorscale\":[[0.0,\"#FF97FF\"],[1.0,\"#FF97FF\"]],\"customdata\":[[\"Sudanese\",62]],\"geo\":\"geo\",\"hovertemplate\":\"Nationality=%{customdata[0]}<br>Number of Contributions=%{customdata[1]}<extra></extra>\",\"locationmode\":\"country names\",\"locations\":[\"Sudanese\"],\"name\":\"Sudanese\",\"showlegend\":true,\"showscale\":false,\"z\":[1],\"type\":\"choropleth\"},{\"colorscale\":[[0.0,\"#FECB52\"],[1.0,\"#FECB52\"]],\"customdata\":[[\"Swedish\",298]],\"geo\":\"geo\",\"hovertemplate\":\"Nationality=%{customdata[0]}<br>Number of Contributions=%{customdata[1]}<extra></extra>\",\"locationmode\":\"country names\",\"locations\":[\"Swedish\"],\"name\":\"Swedish\",\"showlegend\":true,\"showscale\":false,\"z\":[1],\"type\":\"choropleth\"},{\"colorscale\":[[0.0,\"#636efa\"],[1.0,\"#636efa\"]],\"customdata\":[[\"Swiss\",2112]],\"geo\":\"geo\",\"hovertemplate\":\"Nationality=%{customdata[0]}<br>Number of Contributions=%{customdata[1]}<extra></extra>\",\"locationmode\":\"country names\",\"locations\":[\"Swiss\"],\"name\":\"Swiss\",\"showlegend\":true,\"showscale\":false,\"z\":[1],\"type\":\"choropleth\"},{\"colorscale\":[[0.0,\"#EF553B\"],[1.0,\"#EF553B\"]],\"customdata\":[[\"Taiwanese\",4]],\"geo\":\"geo\",\"hovertemplate\":\"Nationality=%{customdata[0]}<br>Number of Contributions=%{customdata[1]}<extra></extra>\",\"locationmode\":\"country names\",\"locations\":[\"Taiwanese\"],\"name\":\"Taiwanese\",\"showlegend\":true,\"showscale\":false,\"z\":[1],\"type\":\"choropleth\"},{\"colorscale\":[[0.0,\"#00cc96\"],[1.0,\"#00cc96\"]],\"customdata\":[[\"Tanzanian\",1]],\"geo\":\"geo\",\"hovertemplate\":\"Nationality=%{customdata[0]}<br>Number of Contributions=%{customdata[1]}<extra></extra>\",\"locationmode\":\"country names\",\"locations\":[\"Tanzanian\"],\"name\":\"Tanzanian\",\"showlegend\":true,\"showscale\":false,\"z\":[1],\"type\":\"choropleth\"},{\"colorscale\":[[0.0,\"#ab63fa\"],[1.0,\"#ab63fa\"]],\"customdata\":[[\"Thai\",25]],\"geo\":\"geo\",\"hovertemplate\":\"Nationality=%{customdata[0]}<br>Number of Contributions=%{customdata[1]}<extra></extra>\",\"locationmode\":\"country names\",\"locations\":[\"Thai\"],\"name\":\"Thai\",\"showlegend\":true,\"showscale\":false,\"z\":[1],\"type\":\"choropleth\"},{\"colorscale\":[[0.0,\"#FFA15A\"],[1.0,\"#FFA15A\"]],\"customdata\":[[\"Tunisian\",13]],\"geo\":\"geo\",\"hovertemplate\":\"Nationality=%{customdata[0]}<br>Number of Contributions=%{customdata[1]}<extra></extra>\",\"locationmode\":\"country names\",\"locations\":[\"Tunisian\"],\"name\":\"Tunisian\",\"showlegend\":true,\"showscale\":false,\"z\":[1],\"type\":\"choropleth\"},{\"colorscale\":[[0.0,\"#19d3f3\"],[1.0,\"#19d3f3\"]],\"customdata\":[[\"Turkish\",49]],\"geo\":\"geo\",\"hovertemplate\":\"Nationality=%{customdata[0]}<br>Number of Contributions=%{customdata[1]}<extra></extra>\",\"locationmode\":\"country names\",\"locations\":[\"Turkish\"],\"name\":\"Turkish\",\"showlegend\":true,\"showscale\":false,\"z\":[1],\"type\":\"choropleth\"},{\"colorscale\":[[0.0,\"#FF6692\"],[1.0,\"#FF6692\"]],\"customdata\":[[\"Ugandan\",1]],\"geo\":\"geo\",\"hovertemplate\":\"Nationality=%{customdata[0]}<br>Number of Contributions=%{customdata[1]}<extra></extra>\",\"locationmode\":\"country names\",\"locations\":[\"Ugandan\"],\"name\":\"Ugandan\",\"showlegend\":true,\"showscale\":false,\"z\":[1],\"type\":\"choropleth\"},{\"colorscale\":[[0.0,\"#B6E880\"],[1.0,\"#B6E880\"]],\"customdata\":[[\"Ukrainian\",74]],\"geo\":\"geo\",\"hovertemplate\":\"Nationality=%{customdata[0]}<br>Number of Contributions=%{customdata[1]}<extra></extra>\",\"locationmode\":\"country names\",\"locations\":[\"Ukrainian\"],\"name\":\"Ukrainian\",\"showlegend\":true,\"showscale\":false,\"z\":[1],\"type\":\"choropleth\"},{\"colorscale\":[[0.0,\"#FF97FF\"],[1.0,\"#FF97FF\"]],\"customdata\":[[\"Uruguayan\",89]],\"geo\":\"geo\",\"hovertemplate\":\"Nationality=%{customdata[0]}<br>Number of Contributions=%{customdata[1]}<extra></extra>\",\"locationmode\":\"country names\",\"locations\":[\"Uruguayan\"],\"name\":\"Uruguayan\",\"showlegend\":true,\"showscale\":false,\"z\":[1],\"type\":\"choropleth\"},{\"colorscale\":[[0.0,\"#FECB52\"],[1.0,\"#FECB52\"]],\"customdata\":[[\"Venezuelan\",496]],\"geo\":\"geo\",\"hovertemplate\":\"Nationality=%{customdata[0]}<br>Number of Contributions=%{customdata[1]}<extra></extra>\",\"locationmode\":\"country names\",\"locations\":[\"Venezuelan\"],\"name\":\"Venezuelan\",\"showlegend\":true,\"showscale\":false,\"z\":[1],\"type\":\"choropleth\"},{\"colorscale\":[[0.0,\"#636efa\"],[1.0,\"#636efa\"]],\"customdata\":[[\"Vietnamese\",1]],\"geo\":\"geo\",\"hovertemplate\":\"Nationality=%{customdata[0]}<br>Number of Contributions=%{customdata[1]}<extra></extra>\",\"locationmode\":\"country names\",\"locations\":[\"Vietnamese\"],\"name\":\"Vietnamese\",\"showlegend\":true,\"showscale\":false,\"z\":[1],\"type\":\"choropleth\"},{\"colorscale\":[[0.0,\"#EF553B\"],[1.0,\"#EF553B\"]],\"customdata\":[[\"Welsh\",3]],\"geo\":\"geo\",\"hovertemplate\":\"Nationality=%{customdata[0]}<br>Number of Contributions=%{customdata[1]}<extra></extra>\",\"locationmode\":\"country names\",\"locations\":[\"Welsh\"],\"name\":\"Welsh\",\"showlegend\":true,\"showscale\":false,\"z\":[1],\"type\":\"choropleth\"},{\"colorscale\":[[0.0,\"#00cc96\"],[1.0,\"#00cc96\"]],\"customdata\":[[\"Yugoslav\",1]],\"geo\":\"geo\",\"hovertemplate\":\"Nationality=%{customdata[0]}<br>Number of Contributions=%{customdata[1]}<extra></extra>\",\"locationmode\":\"country names\",\"locations\":[\"Yugoslav\"],\"name\":\"Yugoslav\",\"showlegend\":true,\"showscale\":false,\"z\":[1],\"type\":\"choropleth\"},{\"colorscale\":[[0.0,\"#ab63fa\"],[1.0,\"#ab63fa\"]],\"customdata\":[[\"Zimbabwean\",15]],\"geo\":\"geo\",\"hovertemplate\":\"Nationality=%{customdata[0]}<br>Number of Contributions=%{customdata[1]}<extra></extra>\",\"locationmode\":\"country names\",\"locations\":[\"Zimbabwean\"],\"name\":\"Zimbabwean\",\"showlegend\":true,\"showscale\":false,\"z\":[1],\"type\":\"choropleth\"}],                        {\"template\":{\"data\":{\"histogram2dcontour\":[{\"type\":\"histogram2dcontour\",\"colorbar\":{\"outlinewidth\":0,\"ticks\":\"\"},\"colorscale\":[[0.0,\"#0d0887\"],[0.1111111111111111,\"#46039f\"],[0.2222222222222222,\"#7201a8\"],[0.3333333333333333,\"#9c179e\"],[0.4444444444444444,\"#bd3786\"],[0.5555555555555556,\"#d8576b\"],[0.6666666666666666,\"#ed7953\"],[0.7777777777777778,\"#fb9f3a\"],[0.8888888888888888,\"#fdca26\"],[1.0,\"#f0f921\"]]}],\"choropleth\":[{\"type\":\"choropleth\",\"colorbar\":{\"outlinewidth\":0,\"ticks\":\"\"}}],\"histogram2d\":[{\"type\":\"histogram2d\",\"colorbar\":{\"outlinewidth\":0,\"ticks\":\"\"},\"colorscale\":[[0.0,\"#0d0887\"],[0.1111111111111111,\"#46039f\"],[0.2222222222222222,\"#7201a8\"],[0.3333333333333333,\"#9c179e\"],[0.4444444444444444,\"#bd3786\"],[0.5555555555555556,\"#d8576b\"],[0.6666666666666666,\"#ed7953\"],[0.7777777777777778,\"#fb9f3a\"],[0.8888888888888888,\"#fdca26\"],[1.0,\"#f0f921\"]]}],\"heatmap\":[{\"type\":\"heatmap\",\"colorbar\":{\"outlinewidth\":0,\"ticks\":\"\"},\"colorscale\":[[0.0,\"#0d0887\"],[0.1111111111111111,\"#46039f\"],[0.2222222222222222,\"#7201a8\"],[0.3333333333333333,\"#9c179e\"],[0.4444444444444444,\"#bd3786\"],[0.5555555555555556,\"#d8576b\"],[0.6666666666666666,\"#ed7953\"],[0.7777777777777778,\"#fb9f3a\"],[0.8888888888888888,\"#fdca26\"],[1.0,\"#f0f921\"]]}],\"heatmapgl\":[{\"type\":\"heatmapgl\",\"colorbar\":{\"outlinewidth\":0,\"ticks\":\"\"},\"colorscale\":[[0.0,\"#0d0887\"],[0.1111111111111111,\"#46039f\"],[0.2222222222222222,\"#7201a8\"],[0.3333333333333333,\"#9c179e\"],[0.4444444444444444,\"#bd3786\"],[0.5555555555555556,\"#d8576b\"],[0.6666666666666666,\"#ed7953\"],[0.7777777777777778,\"#fb9f3a\"],[0.8888888888888888,\"#fdca26\"],[1.0,\"#f0f921\"]]}],\"contourcarpet\":[{\"type\":\"contourcarpet\",\"colorbar\":{\"outlinewidth\":0,\"ticks\":\"\"}}],\"contour\":[{\"type\":\"contour\",\"colorbar\":{\"outlinewidth\":0,\"ticks\":\"\"},\"colorscale\":[[0.0,\"#0d0887\"],[0.1111111111111111,\"#46039f\"],[0.2222222222222222,\"#7201a8\"],[0.3333333333333333,\"#9c179e\"],[0.4444444444444444,\"#bd3786\"],[0.5555555555555556,\"#d8576b\"],[0.6666666666666666,\"#ed7953\"],[0.7777777777777778,\"#fb9f3a\"],[0.8888888888888888,\"#fdca26\"],[1.0,\"#f0f921\"]]}],\"surface\":[{\"type\":\"surface\",\"colorbar\":{\"outlinewidth\":0,\"ticks\":\"\"},\"colorscale\":[[0.0,\"#0d0887\"],[0.1111111111111111,\"#46039f\"],[0.2222222222222222,\"#7201a8\"],[0.3333333333333333,\"#9c179e\"],[0.4444444444444444,\"#bd3786\"],[0.5555555555555556,\"#d8576b\"],[0.6666666666666666,\"#ed7953\"],[0.7777777777777778,\"#fb9f3a\"],[0.8888888888888888,\"#fdca26\"],[1.0,\"#f0f921\"]]}],\"mesh3d\":[{\"type\":\"mesh3d\",\"colorbar\":{\"outlinewidth\":0,\"ticks\":\"\"}}],\"scatter\":[{\"fillpattern\":{\"fillmode\":\"overlay\",\"size\":10,\"solidity\":0.2},\"type\":\"scatter\"}],\"parcoords\":[{\"type\":\"parcoords\",\"line\":{\"colorbar\":{\"outlinewidth\":0,\"ticks\":\"\"}}}],\"scatterpolargl\":[{\"type\":\"scatterpolargl\",\"marker\":{\"colorbar\":{\"outlinewidth\":0,\"ticks\":\"\"}}}],\"bar\":[{\"error_x\":{\"color\":\"#2a3f5f\"},\"error_y\":{\"color\":\"#2a3f5f\"},\"marker\":{\"line\":{\"color\":\"#E5ECF6\",\"width\":0.5},\"pattern\":{\"fillmode\":\"overlay\",\"size\":10,\"solidity\":0.2}},\"type\":\"bar\"}],\"scattergeo\":[{\"type\":\"scattergeo\",\"marker\":{\"colorbar\":{\"outlinewidth\":0,\"ticks\":\"\"}}}],\"scatterpolar\":[{\"type\":\"scatterpolar\",\"marker\":{\"colorbar\":{\"outlinewidth\":0,\"ticks\":\"\"}}}],\"histogram\":[{\"marker\":{\"pattern\":{\"fillmode\":\"overlay\",\"size\":10,\"solidity\":0.2}},\"type\":\"histogram\"}],\"scattergl\":[{\"type\":\"scattergl\",\"marker\":{\"colorbar\":{\"outlinewidth\":0,\"ticks\":\"\"}}}],\"scatter3d\":[{\"type\":\"scatter3d\",\"line\":{\"colorbar\":{\"outlinewidth\":0,\"ticks\":\"\"}},\"marker\":{\"colorbar\":{\"outlinewidth\":0,\"ticks\":\"\"}}}],\"scattermapbox\":[{\"type\":\"scattermapbox\",\"marker\":{\"colorbar\":{\"outlinewidth\":0,\"ticks\":\"\"}}}],\"scatterternary\":[{\"type\":\"scatterternary\",\"marker\":{\"colorbar\":{\"outlinewidth\":0,\"ticks\":\"\"}}}],\"scattercarpet\":[{\"type\":\"scattercarpet\",\"marker\":{\"colorbar\":{\"outlinewidth\":0,\"ticks\":\"\"}}}],\"carpet\":[{\"aaxis\":{\"endlinecolor\":\"#2a3f5f\",\"gridcolor\":\"white\",\"linecolor\":\"white\",\"minorgridcolor\":\"white\",\"startlinecolor\":\"#2a3f5f\"},\"baxis\":{\"endlinecolor\":\"#2a3f5f\",\"gridcolor\":\"white\",\"linecolor\":\"white\",\"minorgridcolor\":\"white\",\"startlinecolor\":\"#2a3f5f\"},\"type\":\"carpet\"}],\"table\":[{\"cells\":{\"fill\":{\"color\":\"#EBF0F8\"},\"line\":{\"color\":\"white\"}},\"header\":{\"fill\":{\"color\":\"#C8D4E3\"},\"line\":{\"color\":\"white\"}},\"type\":\"table\"}],\"barpolar\":[{\"marker\":{\"line\":{\"color\":\"#E5ECF6\",\"width\":0.5},\"pattern\":{\"fillmode\":\"overlay\",\"size\":10,\"solidity\":0.2}},\"type\":\"barpolar\"}],\"pie\":[{\"automargin\":true,\"type\":\"pie\"}]},\"layout\":{\"autotypenumbers\":\"strict\",\"colorway\":[\"#636efa\",\"#EF553B\",\"#00cc96\",\"#ab63fa\",\"#FFA15A\",\"#19d3f3\",\"#FF6692\",\"#B6E880\",\"#FF97FF\",\"#FECB52\"],\"font\":{\"color\":\"#2a3f5f\"},\"hovermode\":\"closest\",\"hoverlabel\":{\"align\":\"left\"},\"paper_bgcolor\":\"white\",\"plot_bgcolor\":\"#E5ECF6\",\"polar\":{\"bgcolor\":\"#E5ECF6\",\"angularaxis\":{\"gridcolor\":\"white\",\"linecolor\":\"white\",\"ticks\":\"\"},\"radialaxis\":{\"gridcolor\":\"white\",\"linecolor\":\"white\",\"ticks\":\"\"}},\"ternary\":{\"bgcolor\":\"#E5ECF6\",\"aaxis\":{\"gridcolor\":\"white\",\"linecolor\":\"white\",\"ticks\":\"\"},\"baxis\":{\"gridcolor\":\"white\",\"linecolor\":\"white\",\"ticks\":\"\"},\"caxis\":{\"gridcolor\":\"white\",\"linecolor\":\"white\",\"ticks\":\"\"}},\"coloraxis\":{\"colorbar\":{\"outlinewidth\":0,\"ticks\":\"\"}},\"colorscale\":{\"sequential\":[[0.0,\"#0d0887\"],[0.1111111111111111,\"#46039f\"],[0.2222222222222222,\"#7201a8\"],[0.3333333333333333,\"#9c179e\"],[0.4444444444444444,\"#bd3786\"],[0.5555555555555556,\"#d8576b\"],[0.6666666666666666,\"#ed7953\"],[0.7777777777777778,\"#fb9f3a\"],[0.8888888888888888,\"#fdca26\"],[1.0,\"#f0f921\"]],\"sequentialminus\":[[0.0,\"#0d0887\"],[0.1111111111111111,\"#46039f\"],[0.2222222222222222,\"#7201a8\"],[0.3333333333333333,\"#9c179e\"],[0.4444444444444444,\"#bd3786\"],[0.5555555555555556,\"#d8576b\"],[0.6666666666666666,\"#ed7953\"],[0.7777777777777778,\"#fb9f3a\"],[0.8888888888888888,\"#fdca26\"],[1.0,\"#f0f921\"]],\"diverging\":[[0,\"#8e0152\"],[0.1,\"#c51b7d\"],[0.2,\"#de77ae\"],[0.3,\"#f1b6da\"],[0.4,\"#fde0ef\"],[0.5,\"#f7f7f7\"],[0.6,\"#e6f5d0\"],[0.7,\"#b8e186\"],[0.8,\"#7fbc41\"],[0.9,\"#4d9221\"],[1,\"#276419\"]]},\"xaxis\":{\"gridcolor\":\"white\",\"linecolor\":\"white\",\"ticks\":\"\",\"title\":{\"standoff\":15},\"zerolinecolor\":\"white\",\"automargin\":true,\"zerolinewidth\":2},\"yaxis\":{\"gridcolor\":\"white\",\"linecolor\":\"white\",\"ticks\":\"\",\"title\":{\"standoff\":15},\"zerolinecolor\":\"white\",\"automargin\":true,\"zerolinewidth\":2},\"scene\":{\"xaxis\":{\"backgroundcolor\":\"#E5ECF6\",\"gridcolor\":\"white\",\"linecolor\":\"white\",\"showbackground\":true,\"ticks\":\"\",\"zerolinecolor\":\"white\",\"gridwidth\":2},\"yaxis\":{\"backgroundcolor\":\"#E5ECF6\",\"gridcolor\":\"white\",\"linecolor\":\"white\",\"showbackground\":true,\"ticks\":\"\",\"zerolinecolor\":\"white\",\"gridwidth\":2},\"zaxis\":{\"backgroundcolor\":\"#E5ECF6\",\"gridcolor\":\"white\",\"linecolor\":\"white\",\"showbackground\":true,\"ticks\":\"\",\"zerolinecolor\":\"white\",\"gridwidth\":2}},\"shapedefaults\":{\"line\":{\"color\":\"#2a3f5f\"}},\"annotationdefaults\":{\"arrowcolor\":\"#2a3f5f\",\"arrowhead\":0,\"arrowwidth\":1},\"geo\":{\"bgcolor\":\"white\",\"landcolor\":\"#E5ECF6\",\"subunitcolor\":\"white\",\"showland\":true,\"showlakes\":true,\"lakecolor\":\"white\"},\"title\":{\"x\":0.05},\"mapbox\":{\"style\":\"light\"}}},\"geo\":{\"domain\":{\"x\":[0.0,1.0],\"y\":[0.0,1.0]},\"projection\":{\"type\":\"natural earth\"},\"center\":{}},\"legend\":{\"title\":{\"text\":\"Nationality\"},\"tracegroupgap\":0},\"title\":{\"text\":\"Geographical Contributions to MoMA Collection\"}},                        {\"responsive\": true}                    ).then(function(){\n",
       "                            \n",
       "var gd = document.getElementById('ca46189f-9954-4199-9a0e-1aace35771e3');\n",
       "var x = new MutationObserver(function (mutations, observer) {{\n",
       "        var display = window.getComputedStyle(gd).display;\n",
       "        if (!display || display === 'none') {{\n",
       "            console.log([gd, 'removed!']);\n",
       "            Plotly.purge(gd);\n",
       "            observer.disconnect();\n",
       "        }}\n",
       "}});\n",
       "\n",
       "// Listen for the removal of the full notebook cells\n",
       "var notebookContainer = gd.closest('#notebook-container');\n",
       "if (notebookContainer) {{\n",
       "    x.observe(notebookContainer, {childList: true});\n",
       "}}\n",
       "\n",
       "// Listen for the clearing of the current output cell\n",
       "var outputEl = gd.closest('.output');\n",
       "if (outputEl) {{\n",
       "    x.observe(outputEl, {childList: true});\n",
       "}}\n",
       "\n",
       "                        })                };                });            </script>        </div>"
      ]
     },
     "metadata": {},
     "output_type": "display_data"
    }
   ],
   "source": [
    "count = merged_df.groupby('Nationality_x').size().reset_index(name='Count')\n",
    "\n",
    "# ploting the graph\n",
    "world_map = px.choropleth(count, \n",
    "                          locations='Nationality_x', \n",
    "                          color='Nationality_x',\n",
    "                          title='Geographical Contributions to MoMA Collection',\n",
    "                          locationmode='country names',  \n",
    "                          labels={'Nationality_x': 'Nationality', 'Count': 'Number of Contributions'},\n",
    "                          projection='natural earth',\n",
    "                          color_continuous_scale=px.colors.sequential.Plasma,\n",
    "                          hover_data={'Nationality_x': True, 'Count': True})\n",
    "world_map.show()"
   ]
  },
  {
   "cell_type": "markdown",
   "id": "db7444e1",
   "metadata": {},
   "source": [
    "> The choropleth map is used to represent all the different nationalities that are there in the MOMA dataset for a comprehensive approach, when we hover over any country we can see the number of artists that belong to that particular nationality"
   ]
  },
  {
   "cell_type": "markdown",
   "id": "4b608da0",
   "metadata": {},
   "source": [
    "---"
   ]
  },
  {
   "cell_type": "markdown",
   "id": "232a8c82",
   "metadata": {},
   "source": [
    ">## Donut Graph\n",
    "> Purpose: Compare the number of artists by nationality."
   ]
  },
  {
   "cell_type": "code",
   "execution_count": 17,
   "id": "d5887117",
   "metadata": {},
   "outputs": [
    {
     "data": {
      "image/png": "[encoded data removed]",
      "text/plain": [
       "<Figure size 1200x800 with 1 Axes>"
      ]
     },
     "metadata": {},
     "output_type": "display_data"
    }
   ],
   "source": [
    "nation = merged_df['Nationality_x'].value_counts()\n",
    "top_nations = nation.head(5)\n",
    "\n",
    "# Plotting the graph\n",
    "plt.figure(figsize=(12, 8))\n",
    "plt.subplot(122)\n",
    "plt.pie(top_nations, labels=top_nations.index, colors=['#FFD1DC', '#FFB6C1', '#FFA07A', '#FFA07A', '#FFD700'], autopct=lambda p: '{:.0f}'.format(p * sum(top_nations) / 100), startangle=140, wedgeprops=dict(width=0.4))\n",
    "plt.title('Top 5 Nationalities with Maximum Artists')\n",
    "plt.gca().add_artist(plt.Circle((0,0),0.2,fc='white'))\n",
    "plt.text(0, 0, f'Total: {top_nations.sum()}', horizontalalignment='center', verticalalignment='center', fontsize=10)\n",
    "plt.axis('equal')\n",
    "\n",
    "plt.show()\n"
   ]
  },
  {
   "cell_type": "markdown",
   "id": "59612a99",
   "metadata": {},
   "source": [
    "> ### INSIGHTS:  \n",
    "> The donut graph above shows the top 5 nationalities with maximum number of artists along with the count of artists, highest being America with 54456 artists,followed by France with 18818 artists and at the third is Germany with 9001 artists "
   ]
  },
  {
   "cell_type": "markdown",
   "id": "d791253c",
   "metadata": {},
   "source": [
    "---"
   ]
  },
  {
   "cell_type": "markdown",
   "id": "82f85c3f",
   "metadata": {},
   "source": [
    "### The following visualizations depict a comparative analysis among the top 5 nationalities across various parameters, including department, artists, classification, credit line, and more"
   ]
  },
  {
   "cell_type": "code",
   "execution_count": 18,
   "id": "5cd999ae",
   "metadata": {},
   "outputs": [],
   "source": [
    "#Getting top 5 nationalities\n",
    "top_5 = merged_df['Nationality_x'].value_counts().head(5).index.tolist()\n",
    "top_data= merged_df[merged_df['Nationality_x'].isin(top_5)]\n",
    "#Defining a colour scheme\n",
    "colours = [\"#FF6F61\", \"#6B5B95\", \"#88B04B\", \"#F7CAC9\", \"#92A8D1\"]"
   ]
  },
  {
   "cell_type": "markdown",
   "id": "aeb899a6",
   "metadata": {},
   "source": [
    "> ## Stacked Bar Graph\n",
    "> Purpose: Compare artistic genres across top nationalities."
   ]
  },
  {
   "cell_type": "code",
   "execution_count": 19,
   "id": "ee4f7ba9",
   "metadata": {},
   "outputs": [
    {
     "data": {
      "image/png": "[encoded data removed]",
      "text/plain": [
       "<Figure size 1200x800 with 1 Axes>"
      ]
     },
     "metadata": {},
     "output_type": "display_data"
    }
   ],
   "source": [
    "group_class = top_data.groupby(['Nationality_x', 'Classification']).size().unstack(fill_value=0)\n",
    "top_class = group_class.sum().nlargest(5).index.tolist()\n",
    "\n",
    "group_class = group_class[top_class]\n",
    "\n",
    "# Ploting the graph\n",
    "group_class.plot(kind='bar', stacked=True, figsize=(12, 8), color = colours)\n",
    "plt.title('Distribution of Top 5 Classifications for Top 5 Nationalities')\n",
    "plt.xlabel('Nationality')\n",
    "plt.ylabel('Count of artworks')\n",
    "plt.xticks(rotation=45)\n",
    "plt.legend(title='Classification', bbox_to_anchor=(1.05, 1), loc='upper left')\n",
    "plt.show()\n"
   ]
  },
  {
   "cell_type": "markdown",
   "id": "e3025b2b",
   "metadata": {},
   "source": [
    "> ### INSIGHTS:\n",
    "> In America, photographs and prints exhibit similar levels of representation, both approximately at 15,000 instances, with drawing trailing slightly behind at around 8,000 instances. Illustrated books and designs show relatively lower contributions, indicating a less prominent presence in the collection. Conversely, in France, photographs and illustrated books emerge as dominant classifications. Germany displays a balanced distribution, Spain's contribution primarily centers around prints and illustrated books, with a limited presence of drawings. In Britain, photographs emerge as the dominant classification, suggesting a strong emphasis on this medium within their contributions.     "
   ]
  },
  {
   "cell_type": "markdown",
   "id": "9294d278",
   "metadata": {},
   "source": [
    "---"
   ]
  },
  {
   "cell_type": "markdown",
   "id": "0ff1a1b9",
   "metadata": {},
   "source": [
    "> ## Stacked Bar Graph\n",
    "> Purpose: Examine acquisition sources by nationality"
   ]
  },
  {
   "cell_type": "code",
   "execution_count": 23,
   "id": "11711e0b",
   "metadata": {},
   "outputs": [
    {
     "data": {
      "image/png": "[encoded data removed]",
      "text/plain": [
       "<Figure size 1200x400 with 1 Axes>"
      ]
     },
     "metadata": {},
     "output_type": "display_data"
    }
   ],
   "source": [
    "group_credit = top_data.groupby(['Nationality_x', 'Acquired_through']).size().unstack(fill_value=1)\n",
    "top_credit = group_credit.sum().nlargest(5).index.tolist()\n",
    "\n",
    "group_credit = group_credit[top_credit]\n",
    "\n",
    "# Ploting the graph\n",
    "group_credit.plot(kind='bar',  figsize=(12, 4), color=colours)\n",
    "plt.title('Distribution of Top 5 creditlines for Top 5 Nationalities')\n",
    "plt.xlabel('Nationality')\n",
    "plt.ylabel('Count')\n",
    "plt.legend(title='Acquired_through', bbox_to_anchor=(1.05, 1), loc='upper left')\n",
    "plt.show()\n"
   ]
  },
  {
   "cell_type": "markdown",
   "id": "097c572b",
   "metadata": {},
   "source": [
    "> ### INSIGHTS:\n",
    "> Notably, American art predominantly entered collections through gifts, totaling approximately 35,000 instances, followed by funds contributing around 10,000 instances. Similarly, in France, significant contributions come from gifts (12,000) and collections (10,000). In both Britain and Germany, gifts constitute the primary source, followed by funds, while other credit lines have minimal presence. Interestingly, Spain stands out as the only country with collections as the most significant contributor, with others being negligible."
   ]
  },
  {
   "cell_type": "markdown",
   "id": "1fc7c576",
   "metadata": {},
   "source": [
    "---"
   ]
  },
  {
   "cell_type": "markdown",
   "id": "3bc365d3",
   "metadata": {},
   "source": [
    ">## Line Plot\n",
    "> Purpose: Visualize number of artists over time."
   ]
  },
  {
   "cell_type": "code",
   "execution_count": 43,
   "id": "39d2007a",
   "metadata": {},
   "outputs": [
    {
     "data": {
      "image/png": "[encoded data removed]",
      "text/plain": [
       "<Figure size 1000x600 with 1 Axes>"
      ]
     },
     "metadata": {},
     "output_type": "display_data"
    }
   ],
   "source": [
    "group_trends = merged_df.groupby(['Date_acquired', 'Nationality_x']).size().unstack(fill_value=0)\n",
    "top_5n = group_trends.sum().nlargest(5).index\n",
    "top_years = group_trends.sum(axis=1).nlargest(25).index\n",
    "top_trends = group_trends[top_5n].loc[top_years]\n",
    "#sort\n",
    "top_years_sorted = sorted(top_years)\n",
    "\n",
    "# Plotting the graph \n",
    "top_trends.plot(kind='line', figsize=(10, 6), linewidth=2)\n",
    "plt.title('Artist Nationality Trends for Top 5 Nations and Top 5 Years')\n",
    "plt.xlabel('Year')\n",
    "plt.ylabel('Number of Artists')\n",
    "plt.grid(True)\n",
    "plt.legend(title='Nationality', bbox_to_anchor=(1.05, 1), loc='upper left')\n",
    "plt.xticks(range(0, len(top_years_sorted), len(top_years_sorted)//10), top_years_sorted[::len(top_years_sorted)//10], rotation=45)\n",
    "plt.show()"
   ]
  },
  {
   "cell_type": "markdown",
   "id": "ba446ea7",
   "metadata": {},
   "source": [
    "> ## INSIGHTS:\n",
    "> In America, the number of artists gradually declined, particularly evident between 1969 and 1971, with a notable decrease from 900 in 1928 to 550 in 2003. France exhibited relatively stable numbers of artists from 1928 to 1971, hovering around 100, followed by a sudden rise to almost 400 in 1972, after which it declined again. Similarly, Germany maintained a consistent number of artists from 1928 to 1975, around 100, before experiencing an increase to 300 in 1976. Spain and Britain showed relatively consistent numbers of artists throughout the years. "
   ]
  },
  {
   "cell_type": "markdown",
   "id": "88742bcb",
   "metadata": {},
   "source": [
    "---"
   ]
  },
  {
   "cell_type": "markdown",
   "id": "4d0cb269",
   "metadata": {},
   "source": [
    "> ## Interactive Bar Graph\n",
    "> Purpose: Explore departmental distributions interactively."
   ]
  },
  {
   "cell_type": "code",
   "execution_count": 59,
   "id": "77643b54",
   "metadata": {},
   "outputs": [
    {
     "data": {
      "application/vnd.jupyter.widget-view+json": {
       "model_id": "e5fb728bf2d44ecb9313346dfb49f2e6",
       "version_major": 2,
       "version_minor": 0
      },
      "text/plain": [
       "interactive(children=(Dropdown(description='Nationality:', options=('American', 'Spanish', 'Danish', 'French',…"
      ]
     },
     "execution_count": 59,
     "metadata": {},
     "output_type": "execute_result"
    }
   ],
   "source": [
    "def top_artists(nationality):\n",
    "    artist = merged_df[merged_df['Nationality_x'] == nationality]\n",
    "    top_artists = artist['DisplayName'].value_counts().nlargest(10)\n",
    "    \n",
    "    # Ploting the graph\n",
    "    plt.figure(figsize=(10, 6))\n",
    "    top_artists.plot(kind='bar', color='#FF6F61')\n",
    "    plt.title(f'Top 10 Departments from {nationality}')\n",
    "    plt.xlabel('Artist Name')\n",
    "    plt.ylabel('Artwork Count')\n",
    "    plt.xticks(rotation=45, ha='right')\n",
    "    plt.show()\n",
    "\n",
    "\n",
    "nationalities = merged_df['Nationality_x'].unique()\n",
    "#widget\n",
    "nationality_box = widgets.Dropdown(options=nationalities, description='Nationality:')\n",
    "#ploting the interactive graph\n",
    "interactive_plot = widgets.interactive(top_artists, nationality=nationality_box)\n",
    "interactive_plot"
   ]
  },
  {
   "cell_type": "markdown",
   "id": "e3bb186d",
   "metadata": {},
   "source": [
    "> ### INSIGHTS:\n",
    ">  the interactive bar graph offers valuable insights into the prominent artists and their contributions to the cultural heritage of different nations, shedding light on the diversity, richness, and interconnectedness of the global art scene.\n",
    "  \n",
    "> Through this graph it was observed that many nations like  Afghanistan, Iraq, Wales, the United Arab Emirates, and Bangladesh only have 1 or 2 artist whose works have been documented in moma collection.   "
   ]
  },
  {
   "cell_type": "markdown",
   "id": "a1946e6e",
   "metadata": {},
   "source": [
    "---"
   ]
  },
  {
   "cell_type": "markdown",
   "id": "cc307f8a",
   "metadata": {},
   "source": [
    "<hr style=\"border:1px solid black; width:98%\" />"
   ]
  }
 ],
 "metadata": {
  "kernelspec": {
   "display_name": "Python 3 (ipykernel)",
   "language": "python",
   "name": "python3"
  },
  "language_info": {
   "codemirror_mode": {
    "name": "ipython",
    "version": 3
   },
   "file_extension": ".py",
   "mimetype": "text/x-python",
   "name": "python",
   "nbconvert_exporter": "python",
   "pygments_lexer": "ipython3",
   "version": "3.11.5"
  }
 },
 "nbformat": 4,
 "nbformat_minor": 5
}
